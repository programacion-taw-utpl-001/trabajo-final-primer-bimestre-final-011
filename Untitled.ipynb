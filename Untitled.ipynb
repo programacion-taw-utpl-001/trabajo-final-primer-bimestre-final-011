{
 "cells": [
  {
   "cell_type": "markdown",
   "metadata": {},
   "source": [
    "# Integrantes: Cristhyan Bastidas, Jhonathan Ramírez\n",
    "\n",
    "##                             Tema: Visualicion de datos en PYTHON\n",
    "\n",
    "Objetivos:\n",
    "\n",
    "#### 1. Trasformar una base de datos con las librerias recomendadas, para poder realizar la observación de los datos.\n",
    "#### 2. Mostrar la visualización con el uso del bokeh y presentar las graficas.\n",
    "\n",
    "##                                                     Introducción:\n",
    "\n",
    "#   Jupyter Notebook\n",
    "\n",
    "Es una aplicación web que permite crear y compartir documentos que contienen código fuente, ecuaciones, visualizaciones y texto explicativo. Entre sus usos está la limpieza y transformación de datos, la simulación numérica, el modelado estadístico, el aprendizaje automático y mucho más. Instalación de jupyterNormalmente, se usa Jupyter junto a varias librerías: Numpy, Pandas, Scipy, Matplotlib, etc...\n",
    "\n",
    "Si ya usas Python, puedes usar pip para instalar Jupyter. El resto de librerías puede ser más complicado\n",
    "Si eres nuevo, te recomiendo usar Anaconda: Instala Jupyter y un montón de librerías ya compiladas, super sencillo y válido para Mac/Windows/Linux keywords: Install Anaconda\n",
    "Pandas\n",
    "\n",
    "#    Que es pandas\n",
    "\n",
    "Pandas es una librería para el análisis de datos que cuenta con las estructuras de datos que necesitamos para limpiar los datos en bruto y que sean aptos para el análisis (por ejemplo, tablas). Es importante señalar aquí que, dado que pandas lleva a cabo tareas importantes, como alinear datos para su comparación, fusionar conjuntos de datos, gestión de datos perdidos, etc., se ha convertido en una librería muy importante para procesar datos a alto nivel en Python (es decir, estadísticas ). Pandas fue diseñada originalmente para gestionar datos financieros, y como alternativo al uso de hojas de cálculo (es decir, Microsoft Excel).\n",
    "\n",
    "La estructura de datos básica de pandas se denomina DataFrame, que es una colección ordenada de columnas con nombres y tipos, parecido a una tabla de base de datos, donde una sola fila representa un único caso (ejemplo) y las columnas representan atributos particulares. Cabe señalar aquí que elementos en distintas columnas pueden ser de diferentes tipos.\n",
    "\n",
    "#    Bokeh:\n",
    "\n",
    "Una de las más jóvenes librerías de visualizaciones, pero no por ello menos potente. Bokeh es una librería para visualizaciones interactivas diseñada para funcionar en los navegadores web modernos. Su objetivo es proporcionar una construcción elegante y concisa de gráficos modernos al estilo de D3.js, y para ampliar esta capacidad con la interactividad y buen rendimiento sobre grandes volúmenes de datos. Bokeh puede ayudar a cualquier persona a crear en forma rápida y sencilla gráficos interactivos, dashboards y aplicaciones de datos. Puede crear tanto gráficos estáticos como gráficos interactivos en el servidor de Bokeh.\n",
    "\n",
    "Bokeh además de generar unos hermosos gráficos interactivos nos permite realizar gráficos complejos en forma muy sencilla. La interfase de alto nivel con la que vamos a trabajar principalmente para generar visualizaciones con esta librería es bokeh.charts. Repitamos los ejemplos que realizamos anteriormente sobre el dataset iris y veamos que sencillo que es realizarlos con Bokeh."
   ]
  },
  {
   "cell_type": "code",
   "execution_count": 89,
   "metadata": {},
   "outputs": [],
   "source": [
    "# El primer paso es importar la  libreia de pandas y definirlo como pd\n",
    "import pandas as pd"
   ]
  },
  {
   "cell_type": "code",
   "execution_count": 42,
   "metadata": {},
   "outputs": [],
   "source": [
    "# Luego para cargar nuestro csv utilizamos esta (pandas.read_csv():) de esta forma leemos el archivo  \n",
    "df1 = pd. read_csv ( \"062017_Tabulados_pobreza.csv\" )"
   ]
  },
  {
   "cell_type": "code",
   "execution_count": 43,
   "metadata": {},
   "outputs": [
    {
     "data": {
      "text/html": [
       "<div>\n",
       "<style scoped>\n",
       "    .dataframe tbody tr th:only-of-type {\n",
       "        vertical-align: middle;\n",
       "    }\n",
       "\n",
       "    .dataframe tbody tr th {\n",
       "        vertical-align: top;\n",
       "    }\n",
       "\n",
       "    .dataframe thead th {\n",
       "        text-align: right;\n",
       "    }\n",
       "</style>\n",
       "<table border=\"1\" class=\"dataframe\">\n",
       "  <thead>\n",
       "    <tr style=\"text-align: right;\">\n",
       "      <th></th>\n",
       "      <th>Meses</th>\n",
       "      <th>Periodo</th>\n",
       "      <th>Incidencia</th>\n",
       "      <th>Brecha</th>\n",
       "      <th>severidad</th>\n",
       "    </tr>\n",
       "  </thead>\n",
       "  <tbody>\n",
       "    <tr>\n",
       "      <th>0</th>\n",
       "      <td>Marzo</td>\n",
       "      <td>2014</td>\n",
       "      <td>24.6</td>\n",
       "      <td>8.6</td>\n",
       "      <td>4.3</td>\n",
       "    </tr>\n",
       "    <tr>\n",
       "      <th>1</th>\n",
       "      <td>Marzo</td>\n",
       "      <td>2015</td>\n",
       "      <td>24.1</td>\n",
       "      <td>8.9</td>\n",
       "      <td>4.7</td>\n",
       "    </tr>\n",
       "    <tr>\n",
       "      <th>2</th>\n",
       "      <td>Marzo</td>\n",
       "      <td>2016</td>\n",
       "      <td>25.4</td>\n",
       "      <td>9.9</td>\n",
       "      <td>5.5</td>\n",
       "    </tr>\n",
       "    <tr>\n",
       "      <th>3</th>\n",
       "      <td>Marzo</td>\n",
       "      <td>2017</td>\n",
       "      <td>24.4</td>\n",
       "      <td>9.1</td>\n",
       "      <td>4.8</td>\n",
       "    </tr>\n",
       "    <tr>\n",
       "      <th>4</th>\n",
       "      <td>Marzo</td>\n",
       "      <td>2007 (2)</td>\n",
       "      <td>-</td>\n",
       "      <td>-</td>\n",
       "      <td>-</td>\n",
       "    </tr>\n",
       "    <tr>\n",
       "      <th>5</th>\n",
       "      <td>Marzo</td>\n",
       "      <td>2008</td>\n",
       "      <td>35</td>\n",
       "      <td>14.2</td>\n",
       "      <td>8</td>\n",
       "    </tr>\n",
       "    <tr>\n",
       "      <th>6</th>\n",
       "      <td>Marzo</td>\n",
       "      <td>2009 (2)</td>\n",
       "      <td>-</td>\n",
       "      <td>-</td>\n",
       "      <td>-</td>\n",
       "    </tr>\n",
       "    <tr>\n",
       "      <th>7</th>\n",
       "      <td>Marzo</td>\n",
       "      <td>2010</td>\n",
       "      <td>33</td>\n",
       "      <td>13.7</td>\n",
       "      <td>7.8</td>\n",
       "    </tr>\n",
       "    <tr>\n",
       "      <th>8</th>\n",
       "      <td>Junio</td>\n",
       "      <td>2011</td>\n",
       "      <td>29.6</td>\n",
       "      <td>11.4</td>\n",
       "      <td>6.2</td>\n",
       "    </tr>\n",
       "    <tr>\n",
       "      <th>9</th>\n",
       "      <td>Junio</td>\n",
       "      <td>2012</td>\n",
       "      <td>25.3</td>\n",
       "      <td>9.4</td>\n",
       "      <td>4.9</td>\n",
       "    </tr>\n",
       "    <tr>\n",
       "      <th>10</th>\n",
       "      <td>Junio</td>\n",
       "      <td>2013</td>\n",
       "      <td>23.7</td>\n",
       "      <td>8.4</td>\n",
       "      <td>4.4</td>\n",
       "    </tr>\n",
       "    <tr>\n",
       "      <th>11</th>\n",
       "      <td>Junio</td>\n",
       "      <td>2014</td>\n",
       "      <td>24.5</td>\n",
       "      <td>8.5</td>\n",
       "      <td>4.2</td>\n",
       "    </tr>\n",
       "    <tr>\n",
       "      <th>12</th>\n",
       "      <td>Junio</td>\n",
       "      <td>2015</td>\n",
       "      <td>22</td>\n",
       "      <td>7.7</td>\n",
       "      <td>3.9</td>\n",
       "    </tr>\n",
       "    <tr>\n",
       "      <th>13</th>\n",
       "      <td>Junio</td>\n",
       "      <td>2016</td>\n",
       "      <td>23.7</td>\n",
       "      <td>8.6</td>\n",
       "      <td>4.6</td>\n",
       "    </tr>\n",
       "    <tr>\n",
       "      <th>14</th>\n",
       "      <td>Junio</td>\n",
       "      <td>2017</td>\n",
       "      <td>23.1</td>\n",
       "      <td>8.3</td>\n",
       "      <td>4.4</td>\n",
       "    </tr>\n",
       "    <tr>\n",
       "      <th>15</th>\n",
       "      <td>Junio</td>\n",
       "      <td>2014</td>\n",
       "      <td>24.8</td>\n",
       "      <td>8.7</td>\n",
       "      <td>4.4</td>\n",
       "    </tr>\n",
       "    <tr>\n",
       "      <th>16</th>\n",
       "      <td>Septiembre</td>\n",
       "      <td>2015</td>\n",
       "      <td>22.4</td>\n",
       "      <td>7.7</td>\n",
       "      <td>3.9</td>\n",
       "    </tr>\n",
       "    <tr>\n",
       "      <th>17</th>\n",
       "      <td>Septiembre</td>\n",
       "      <td>2016</td>\n",
       "      <td>22.6</td>\n",
       "      <td>8.1</td>\n",
       "      <td>4.2</td>\n",
       "    </tr>\n",
       "    <tr>\n",
       "      <th>18</th>\n",
       "      <td>Septiembre</td>\n",
       "      <td>2007</td>\n",
       "      <td>36.7</td>\n",
       "      <td>15.3</td>\n",
       "      <td>8.7</td>\n",
       "    </tr>\n",
       "    <tr>\n",
       "      <th>19</th>\n",
       "      <td>Septiembre</td>\n",
       "      <td>2008</td>\n",
       "      <td>35.1</td>\n",
       "      <td>14.5</td>\n",
       "      <td>8.1</td>\n",
       "    </tr>\n",
       "    <tr>\n",
       "      <th>20</th>\n",
       "      <td>Diciembre</td>\n",
       "      <td>2009</td>\n",
       "      <td>36</td>\n",
       "      <td>14.5</td>\n",
       "      <td>8</td>\n",
       "    </tr>\n",
       "    <tr>\n",
       "      <th>21</th>\n",
       "      <td>Diciembre</td>\n",
       "      <td>2010</td>\n",
       "      <td>32.8</td>\n",
       "      <td>12.7</td>\n",
       "      <td>6.8</td>\n",
       "    </tr>\n",
       "    <tr>\n",
       "      <th>22</th>\n",
       "      <td>Diciembre</td>\n",
       "      <td>2011</td>\n",
       "      <td>28.6</td>\n",
       "      <td>10.8</td>\n",
       "      <td>5.7</td>\n",
       "    </tr>\n",
       "    <tr>\n",
       "      <th>23</th>\n",
       "      <td>Diciembre</td>\n",
       "      <td>2012</td>\n",
       "      <td>27.3</td>\n",
       "      <td>10.5</td>\n",
       "      <td>5.8</td>\n",
       "    </tr>\n",
       "    <tr>\n",
       "      <th>24</th>\n",
       "      <td>Diciembre</td>\n",
       "      <td>2013</td>\n",
       "      <td>25.6</td>\n",
       "      <td>9</td>\n",
       "      <td>4.5</td>\n",
       "    </tr>\n",
       "    <tr>\n",
       "      <th>25</th>\n",
       "      <td>Diciembre</td>\n",
       "      <td>2014</td>\n",
       "      <td>22.5</td>\n",
       "      <td>7.9</td>\n",
       "      <td>4</td>\n",
       "    </tr>\n",
       "    <tr>\n",
       "      <th>26</th>\n",
       "      <td>Diciembre</td>\n",
       "      <td>2015</td>\n",
       "      <td>23.3</td>\n",
       "      <td>8.5</td>\n",
       "      <td>4.5</td>\n",
       "    </tr>\n",
       "    <tr>\n",
       "      <th>27</th>\n",
       "      <td>Diciembre</td>\n",
       "      <td>2016</td>\n",
       "      <td>22.9</td>\n",
       "      <td>8.6</td>\n",
       "      <td>4.7</td>\n",
       "    </tr>\n",
       "  </tbody>\n",
       "</table>\n",
       "</div>"
      ],
      "text/plain": [
       "         Meses       Periodo  Incidencia Brecha severidad\n",
       "0        Marzo           2014       24.6    8.6       4.3\n",
       "1        Marzo           2015       24.1    8.9       4.7\n",
       "2        Marzo           2016       25.4    9.9       5.5\n",
       "3        Marzo           2017       24.4    9.1       4.8\n",
       "4        Marzo       2007 (2)          -      -         -\n",
       "5        Marzo           2008         35   14.2         8\n",
       "6        Marzo       2009 (2)          -      -         -\n",
       "7        Marzo           2010         33   13.7       7.8\n",
       "8         Junio          2011       29.6   11.4       6.2\n",
       "9         Junio          2012       25.3    9.4       4.9\n",
       "10        Junio          2013       23.7    8.4       4.4\n",
       "11        Junio          2014       24.5    8.5       4.2\n",
       "12        Junio          2015         22    7.7       3.9\n",
       "13        Junio          2016       23.7    8.6       4.6\n",
       "14        Junio          2017       23.1    8.3       4.4\n",
       "15        Junio          2014       24.8    8.7       4.4\n",
       "16  Septiembre           2015       22.4    7.7       3.9\n",
       "17  Septiembre           2016       22.6    8.1       4.2\n",
       "18  Septiembre           2007       36.7   15.3       8.7\n",
       "19  Septiembre           2008       35.1   14.5       8.1\n",
       "20    Diciembre          2009         36   14.5         8\n",
       "21    Diciembre          2010       32.8   12.7       6.8\n",
       "22    Diciembre          2011       28.6   10.8       5.7\n",
       "23    Diciembre          2012       27.3   10.5       5.8\n",
       "24    Diciembre          2013       25.6      9       4.5\n",
       "25    Diciembre          2014       22.5    7.9         4\n",
       "26    Diciembre          2015       23.3    8.5       4.5\n",
       "27    Diciembre          2016       22.9    8.6       4.7"
      ]
     },
     "execution_count": 43,
     "metadata": {},
     "output_type": "execute_result"
    }
   ],
   "source": [
    "# luego de leer el archivo lo imprimimos  \n",
    "df1"
   ]
  },
  {
   "cell_type": "code",
   "execution_count": 44,
   "metadata": {},
   "outputs": [
    {
     "data": {
      "text/html": [
       "<div>\n",
       "<style scoped>\n",
       "    .dataframe tbody tr th:only-of-type {\n",
       "        vertical-align: middle;\n",
       "    }\n",
       "\n",
       "    .dataframe tbody tr th {\n",
       "        vertical-align: top;\n",
       "    }\n",
       "\n",
       "    .dataframe thead th {\n",
       "        text-align: right;\n",
       "    }\n",
       "</style>\n",
       "<table border=\"1\" class=\"dataframe\">\n",
       "  <thead>\n",
       "    <tr style=\"text-align: right;\">\n",
       "      <th></th>\n",
       "      <th>Meses</th>\n",
       "      <th>Periodo</th>\n",
       "    </tr>\n",
       "  </thead>\n",
       "  <tbody>\n",
       "    <tr>\n",
       "      <th>0</th>\n",
       "      <td>Marzo</td>\n",
       "      <td>2014</td>\n",
       "    </tr>\n",
       "    <tr>\n",
       "      <th>1</th>\n",
       "      <td>Marzo</td>\n",
       "      <td>2015</td>\n",
       "    </tr>\n",
       "    <tr>\n",
       "      <th>2</th>\n",
       "      <td>Marzo</td>\n",
       "      <td>2016</td>\n",
       "    </tr>\n",
       "  </tbody>\n",
       "</table>\n",
       "</div>"
      ],
      "text/plain": [
       "   Meses   Periodo \n",
       "0  Marzo       2014\n",
       "1  Marzo       2015\n",
       "2  Marzo       2016"
      ]
     },
     "execution_count": 44,
     "metadata": {},
     "output_type": "execute_result"
    }
   ],
   "source": [
    "# Pode extraer datos con una funcion de pandas basado en posición de esta forma podemos \n",
    "#dar la posicion de los datos que queremos extarer desde nuestro csv\n",
    "df1. iloc [ 0 : 3 , 0 : 2 ]"
   ]
  },
  {
   "cell_type": "code",
   "execution_count": 45,
   "metadata": {},
   "outputs": [
    {
     "data": {
      "text/html": [
       "<div>\n",
       "<style scoped>\n",
       "    .dataframe tbody tr th:only-of-type {\n",
       "        vertical-align: middle;\n",
       "    }\n",
       "\n",
       "    .dataframe tbody tr th {\n",
       "        vertical-align: top;\n",
       "    }\n",
       "\n",
       "    .dataframe thead th {\n",
       "        text-align: right;\n",
       "    }\n",
       "</style>\n",
       "<table border=\"1\" class=\"dataframe\">\n",
       "  <thead>\n",
       "    <tr style=\"text-align: right;\">\n",
       "      <th></th>\n",
       "      <th>Meses</th>\n",
       "      <th>Periodo</th>\n",
       "      <th>Incidencia</th>\n",
       "    </tr>\n",
       "  </thead>\n",
       "  <tbody>\n",
       "    <tr>\n",
       "      <th>0</th>\n",
       "      <td>Marzo</td>\n",
       "      <td>2014</td>\n",
       "      <td>24.6</td>\n",
       "    </tr>\n",
       "    <tr>\n",
       "      <th>1</th>\n",
       "      <td>Marzo</td>\n",
       "      <td>2015</td>\n",
       "      <td>24.1</td>\n",
       "    </tr>\n",
       "    <tr>\n",
       "      <th>2</th>\n",
       "      <td>Marzo</td>\n",
       "      <td>2016</td>\n",
       "      <td>25.4</td>\n",
       "    </tr>\n",
       "  </tbody>\n",
       "</table>\n",
       "</div>"
      ],
      "text/plain": [
       "   Meses   Periodo  Incidencia\n",
       "0  Marzo       2014       24.6\n",
       "1  Marzo       2015       24.1\n",
       "2  Marzo       2016       25.4"
      ]
     },
     "execution_count": 45,
     "metadata": {},
     "output_type": "execute_result"
    }
   ],
   "source": [
    "df1. iloc [ 0 : 3 , 0 : 3 ]"
   ]
  },
  {
   "cell_type": "raw",
   "metadata": {},
   "source": [
    "df1. iloc [ 0 : 4 , 0 : 5 ]"
   ]
  },
  {
   "cell_type": "code",
   "execution_count": 46,
   "metadata": {},
   "outputs": [
    {
     "data": {
      "text/html": [
       "<div>\n",
       "<style scoped>\n",
       "    .dataframe tbody tr th:only-of-type {\n",
       "        vertical-align: middle;\n",
       "    }\n",
       "\n",
       "    .dataframe tbody tr th {\n",
       "        vertical-align: top;\n",
       "    }\n",
       "\n",
       "    .dataframe thead th {\n",
       "        text-align: right;\n",
       "    }\n",
       "</style>\n",
       "<table border=\"1\" class=\"dataframe\">\n",
       "  <thead>\n",
       "    <tr style=\"text-align: right;\">\n",
       "      <th></th>\n",
       "      <th>Incidencia</th>\n",
       "      <th>Brecha</th>\n",
       "      <th>severidad</th>\n",
       "    </tr>\n",
       "  </thead>\n",
       "  <tbody>\n",
       "    <tr>\n",
       "      <th>0</th>\n",
       "      <td>24.6</td>\n",
       "      <td>8.6</td>\n",
       "      <td>4.3</td>\n",
       "    </tr>\n",
       "    <tr>\n",
       "      <th>1</th>\n",
       "      <td>24.1</td>\n",
       "      <td>8.9</td>\n",
       "      <td>4.7</td>\n",
       "    </tr>\n",
       "    <tr>\n",
       "      <th>2</th>\n",
       "      <td>25.4</td>\n",
       "      <td>9.9</td>\n",
       "      <td>5.5</td>\n",
       "    </tr>\n",
       "    <tr>\n",
       "      <th>3</th>\n",
       "      <td>24.4</td>\n",
       "      <td>9.1</td>\n",
       "      <td>4.8</td>\n",
       "    </tr>\n",
       "  </tbody>\n",
       "</table>\n",
       "</div>"
      ],
      "text/plain": [
       "  Incidencia Brecha severidad\n",
       "0       24.6    8.6       4.3\n",
       "1       24.1    8.9       4.7\n",
       "2       25.4    9.9       5.5\n",
       "3       24.4    9.1       4.8"
      ]
     },
     "execution_count": 46,
     "metadata": {},
     "output_type": "execute_result"
    }
   ],
   "source": [
    "# como podemos observar le podemos indicar la posicion que deseamos extraer desde nuestro csv \n",
    "df1. iloc [ 0 : 4 , 2 : 5 ]"
   ]
  },
  {
   "cell_type": "code",
   "execution_count": 47,
   "metadata": {},
   "outputs": [
    {
     "name": "stderr",
     "output_type": "stream",
     "text": [
      "/usr/local/lib/python2.7/dist-packages/ipykernel_launcher.py:2: DeprecationWarning: \n",
      ".ix is deprecated. Please use\n",
      ".loc for label based indexing or\n",
      ".iloc for positional indexing\n",
      "\n",
      "See the documentation here:\n",
      "http://pandas.pydata.org/pandas-docs/stable/indexing.html#ix-indexer-is-deprecated\n",
      "  \n"
     ]
    },
    {
     "data": {
      "text/html": [
       "<div>\n",
       "<style scoped>\n",
       "    .dataframe tbody tr th:only-of-type {\n",
       "        vertical-align: middle;\n",
       "    }\n",
       "\n",
       "    .dataframe tbody tr th {\n",
       "        vertical-align: top;\n",
       "    }\n",
       "\n",
       "    .dataframe thead th {\n",
       "        text-align: right;\n",
       "    }\n",
       "</style>\n",
       "<table border=\"1\" class=\"dataframe\">\n",
       "  <thead>\n",
       "    <tr style=\"text-align: right;\">\n",
       "      <th></th>\n",
       "      <th>Incidencia</th>\n",
       "      <th>Brecha</th>\n",
       "      <th>severidad</th>\n",
       "    </tr>\n",
       "  </thead>\n",
       "  <tbody>\n",
       "    <tr>\n",
       "      <th>0</th>\n",
       "      <td>24.6</td>\n",
       "      <td>8.6</td>\n",
       "      <td>4.3</td>\n",
       "    </tr>\n",
       "    <tr>\n",
       "      <th>1</th>\n",
       "      <td>24.1</td>\n",
       "      <td>8.9</td>\n",
       "      <td>4.7</td>\n",
       "    </tr>\n",
       "    <tr>\n",
       "      <th>2</th>\n",
       "      <td>25.4</td>\n",
       "      <td>9.9</td>\n",
       "      <td>5.5</td>\n",
       "    </tr>\n",
       "    <tr>\n",
       "      <th>3</th>\n",
       "      <td>24.4</td>\n",
       "      <td>9.1</td>\n",
       "      <td>4.8</td>\n",
       "    </tr>\n",
       "  </tbody>\n",
       "</table>\n",
       "</div>"
      ],
      "text/plain": [
       "  Incidencia Brecha severidad\n",
       "0       24.6    8.6       4.3\n",
       "1       24.1    8.9       4.7\n",
       "2       25.4    9.9       5.5\n",
       "3       24.4    9.1       4.8"
      ]
     },
     "execution_count": 47,
     "metadata": {},
     "output_type": "execute_result"
    }
   ],
   "source": [
    "# se puede dar la posicion inicial y el indice de inicio para poder extraer los datos que se nesecite \n",
    "df1. ix [ 0 : 3 , \"Incidencia\" : \"severidad\"]"
   ]
  },
  {
   "cell_type": "code",
   "execution_count": 48,
   "metadata": {},
   "outputs": [],
   "source": [
    "#haciendo uso de esta funcion se puede seleccionar las primeras filas de nuestros datos"
   ]
  },
  {
   "cell_type": "code",
   "execution_count": 49,
   "metadata": {},
   "outputs": [
    {
     "data": {
      "text/html": [
       "<div>\n",
       "<style scoped>\n",
       "    .dataframe tbody tr th:only-of-type {\n",
       "        vertical-align: middle;\n",
       "    }\n",
       "\n",
       "    .dataframe tbody tr th {\n",
       "        vertical-align: top;\n",
       "    }\n",
       "\n",
       "    .dataframe thead th {\n",
       "        text-align: right;\n",
       "    }\n",
       "</style>\n",
       "<table border=\"1\" class=\"dataframe\">\n",
       "  <thead>\n",
       "    <tr style=\"text-align: right;\">\n",
       "      <th></th>\n",
       "      <th>Meses</th>\n",
       "      <th>Periodo</th>\n",
       "      <th>Incidencia</th>\n",
       "      <th>Brecha</th>\n",
       "      <th>severidad</th>\n",
       "    </tr>\n",
       "  </thead>\n",
       "  <tbody>\n",
       "    <tr>\n",
       "      <th>0</th>\n",
       "      <td>Marzo</td>\n",
       "      <td>2014</td>\n",
       "      <td>24.6</td>\n",
       "      <td>8.6</td>\n",
       "      <td>4.3</td>\n",
       "    </tr>\n",
       "    <tr>\n",
       "      <th>1</th>\n",
       "      <td>Marzo</td>\n",
       "      <td>2015</td>\n",
       "      <td>24.1</td>\n",
       "      <td>8.9</td>\n",
       "      <td>4.7</td>\n",
       "    </tr>\n",
       "    <tr>\n",
       "      <th>2</th>\n",
       "      <td>Marzo</td>\n",
       "      <td>2016</td>\n",
       "      <td>25.4</td>\n",
       "      <td>9.9</td>\n",
       "      <td>5.5</td>\n",
       "    </tr>\n",
       "    <tr>\n",
       "      <th>3</th>\n",
       "      <td>Marzo</td>\n",
       "      <td>2017</td>\n",
       "      <td>24.4</td>\n",
       "      <td>9.1</td>\n",
       "      <td>4.8</td>\n",
       "    </tr>\n",
       "    <tr>\n",
       "      <th>4</th>\n",
       "      <td>Marzo</td>\n",
       "      <td>2007 (2)</td>\n",
       "      <td>-</td>\n",
       "      <td>-</td>\n",
       "      <td>-</td>\n",
       "    </tr>\n",
       "  </tbody>\n",
       "</table>\n",
       "</div>"
      ],
      "text/plain": [
       "   Meses       Periodo  Incidencia Brecha severidad\n",
       "0  Marzo           2014       24.6    8.6       4.3\n",
       "1  Marzo           2015       24.1    8.9       4.7\n",
       "2  Marzo           2016       25.4    9.9       5.5\n",
       "3  Marzo           2017       24.4    9.1       4.8\n",
       "4  Marzo       2007 (2)          -      -         -"
      ]
     },
     "execution_count": 49,
     "metadata": {},
     "output_type": "execute_result"
    }
   ],
   "source": [
    "df1.head()"
   ]
  },
  {
   "cell_type": "code",
   "execution_count": 50,
   "metadata": {},
   "outputs": [],
   "source": [
    "# con esta funcion se elimina la primera fila\n",
    "df1 = df1[1:]"
   ]
  },
  {
   "cell_type": "code",
   "execution_count": 51,
   "metadata": {},
   "outputs": [
    {
     "data": {
      "text/plain": [
       "(27, 5)"
      ]
     },
     "execution_count": 51,
     "metadata": {},
     "output_type": "execute_result"
    }
   ],
   "source": [
    "df1.shape # capos con los q contamos"
   ]
  },
  {
   "cell_type": "code",
   "execution_count": 52,
   "metadata": {},
   "outputs": [
    {
     "data": {
      "text/plain": [
       "RangeIndex(start=1, stop=28, step=1)"
      ]
     },
     "execution_count": 52,
     "metadata": {},
     "output_type": "execute_result"
    }
   ],
   "source": [
    "df1.index # regresa indice"
   ]
  },
  {
   "cell_type": "code",
   "execution_count": 53,
   "metadata": {},
   "outputs": [
    {
     "data": {
      "text/plain": [
       "Index([u'Meses ', u' Periodo ', u'Incidencia', u'Brecha', u'severidad'], dtype='object')"
      ]
     },
     "execution_count": 53,
     "metadata": {},
     "output_type": "execute_result"
    }
   ],
   "source": [
    "df1.columns"
   ]
  },
  {
   "cell_type": "code",
   "execution_count": 54,
   "metadata": {},
   "outputs": [],
   "source": [
    "df2 = df1.set_index('severidad')"
   ]
  },
  {
   "cell_type": "code",
   "execution_count": 55,
   "metadata": {},
   "outputs": [
    {
     "data": {
      "text/html": [
       "<div>\n",
       "<style scoped>\n",
       "    .dataframe tbody tr th:only-of-type {\n",
       "        vertical-align: middle;\n",
       "    }\n",
       "\n",
       "    .dataframe tbody tr th {\n",
       "        vertical-align: top;\n",
       "    }\n",
       "\n",
       "    .dataframe thead th {\n",
       "        text-align: right;\n",
       "    }\n",
       "</style>\n",
       "<table border=\"1\" class=\"dataframe\">\n",
       "  <thead>\n",
       "    <tr style=\"text-align: right;\">\n",
       "      <th></th>\n",
       "      <th>Meses</th>\n",
       "      <th>Periodo</th>\n",
       "      <th>Incidencia</th>\n",
       "      <th>Brecha</th>\n",
       "    </tr>\n",
       "    <tr>\n",
       "      <th>severidad</th>\n",
       "      <th></th>\n",
       "      <th></th>\n",
       "      <th></th>\n",
       "      <th></th>\n",
       "    </tr>\n",
       "  </thead>\n",
       "  <tbody>\n",
       "    <tr>\n",
       "      <th>4.7</th>\n",
       "      <td>Marzo</td>\n",
       "      <td>2015</td>\n",
       "      <td>24.1</td>\n",
       "      <td>8.9</td>\n",
       "    </tr>\n",
       "    <tr>\n",
       "      <th>5.5</th>\n",
       "      <td>Marzo</td>\n",
       "      <td>2016</td>\n",
       "      <td>25.4</td>\n",
       "      <td>9.9</td>\n",
       "    </tr>\n",
       "    <tr>\n",
       "      <th>4.8</th>\n",
       "      <td>Marzo</td>\n",
       "      <td>2017</td>\n",
       "      <td>24.4</td>\n",
       "      <td>9.1</td>\n",
       "    </tr>\n",
       "  </tbody>\n",
       "</table>\n",
       "</div>"
      ],
      "text/plain": [
       "           Meses   Periodo  Incidencia Brecha\n",
       "severidad                                    \n",
       "4.7        Marzo       2015       24.1    8.9\n",
       "5.5        Marzo       2016       25.4    9.9\n",
       "4.8        Marzo       2017       24.4    9.1"
      ]
     },
     "execution_count": 55,
     "metadata": {},
     "output_type": "execute_result"
    }
   ],
   "source": [
    "df2.head(3)"
   ]
  },
  {
   "cell_type": "code",
   "execution_count": 56,
   "metadata": {},
   "outputs": [
    {
     "data": {
      "text/html": [
       "<div>\n",
       "<style scoped>\n",
       "    .dataframe tbody tr th:only-of-type {\n",
       "        vertical-align: middle;\n",
       "    }\n",
       "\n",
       "    .dataframe tbody tr th {\n",
       "        vertical-align: top;\n",
       "    }\n",
       "\n",
       "    .dataframe thead th {\n",
       "        text-align: right;\n",
       "    }\n",
       "</style>\n",
       "<table border=\"1\" class=\"dataframe\">\n",
       "  <thead>\n",
       "    <tr style=\"text-align: right;\">\n",
       "      <th></th>\n",
       "      <th>Meses</th>\n",
       "      <th>Periodo</th>\n",
       "      <th>Incidencia</th>\n",
       "      <th>Brecha</th>\n",
       "      <th>severidad</th>\n",
       "    </tr>\n",
       "  </thead>\n",
       "  <tbody>\n",
       "    <tr>\n",
       "      <th>1</th>\n",
       "      <td>Marzo</td>\n",
       "      <td>2015</td>\n",
       "      <td>24.1</td>\n",
       "      <td>8.9</td>\n",
       "      <td>4.7</td>\n",
       "    </tr>\n",
       "    <tr>\n",
       "      <th>2</th>\n",
       "      <td>Marzo</td>\n",
       "      <td>2016</td>\n",
       "      <td>25.4</td>\n",
       "      <td>9.9</td>\n",
       "      <td>5.5</td>\n",
       "    </tr>\n",
       "    <tr>\n",
       "      <th>3</th>\n",
       "      <td>Marzo</td>\n",
       "      <td>2017</td>\n",
       "      <td>24.4</td>\n",
       "      <td>9.1</td>\n",
       "      <td>4.8</td>\n",
       "    </tr>\n",
       "    <tr>\n",
       "      <th>4</th>\n",
       "      <td>Marzo</td>\n",
       "      <td>2007 (2)</td>\n",
       "      <td>-</td>\n",
       "      <td>-</td>\n",
       "      <td>-</td>\n",
       "    </tr>\n",
       "    <tr>\n",
       "      <th>5</th>\n",
       "      <td>Marzo</td>\n",
       "      <td>2008</td>\n",
       "      <td>35</td>\n",
       "      <td>14.2</td>\n",
       "      <td>8</td>\n",
       "    </tr>\n",
       "  </tbody>\n",
       "</table>\n",
       "</div>"
      ],
      "text/plain": [
       "   Meses       Periodo  Incidencia Brecha severidad\n",
       "1  Marzo           2015       24.1    8.9       4.7\n",
       "2  Marzo           2016       25.4    9.9       5.5\n",
       "3  Marzo           2017       24.4    9.1       4.8\n",
       "4  Marzo       2007 (2)          -      -         -\n",
       "5  Marzo           2008         35   14.2         8"
      ]
     },
     "execution_count": 56,
     "metadata": {},
     "output_type": "execute_result"
    }
   ],
   "source": [
    "# aqui eliminamos los datos que no vamos a utilizar\n",
    "datos = df1.drop([], axis=1)\n",
    "datos.head()"
   ]
  },
  {
   "cell_type": "code",
   "execution_count": 57,
   "metadata": {},
   "outputs": [
    {
     "data": {
      "text/html": [
       "<div>\n",
       "<style scoped>\n",
       "    .dataframe tbody tr th:only-of-type {\n",
       "        vertical-align: middle;\n",
       "    }\n",
       "\n",
       "    .dataframe tbody tr th {\n",
       "        vertical-align: top;\n",
       "    }\n",
       "\n",
       "    .dataframe thead th {\n",
       "        text-align: right;\n",
       "    }\n",
       "</style>\n",
       "<table border=\"1\" class=\"dataframe\">\n",
       "  <thead>\n",
       "    <tr style=\"text-align: right;\">\n",
       "      <th></th>\n",
       "      <th>Meses</th>\n",
       "      <th>Anios</th>\n",
       "      <th>Incidencia</th>\n",
       "      <th>Brecha</th>\n",
       "      <th>Severidad</th>\n",
       "    </tr>\n",
       "  </thead>\n",
       "  <tbody>\n",
       "    <tr>\n",
       "      <th>1</th>\n",
       "      <td>Marzo</td>\n",
       "      <td>2015</td>\n",
       "      <td>24.1</td>\n",
       "      <td>8.9</td>\n",
       "      <td>4.7</td>\n",
       "    </tr>\n",
       "    <tr>\n",
       "      <th>2</th>\n",
       "      <td>Marzo</td>\n",
       "      <td>2016</td>\n",
       "      <td>25.4</td>\n",
       "      <td>9.9</td>\n",
       "      <td>5.5</td>\n",
       "    </tr>\n",
       "    <tr>\n",
       "      <th>3</th>\n",
       "      <td>Marzo</td>\n",
       "      <td>2017</td>\n",
       "      <td>24.4</td>\n",
       "      <td>9.1</td>\n",
       "      <td>4.8</td>\n",
       "    </tr>\n",
       "    <tr>\n",
       "      <th>4</th>\n",
       "      <td>Marzo</td>\n",
       "      <td>2007 (2)</td>\n",
       "      <td>-</td>\n",
       "      <td>-</td>\n",
       "      <td>-</td>\n",
       "    </tr>\n",
       "    <tr>\n",
       "      <th>5</th>\n",
       "      <td>Marzo</td>\n",
       "      <td>2008</td>\n",
       "      <td>35</td>\n",
       "      <td>14.2</td>\n",
       "      <td>8</td>\n",
       "    </tr>\n",
       "  </tbody>\n",
       "</table>\n",
       "</div>"
      ],
      "text/plain": [
       "    Meses         Anios Incidencia Brecha Severidad\n",
       "1  Marzo           2015       24.1    8.9       4.7\n",
       "2  Marzo           2016       25.4    9.9       5.5\n",
       "3  Marzo           2017       24.4    9.1       4.8\n",
       "4  Marzo       2007 (2)          -      -         -\n",
       "5  Marzo           2008         35   14.2         8"
      ]
     },
     "execution_count": 57,
     "metadata": {},
     "output_type": "execute_result"
    }
   ],
   "source": [
    "#cambiamos los nombres para poder usar en la grafica\n",
    "datos.columns = ['Meses', 'Anios', 'Incidencia','Brecha','Severidad']\n",
    "datos.head()"
   ]
  },
  {
   "cell_type": "code",
   "execution_count": 48,
   "metadata": {},
   "outputs": [
    {
     "data": {
      "text/html": [
       "\n",
       "    <div class=\"bk-root\">\n",
       "        <a href=\"https://bokeh.pydata.org\" target=\"_blank\" class=\"bk-logo bk-logo-small bk-logo-notebook\"></a>\n",
       "        <span id=\"2ebdeb0d-cf37-4785-bd6e-e73756ffd415\">Loading BokehJS ...</span>\n",
       "    </div>"
      ]
     },
     "metadata": {},
     "output_type": "display_data"
    },
    {
     "data": {
      "application/javascript": [
       "\n",
       "(function(root) {\n",
       "  function now() {\n",
       "    return new Date();\n",
       "  }\n",
       "\n",
       "  var force = true;\n",
       "\n",
       "  if (typeof (root._bokeh_onload_callbacks) === \"undefined\" || force === true) {\n",
       "    root._bokeh_onload_callbacks = [];\n",
       "    root._bokeh_is_loading = undefined;\n",
       "  }\n",
       "\n",
       "  var JS_MIME_TYPE = 'application/javascript';\n",
       "  var HTML_MIME_TYPE = 'text/html';\n",
       "  var EXEC_MIME_TYPE = 'application/vnd.bokehjs_exec.v0+json';\n",
       "  var CLASS_NAME = 'output_bokeh rendered_html';\n",
       "\n",
       "  /**\n",
       "   * Render data to the DOM node\n",
       "   */\n",
       "  function render(props, node) {\n",
       "    var script = document.createElement(\"script\");\n",
       "    node.appendChild(script);\n",
       "  }\n",
       "\n",
       "  /**\n",
       "   * Handle when an output is cleared or removed\n",
       "   */\n",
       "  function handleClearOutput(event, handle) {\n",
       "    var cell = handle.cell;\n",
       "\n",
       "    var id = cell.output_area._bokeh_element_id;\n",
       "    var server_id = cell.output_area._bokeh_server_id;\n",
       "    // Clean up Bokeh references\n",
       "    if (id !== undefined) {\n",
       "      Bokeh.index[id].model.document.clear();\n",
       "      delete Bokeh.index[id];\n",
       "    }\n",
       "\n",
       "    if (server_id !== undefined) {\n",
       "      // Clean up Bokeh references\n",
       "      var cmd = \"from bokeh.io.state import curstate; print(curstate().uuid_to_server['\" + server_id + \"'].get_sessions()[0].document.roots[0]._id)\";\n",
       "      cell.notebook.kernel.execute(cmd, {\n",
       "        iopub: {\n",
       "          output: function(msg) {\n",
       "            var element_id = msg.content.text.trim();\n",
       "            Bokeh.index[element_id].model.document.clear();\n",
       "            delete Bokeh.index[element_id];\n",
       "          }\n",
       "        }\n",
       "      });\n",
       "      // Destroy server and session\n",
       "      var cmd = \"import bokeh.io.notebook as ion; ion.destroy_server('\" + server_id + \"')\";\n",
       "      cell.notebook.kernel.execute(cmd);\n",
       "    }\n",
       "  }\n",
       "\n",
       "  /**\n",
       "   * Handle when a new output is added\n",
       "   */\n",
       "  function handleAddOutput(event, handle) {\n",
       "    var output_area = handle.output_area;\n",
       "    var output = handle.output;\n",
       "\n",
       "    // limit handleAddOutput to display_data with EXEC_MIME_TYPE content only\n",
       "    if ((output.output_type != \"display_data\") || (!output.data.hasOwnProperty(EXEC_MIME_TYPE))) {\n",
       "      return\n",
       "    }\n",
       "\n",
       "    var toinsert = output_area.element.find(`.${CLASS_NAME.split(' ')[0]}`);\n",
       "\n",
       "    if (output.metadata[EXEC_MIME_TYPE][\"id\"] !== undefined) {\n",
       "      toinsert[0].firstChild.textContent = output.data[JS_MIME_TYPE];\n",
       "      // store reference to embed id on output_area\n",
       "      output_area._bokeh_element_id = output.metadata[EXEC_MIME_TYPE][\"id\"];\n",
       "    }\n",
       "    if (output.metadata[EXEC_MIME_TYPE][\"server_id\"] !== undefined) {\n",
       "      var bk_div = document.createElement(\"div\");\n",
       "      bk_div.innerHTML = output.data[HTML_MIME_TYPE];\n",
       "      var script_attrs = bk_div.children[0].attributes;\n",
       "      for (var i = 0; i < script_attrs.length; i++) {\n",
       "        toinsert[0].firstChild.setAttribute(script_attrs[i].name, script_attrs[i].value);\n",
       "      }\n",
       "      // store reference to server id on output_area\n",
       "      output_area._bokeh_server_id = output.metadata[EXEC_MIME_TYPE][\"server_id\"];\n",
       "    }\n",
       "  }\n",
       "\n",
       "  function register_renderer(events, OutputArea) {\n",
       "\n",
       "    function append_mime(data, metadata, element) {\n",
       "      // create a DOM node to render to\n",
       "      var toinsert = this.create_output_subarea(\n",
       "        metadata,\n",
       "        CLASS_NAME,\n",
       "        EXEC_MIME_TYPE\n",
       "      );\n",
       "      this.keyboard_manager.register_events(toinsert);\n",
       "      // Render to node\n",
       "      var props = {data: data, metadata: metadata[EXEC_MIME_TYPE]};\n",
       "      render(props, toinsert[0]);\n",
       "      element.append(toinsert);\n",
       "      return toinsert\n",
       "    }\n",
       "\n",
       "    /* Handle when an output is cleared or removed */\n",
       "    events.on('clear_output.CodeCell', handleClearOutput);\n",
       "    events.on('delete.Cell', handleClearOutput);\n",
       "\n",
       "    /* Handle when a new output is added */\n",
       "    events.on('output_added.OutputArea', handleAddOutput);\n",
       "\n",
       "    /**\n",
       "     * Register the mime type and append_mime function with output_area\n",
       "     */\n",
       "    OutputArea.prototype.register_mime_type(EXEC_MIME_TYPE, append_mime, {\n",
       "      /* Is output safe? */\n",
       "      safe: true,\n",
       "      /* Index of renderer in `output_area.display_order` */\n",
       "      index: 0\n",
       "    });\n",
       "  }\n",
       "\n",
       "  // register the mime type if in Jupyter Notebook environment and previously unregistered\n",
       "  if (root.Jupyter !== undefined) {\n",
       "    var events = require('base/js/events');\n",
       "    var OutputArea = require('notebook/js/outputarea').OutputArea;\n",
       "\n",
       "    if (OutputArea.prototype.mime_types().indexOf(EXEC_MIME_TYPE) == -1) {\n",
       "      register_renderer(events, OutputArea);\n",
       "    }\n",
       "  }\n",
       "\n",
       "  \n",
       "  if (typeof (root._bokeh_timeout) === \"undefined\" || force === true) {\n",
       "    root._bokeh_timeout = Date.now() + 5000;\n",
       "    root._bokeh_failed_load = false;\n",
       "  }\n",
       "\n",
       "  var NB_LOAD_WARNING = {'data': {'text/html':\n",
       "     \"<div style='background-color: #fdd'>\\n\"+\n",
       "     \"<p>\\n\"+\n",
       "     \"BokehJS does not appear to have successfully loaded. If loading BokehJS from CDN, this \\n\"+\n",
       "     \"may be due to a slow or bad network connection. Possible fixes:\\n\"+\n",
       "     \"</p>\\n\"+\n",
       "     \"<ul>\\n\"+\n",
       "     \"<li>re-rerun `output_notebook()` to attempt to load from CDN again, or</li>\\n\"+\n",
       "     \"<li>use INLINE resources instead, as so:</li>\\n\"+\n",
       "     \"</ul>\\n\"+\n",
       "     \"<code>\\n\"+\n",
       "     \"from bokeh.resources import INLINE\\n\"+\n",
       "     \"output_notebook(resources=INLINE)\\n\"+\n",
       "     \"</code>\\n\"+\n",
       "     \"</div>\"}};\n",
       "\n",
       "  function display_loaded() {\n",
       "    var el = document.getElementById(\"2ebdeb0d-cf37-4785-bd6e-e73756ffd415\");\n",
       "    if (el != null) {\n",
       "      el.textContent = \"BokehJS is loading...\";\n",
       "    }\n",
       "    if (root.Bokeh !== undefined) {\n",
       "      if (el != null) {\n",
       "        el.textContent = \"BokehJS \" + root.Bokeh.version + \" successfully loaded.\";\n",
       "      }\n",
       "    } else if (Date.now() < root._bokeh_timeout) {\n",
       "      setTimeout(display_loaded, 100)\n",
       "    }\n",
       "  }\n",
       "\n",
       "\n",
       "  function run_callbacks() {\n",
       "    try {\n",
       "      root._bokeh_onload_callbacks.forEach(function(callback) { callback() });\n",
       "    }\n",
       "    finally {\n",
       "      delete root._bokeh_onload_callbacks\n",
       "    }\n",
       "    console.info(\"Bokeh: all callbacks have finished\");\n",
       "  }\n",
       "\n",
       "  function load_libs(js_urls, callback) {\n",
       "    root._bokeh_onload_callbacks.push(callback);\n",
       "    if (root._bokeh_is_loading > 0) {\n",
       "      console.log(\"Bokeh: BokehJS is being loaded, scheduling callback at\", now());\n",
       "      return null;\n",
       "    }\n",
       "    if (js_urls == null || js_urls.length === 0) {\n",
       "      run_callbacks();\n",
       "      return null;\n",
       "    }\n",
       "    console.log(\"Bokeh: BokehJS not loaded, scheduling load and callback at\", now());\n",
       "    root._bokeh_is_loading = js_urls.length;\n",
       "    for (var i = 0; i < js_urls.length; i++) {\n",
       "      var url = js_urls[i];\n",
       "      var s = document.createElement('script');\n",
       "      s.src = url;\n",
       "      s.async = false;\n",
       "      s.onreadystatechange = s.onload = function() {\n",
       "        root._bokeh_is_loading--;\n",
       "        if (root._bokeh_is_loading === 0) {\n",
       "          console.log(\"Bokeh: all BokehJS libraries loaded\");\n",
       "          run_callbacks()\n",
       "        }\n",
       "      };\n",
       "      s.onerror = function() {\n",
       "        console.warn(\"failed to load library \" + url);\n",
       "      };\n",
       "      console.log(\"Bokeh: injecting script tag for BokehJS library: \", url);\n",
       "      document.getElementsByTagName(\"head\")[0].appendChild(s);\n",
       "    }\n",
       "  };var element = document.getElementById(\"2ebdeb0d-cf37-4785-bd6e-e73756ffd415\");\n",
       "  if (element == null) {\n",
       "    console.log(\"Bokeh: ERROR: autoload.js configured with elementid '2ebdeb0d-cf37-4785-bd6e-e73756ffd415' but no matching script tag was found. \")\n",
       "    return false;\n",
       "  }\n",
       "\n",
       "  var js_urls = [\"https://cdn.pydata.org/bokeh/release/bokeh-0.12.10.min.js\", \"https://cdn.pydata.org/bokeh/release/bokeh-widgets-0.12.10.min.js\", \"https://cdn.pydata.org/bokeh/release/bokeh-tables-0.12.10.min.js\", \"https://cdn.pydata.org/bokeh/release/bokeh-gl-0.12.10.min.js\"];\n",
       "\n",
       "  var inline_js = [\n",
       "    function(Bokeh) {\n",
       "      Bokeh.set_log_level(\"info\");\n",
       "    },\n",
       "    \n",
       "    function(Bokeh) {\n",
       "      \n",
       "    },\n",
       "    function(Bokeh) {\n",
       "      console.log(\"Bokeh: injecting CSS: https://cdn.pydata.org/bokeh/release/bokeh-0.12.10.min.css\");\n",
       "      Bokeh.embed.inject_css(\"https://cdn.pydata.org/bokeh/release/bokeh-0.12.10.min.css\");\n",
       "      console.log(\"Bokeh: injecting CSS: https://cdn.pydata.org/bokeh/release/bokeh-widgets-0.12.10.min.css\");\n",
       "      Bokeh.embed.inject_css(\"https://cdn.pydata.org/bokeh/release/bokeh-widgets-0.12.10.min.css\");\n",
       "      console.log(\"Bokeh: injecting CSS: https://cdn.pydata.org/bokeh/release/bokeh-tables-0.12.10.min.css\");\n",
       "      Bokeh.embed.inject_css(\"https://cdn.pydata.org/bokeh/release/bokeh-tables-0.12.10.min.css\");\n",
       "    }\n",
       "  ];\n",
       "\n",
       "  function run_inline_js() {\n",
       "    \n",
       "    if ((root.Bokeh !== undefined) || (force === true)) {\n",
       "      for (var i = 0; i < inline_js.length; i++) {\n",
       "        inline_js[i].call(root, root.Bokeh);\n",
       "      }if (force === true) {\n",
       "        display_loaded();\n",
       "      }} else if (Date.now() < root._bokeh_timeout) {\n",
       "      setTimeout(run_inline_js, 100);\n",
       "    } else if (!root._bokeh_failed_load) {\n",
       "      console.log(\"Bokeh: BokehJS failed to load within specified timeout.\");\n",
       "      root._bokeh_failed_load = true;\n",
       "    } else if (force !== true) {\n",
       "      var cell = $(document.getElementById(\"2ebdeb0d-cf37-4785-bd6e-e73756ffd415\")).parents('.cell').data().cell;\n",
       "      cell.output_area.append_execute_result(NB_LOAD_WARNING)\n",
       "    }\n",
       "\n",
       "  }\n",
       "\n",
       "  if (root._bokeh_is_loading === 0) {\n",
       "    console.log(\"Bokeh: BokehJS loaded, going straight to plotting\");\n",
       "    run_inline_js();\n",
       "  } else {\n",
       "    load_libs(js_urls, function() {\n",
       "      console.log(\"Bokeh: BokehJS plotting callback run at\", now());\n",
       "      run_inline_js();\n",
       "    });\n",
       "  }\n",
       "}(window));"
      ],
      "application/vnd.bokehjs_load.v0+json": "\n(function(root) {\n  function now() {\n    return new Date();\n  }\n\n  var force = true;\n\n  if (typeof (root._bokeh_onload_callbacks) === \"undefined\" || force === true) {\n    root._bokeh_onload_callbacks = [];\n    root._bokeh_is_loading = undefined;\n  }\n\n  \n\n  \n  if (typeof (root._bokeh_timeout) === \"undefined\" || force === true) {\n    root._bokeh_timeout = Date.now() + 5000;\n    root._bokeh_failed_load = false;\n  }\n\n  var NB_LOAD_WARNING = {'data': {'text/html':\n     \"<div style='background-color: #fdd'>\\n\"+\n     \"<p>\\n\"+\n     \"BokehJS does not appear to have successfully loaded. If loading BokehJS from CDN, this \\n\"+\n     \"may be due to a slow or bad network connection. Possible fixes:\\n\"+\n     \"</p>\\n\"+\n     \"<ul>\\n\"+\n     \"<li>re-rerun `output_notebook()` to attempt to load from CDN again, or</li>\\n\"+\n     \"<li>use INLINE resources instead, as so:</li>\\n\"+\n     \"</ul>\\n\"+\n     \"<code>\\n\"+\n     \"from bokeh.resources import INLINE\\n\"+\n     \"output_notebook(resources=INLINE)\\n\"+\n     \"</code>\\n\"+\n     \"</div>\"}};\n\n  function display_loaded() {\n    var el = document.getElementById(\"2ebdeb0d-cf37-4785-bd6e-e73756ffd415\");\n    if (el != null) {\n      el.textContent = \"BokehJS is loading...\";\n    }\n    if (root.Bokeh !== undefined) {\n      if (el != null) {\n        el.textContent = \"BokehJS \" + root.Bokeh.version + \" successfully loaded.\";\n      }\n    } else if (Date.now() < root._bokeh_timeout) {\n      setTimeout(display_loaded, 100)\n    }\n  }\n\n\n  function run_callbacks() {\n    try {\n      root._bokeh_onload_callbacks.forEach(function(callback) { callback() });\n    }\n    finally {\n      delete root._bokeh_onload_callbacks\n    }\n    console.info(\"Bokeh: all callbacks have finished\");\n  }\n\n  function load_libs(js_urls, callback) {\n    root._bokeh_onload_callbacks.push(callback);\n    if (root._bokeh_is_loading > 0) {\n      console.log(\"Bokeh: BokehJS is being loaded, scheduling callback at\", now());\n      return null;\n    }\n    if (js_urls == null || js_urls.length === 0) {\n      run_callbacks();\n      return null;\n    }\n    console.log(\"Bokeh: BokehJS not loaded, scheduling load and callback at\", now());\n    root._bokeh_is_loading = js_urls.length;\n    for (var i = 0; i < js_urls.length; i++) {\n      var url = js_urls[i];\n      var s = document.createElement('script');\n      s.src = url;\n      s.async = false;\n      s.onreadystatechange = s.onload = function() {\n        root._bokeh_is_loading--;\n        if (root._bokeh_is_loading === 0) {\n          console.log(\"Bokeh: all BokehJS libraries loaded\");\n          run_callbacks()\n        }\n      };\n      s.onerror = function() {\n        console.warn(\"failed to load library \" + url);\n      };\n      console.log(\"Bokeh: injecting script tag for BokehJS library: \", url);\n      document.getElementsByTagName(\"head\")[0].appendChild(s);\n    }\n  };var element = document.getElementById(\"2ebdeb0d-cf37-4785-bd6e-e73756ffd415\");\n  if (element == null) {\n    console.log(\"Bokeh: ERROR: autoload.js configured with elementid '2ebdeb0d-cf37-4785-bd6e-e73756ffd415' but no matching script tag was found. \")\n    return false;\n  }\n\n  var js_urls = [\"https://cdn.pydata.org/bokeh/release/bokeh-0.12.10.min.js\", \"https://cdn.pydata.org/bokeh/release/bokeh-widgets-0.12.10.min.js\", \"https://cdn.pydata.org/bokeh/release/bokeh-tables-0.12.10.min.js\", \"https://cdn.pydata.org/bokeh/release/bokeh-gl-0.12.10.min.js\"];\n\n  var inline_js = [\n    function(Bokeh) {\n      Bokeh.set_log_level(\"info\");\n    },\n    \n    function(Bokeh) {\n      \n    },\n    function(Bokeh) {\n      console.log(\"Bokeh: injecting CSS: https://cdn.pydata.org/bokeh/release/bokeh-0.12.10.min.css\");\n      Bokeh.embed.inject_css(\"https://cdn.pydata.org/bokeh/release/bokeh-0.12.10.min.css\");\n      console.log(\"Bokeh: injecting CSS: https://cdn.pydata.org/bokeh/release/bokeh-widgets-0.12.10.min.css\");\n      Bokeh.embed.inject_css(\"https://cdn.pydata.org/bokeh/release/bokeh-widgets-0.12.10.min.css\");\n      console.log(\"Bokeh: injecting CSS: https://cdn.pydata.org/bokeh/release/bokeh-tables-0.12.10.min.css\");\n      Bokeh.embed.inject_css(\"https://cdn.pydata.org/bokeh/release/bokeh-tables-0.12.10.min.css\");\n    }\n  ];\n\n  function run_inline_js() {\n    \n    if ((root.Bokeh !== undefined) || (force === true)) {\n      for (var i = 0; i < inline_js.length; i++) {\n        inline_js[i].call(root, root.Bokeh);\n      }if (force === true) {\n        display_loaded();\n      }} else if (Date.now() < root._bokeh_timeout) {\n      setTimeout(run_inline_js, 100);\n    } else if (!root._bokeh_failed_load) {\n      console.log(\"Bokeh: BokehJS failed to load within specified timeout.\");\n      root._bokeh_failed_load = true;\n    } else if (force !== true) {\n      var cell = $(document.getElementById(\"2ebdeb0d-cf37-4785-bd6e-e73756ffd415\")).parents('.cell').data().cell;\n      cell.output_area.append_execute_result(NB_LOAD_WARNING)\n    }\n\n  }\n\n  if (root._bokeh_is_loading === 0) {\n    console.log(\"Bokeh: BokehJS loaded, going straight to plotting\");\n    run_inline_js();\n  } else {\n    load_libs(js_urls, function() {\n      console.log(\"Bokeh: BokehJS plotting callback run at\", now());\n      run_inline_js();\n    });\n  }\n}(window));"
     },
     "metadata": {},
     "output_type": "display_data"
    }
   ],
   "source": [
    "# se utiliza para obtener una salida en codigo HTML e imprimir la grafica.\n",
    "from bokeh.io import output_notebook, output_file\n",
    "output_notebook()"
   ]
  },
  {
   "cell_type": "code",
   "execution_count": 73,
   "metadata": {},
   "outputs": [
    {
     "data": {
      "text/html": [
       "\n",
       "<div class=\"bk-root\">\n",
       "    <div class=\"bk-plotdiv\" id=\"8cb373ab-fdc7-469c-b5bf-93483a5fea63\"></div>\n",
       "</div>"
      ]
     },
     "metadata": {},
     "output_type": "display_data"
    },
    {
     "data": {
      "application/javascript": [
       "(function(root) {\n",
       "  function embed_document(root) {\n",
       "    var docs_json = {\"4946906f-d601-454f-aacb-0dbb794bd099\":{\"roots\":{\"references\":[{\"attributes\":{\"formatter\":{\"id\":\"160f45bd-ed71-40ee-8162-35e164011998\",\"type\":\"BasicTickFormatter\"},\"plot\":{\"id\":\"c724da61-e85c-4091-8e42-c842369747c2\",\"subtype\":\"Figure\",\"type\":\"Plot\"},\"ticker\":{\"id\":\"34542df8-6c3f-40a7-aadf-565ce41d866b\",\"type\":\"BasicTicker\"}},\"id\":\"e741de8b-a278-41f9-95f1-5e29cf81b0e1\",\"type\":\"LinearAxis\"},{\"attributes\":{},\"id\":\"8f3a541e-b93a-4fbb-9056-e4456f3d30bc\",\"type\":\"BasicTicker\"},{\"attributes\":{\"bottom_units\":\"screen\",\"fill_alpha\":{\"value\":0.5},\"fill_color\":{\"value\":\"lightgrey\"},\"left_units\":\"screen\",\"level\":\"overlay\",\"line_alpha\":{\"value\":1.0},\"line_color\":{\"value\":\"black\"},\"line_dash\":[4,4],\"line_width\":{\"value\":2},\"plot\":null,\"render_mode\":\"css\",\"right_units\":\"screen\",\"top_units\":\"screen\"},\"id\":\"29226e43-7b11-449d-9c6a-7ae32508be00\",\"type\":\"BoxAnnotation\"},{\"attributes\":{},\"id\":\"b413dbcb-6618-42f2-a07e-8e9d2f929c01\",\"type\":\"SaveTool\"},{\"attributes\":{},\"id\":\"3fed51af-3a7c-4352-b275-6be5b96cc157\",\"type\":\"HelpTool\"},{\"attributes\":{\"active_drag\":\"auto\",\"active_inspect\":\"auto\",\"active_scroll\":\"auto\",\"active_tap\":\"auto\",\"tools\":[{\"id\":\"0c05d2b6-3df1-4519-a078-acda197aaf78\",\"type\":\"PanTool\"},{\"id\":\"39b34a4c-b890-4eee-9e40-c70f9d30b5af\",\"type\":\"WheelZoomTool\"},{\"id\":\"38c273b8-bead-40ea-9c0f-010a8e066922\",\"type\":\"BoxZoomTool\"},{\"id\":\"b413dbcb-6618-42f2-a07e-8e9d2f929c01\",\"type\":\"SaveTool\"},{\"id\":\"130a9300-849f-451f-b2d8-425617480e20\",\"type\":\"ResetTool\"},{\"id\":\"3fed51af-3a7c-4352-b275-6be5b96cc157\",\"type\":\"HelpTool\"}]},\"id\":\"5a461c1d-5a06-4ead-9fc0-e53ddff4762a\",\"type\":\"Toolbar\"},{\"attributes\":{\"callback\":null},\"id\":\"13158f69-6027-4806-8f27-2148766c7165\",\"type\":\"DataRange1d\"},{\"attributes\":{\"fill_alpha\":{\"value\":0.1},\"fill_color\":{\"value\":\"#1f77b4\"},\"line_alpha\":{\"value\":0.1},\"line_color\":{\"value\":\"#1f77b4\"},\"size\":{\"units\":\"screen\",\"value\":10},\"x\":{\"field\":\"x\"},\"y\":{\"field\":\"y\"}},\"id\":\"508f5394-ebcc-4459-a089-de1a001de8bc\",\"type\":\"Circle\"},{\"attributes\":{\"callback\":null,\"column_names\":[\"y\",\"x\"],\"data\":{\"x\":[\"4.3\",\"4.7\",\"5.5\",\"4.8\",\"-\",\"8\",\"-\",\"7.8\",\"6.2\",\"4.9\",\"4.4\",\"4.2\",\"3.9\",\"4.6\",\"4.4\",\"4.4\",\"3.9\",\"4.2\",\"8.7\",\"8.1\",\"8\",\"6.8\",\"5.7\",\"5.8\",\"4.5\",\"4\",\"4.5\",\"4.7\"],\"y\":[\"24.6\",\"24.1\",\"25.4\",\"24.4\",\"-\",\"35\",\"-\",\"33\",\"29.6\",\"25.3\",\"23.7\",\"24.5\",\"22\",\"23.7\",\"23.1\",\"24.8\",\"22.4\",\"22.6\",\"36.7\",\"35.1\",\"36\",\"32.8\",\"28.6\",\"27.3\",\"25.6\",\"22.5\",\"23.3\",\"22.9\"]}},\"id\":\"efdd2860-1df8-4de5-b3fb-39b465b2c538\",\"type\":\"ColumnDataSource\"},{\"attributes\":{},\"id\":\"d1aab215-3cfa-4af8-9864-86044323e0a7\",\"type\":\"LinearScale\"},{\"attributes\":{\"source\":{\"id\":\"efdd2860-1df8-4de5-b3fb-39b465b2c538\",\"type\":\"ColumnDataSource\"}},\"id\":\"d983adbb-f3ad-47e2-9d89-49db338beb0c\",\"type\":\"CDSView\"},{\"attributes\":{\"data_source\":{\"id\":\"efdd2860-1df8-4de5-b3fb-39b465b2c538\",\"type\":\"ColumnDataSource\"},\"glyph\":{\"id\":\"c4d08b17-a0f6-4e15-b61a-508bfe7b8eed\",\"type\":\"Circle\"},\"hover_glyph\":null,\"muted_glyph\":null,\"nonselection_glyph\":{\"id\":\"508f5394-ebcc-4459-a089-de1a001de8bc\",\"type\":\"Circle\"},\"selection_glyph\":null,\"view\":{\"id\":\"d983adbb-f3ad-47e2-9d89-49db338beb0c\",\"type\":\"CDSView\"}},\"id\":\"207617e9-5e2f-40b1-b8a6-bbcf24bfd9d1\",\"type\":\"GlyphRenderer\"},{\"attributes\":{\"plot\":{\"id\":\"c724da61-e85c-4091-8e42-c842369747c2\",\"subtype\":\"Figure\",\"type\":\"Plot\"},\"ticker\":{\"id\":\"8f3a541e-b93a-4fbb-9056-e4456f3d30bc\",\"type\":\"BasicTicker\"}},\"id\":\"b209926e-7f00-4efe-9bb0-52de8cf0706d\",\"type\":\"Grid\"},{\"attributes\":{},\"id\":\"130a9300-849f-451f-b2d8-425617480e20\",\"type\":\"ResetTool\"},{\"attributes\":{\"dimension\":1,\"plot\":{\"id\":\"c724da61-e85c-4091-8e42-c842369747c2\",\"subtype\":\"Figure\",\"type\":\"Plot\"},\"ticker\":{\"id\":\"34542df8-6c3f-40a7-aadf-565ce41d866b\",\"type\":\"BasicTicker\"}},\"id\":\"fb2d942b-b9e5-480e-bc50-eafbbf84c5f2\",\"type\":\"Grid\"},{\"attributes\":{\"formatter\":{\"id\":\"27f1f416-f18a-4d6a-b004-1ed45c42dd03\",\"type\":\"BasicTickFormatter\"},\"plot\":{\"id\":\"c724da61-e85c-4091-8e42-c842369747c2\",\"subtype\":\"Figure\",\"type\":\"Plot\"},\"ticker\":{\"id\":\"8f3a541e-b93a-4fbb-9056-e4456f3d30bc\",\"type\":\"BasicTicker\"}},\"id\":\"1cf20f06-0fee-4cb9-a24d-36c401e2919a\",\"type\":\"LinearAxis\"},{\"attributes\":{},\"id\":\"160f45bd-ed71-40ee-8162-35e164011998\",\"type\":\"BasicTickFormatter\"},{\"attributes\":{\"callback\":null},\"id\":\"bfba7e57-038a-45a9-90e6-6e29f770eeed\",\"type\":\"DataRange1d\"},{\"attributes\":{\"overlay\":{\"id\":\"29226e43-7b11-449d-9c6a-7ae32508be00\",\"type\":\"BoxAnnotation\"}},\"id\":\"38c273b8-bead-40ea-9c0f-010a8e066922\",\"type\":\"BoxZoomTool\"},{\"attributes\":{},\"id\":\"39b34a4c-b890-4eee-9e40-c70f9d30b5af\",\"type\":\"WheelZoomTool\"},{\"attributes\":{},\"id\":\"34542df8-6c3f-40a7-aadf-565ce41d866b\",\"type\":\"BasicTicker\"},{\"attributes\":{},\"id\":\"27f1f416-f18a-4d6a-b004-1ed45c42dd03\",\"type\":\"BasicTickFormatter\"},{\"attributes\":{},\"id\":\"edf79918-42e4-4920-9908-92cc567e1fd9\",\"type\":\"LinearScale\"},{\"attributes\":{\"plot\":null,\"text\":\"\"},\"id\":\"e3475ac1-978a-45bf-bc2d-99c3d8833b44\",\"type\":\"Title\"},{\"attributes\":{\"fill_color\":{\"value\":\"red\"},\"line_color\":{\"value\":\"#1f77b4\"},\"size\":{\"units\":\"screen\",\"value\":10},\"x\":{\"field\":\"x\"},\"y\":{\"field\":\"y\"}},\"id\":\"c4d08b17-a0f6-4e15-b61a-508bfe7b8eed\",\"type\":\"Circle\"},{\"attributes\":{},\"id\":\"0c05d2b6-3df1-4519-a078-acda197aaf78\",\"type\":\"PanTool\"},{\"attributes\":{\"below\":[{\"id\":\"1cf20f06-0fee-4cb9-a24d-36c401e2919a\",\"type\":\"LinearAxis\"}],\"left\":[{\"id\":\"e741de8b-a278-41f9-95f1-5e29cf81b0e1\",\"type\":\"LinearAxis\"}],\"plot_height\":200,\"plot_width\":800,\"renderers\":[{\"id\":\"1cf20f06-0fee-4cb9-a24d-36c401e2919a\",\"type\":\"LinearAxis\"},{\"id\":\"b209926e-7f00-4efe-9bb0-52de8cf0706d\",\"type\":\"Grid\"},{\"id\":\"e741de8b-a278-41f9-95f1-5e29cf81b0e1\",\"type\":\"LinearAxis\"},{\"id\":\"fb2d942b-b9e5-480e-bc50-eafbbf84c5f2\",\"type\":\"Grid\"},{\"id\":\"29226e43-7b11-449d-9c6a-7ae32508be00\",\"type\":\"BoxAnnotation\"},{\"id\":\"207617e9-5e2f-40b1-b8a6-bbcf24bfd9d1\",\"type\":\"GlyphRenderer\"}],\"title\":{\"id\":\"e3475ac1-978a-45bf-bc2d-99c3d8833b44\",\"type\":\"Title\"},\"toolbar\":{\"id\":\"5a461c1d-5a06-4ead-9fc0-e53ddff4762a\",\"type\":\"Toolbar\"},\"x_range\":{\"id\":\"bfba7e57-038a-45a9-90e6-6e29f770eeed\",\"type\":\"DataRange1d\"},\"x_scale\":{\"id\":\"d1aab215-3cfa-4af8-9864-86044323e0a7\",\"type\":\"LinearScale\"},\"y_range\":{\"id\":\"13158f69-6027-4806-8f27-2148766c7165\",\"type\":\"DataRange1d\"},\"y_scale\":{\"id\":\"edf79918-42e4-4920-9908-92cc567e1fd9\",\"type\":\"LinearScale\"}},\"id\":\"c724da61-e85c-4091-8e42-c842369747c2\",\"subtype\":\"Figure\",\"type\":\"Plot\"}],\"root_ids\":[\"c724da61-e85c-4091-8e42-c842369747c2\"]},\"title\":\"Bokeh Application\",\"version\":\"0.12.10\"}};\n",
       "    var render_items = [{\"docid\":\"4946906f-d601-454f-aacb-0dbb794bd099\",\"elementid\":\"8cb373ab-fdc7-469c-b5bf-93483a5fea63\",\"modelid\":\"c724da61-e85c-4091-8e42-c842369747c2\"}];\n",
       "\n",
       "    root.Bokeh.embed.embed_items(docs_json, render_items);\n",
       "  }\n",
       "\n",
       "  if (root.Bokeh !== undefined) {\n",
       "    embed_document(root);\n",
       "  } else {\n",
       "    var attempts = 0;\n",
       "    var timer = setInterval(function(root) {\n",
       "      if (root.Bokeh !== undefined) {\n",
       "        embed_document(root);\n",
       "        clearInterval(timer);\n",
       "      }\n",
       "      attempts++;\n",
       "      if (attempts > 100) {\n",
       "        console.log(\"Bokeh: ERROR: Unable to embed document because BokehJS library is missing\")\n",
       "        clearInterval(timer);\n",
       "      }\n",
       "    }, 10, root)\n",
       "  }\n",
       "})(window);"
      ],
      "application/vnd.bokehjs_exec.v0+json": ""
     },
     "metadata": {
      "application/vnd.bokehjs_exec.v0+json": {
       "id": "c724da61-e85c-4091-8e42-c842369747c2"
      }
     },
     "output_type": "display_data"
    }
   ],
   "source": [
    "p = figure(plot_width=800, plot_height=200)\n",
    "p.circle(x=df1.severidad, y=df1.Incidencia, size=10, fill_color=\"red\")\n",
    "\n",
    "show(p)"
   ]
  },
  {
   "cell_type": "code",
   "execution_count": 75,
   "metadata": {},
   "outputs": [
    {
     "data": {
      "text/html": [
       "\n",
       "<div class=\"bk-root\">\n",
       "    <div class=\"bk-plotdiv\" id=\"3d0afb21-8855-4bf7-9aee-be63ea5784b9\"></div>\n",
       "</div>"
      ]
     },
     "metadata": {},
     "output_type": "display_data"
    },
    {
     "data": {
      "application/javascript": [
       "(function(root) {\n",
       "  function embed_document(root) {\n",
       "    var docs_json = {\"bd7d4012-e650-4b22-8b93-11982da3bcc8\":{\"roots\":{\"references\":[{\"attributes\":{\"source\":{\"id\":\"bac981d6-fa10-4d03-8290-806c5b01052a\",\"type\":\"ColumnDataSource\"}},\"id\":\"f9d7e19b-f56b-4720-a6de-ea9613f8064e\",\"type\":\"CDSView\"},{\"attributes\":{\"fill_color\":{\"value\":\"#e84d60\"},\"line_color\":{\"value\":\"#e84d60\"},\"top\":{\"field\":\"Septiembre\"},\"width\":{\"value\":0.2},\"x\":{\"field\":\"anios\",\"transform\":{\"id\":\"42f22837-c3d1-4e9c-a1a7-806eaebdfef9\",\"type\":\"Dodge\"}}},\"id\":\"5b932f15-12da-411b-b664-771e9edc1c7c\",\"type\":\"VBar\"},{\"attributes\":{\"active_drag\":\"auto\",\"active_inspect\":\"auto\",\"active_scroll\":\"auto\",\"active_tap\":\"auto\"},\"id\":\"e31c1d68-32d0-4663-a547-5864f50417cd\",\"type\":\"Toolbar\"},{\"attributes\":{\"plot\":null,\"text\":\"Indice de Pobresa a nivel Nacional\"},\"id\":\"72d1ece0-434f-45f4-a1b3-8fe15538528e\",\"type\":\"Title\"},{\"attributes\":{\"items\":[{\"id\":\"5f368ae1-d460-486a-b733-7272ab9634c3\",\"type\":\"LegendItem\"},{\"id\":\"571dad94-a6a3-4d33-80e9-5e6b21c701a6\",\"type\":\"LegendItem\"},{\"id\":\"9dac5894-a9de-468a-ba54-3ddcd9a36a9f\",\"type\":\"LegendItem\"}],\"location\":\"top_left\",\"orientation\":\"horizontal\",\"plot\":{\"id\":\"e9563d3e-0a89-4aab-b9ef-eae0b523f0c1\",\"subtype\":\"Figure\",\"type\":\"Plot\"}},\"id\":\"d94f1a8f-70e7-448d-af50-672c6bb79867\",\"type\":\"Legend\"},{\"attributes\":{},\"id\":\"93638de4-a970-446c-a6f7-c40ae71c1436\",\"type\":\"CategoricalScale\"},{\"attributes\":{\"fill_color\":{\"value\":\"#718dbf\"},\"line_color\":{\"value\":\"#718dbf\"},\"top\":{\"field\":\"Junio\"},\"width\":{\"value\":0.2},\"x\":{\"field\":\"anios\",\"transform\":{\"id\":\"defd9859-8334-4315-86f9-3304d7829939\",\"type\":\"Dodge\"}}},\"id\":\"cac4250f-1228-41dd-98f0-cbed936d9149\",\"type\":\"VBar\"},{\"attributes\":{\"formatter\":{\"id\":\"80e8f942-cfb5-4121-934d-70a56eb9cdf0\",\"type\":\"BasicTickFormatter\"},\"plot\":{\"id\":\"e9563d3e-0a89-4aab-b9ef-eae0b523f0c1\",\"subtype\":\"Figure\",\"type\":\"Plot\"},\"ticker\":{\"id\":\"086268c8-6a2d-44e2-9704-02f1f4185b66\",\"type\":\"BasicTicker\"}},\"id\":\"bc05e398-cac6-4e28-b252-94faee54dc9f\",\"type\":\"LinearAxis\"},{\"attributes\":{\"fill_alpha\":{\"value\":0.1},\"fill_color\":{\"value\":\"#1f77b4\"},\"line_alpha\":{\"value\":0.1},\"line_color\":{\"value\":\"#1f77b4\"},\"top\":{\"field\":\"Junio\"},\"width\":{\"value\":0.2},\"x\":{\"field\":\"anios\",\"transform\":{\"id\":\"defd9859-8334-4315-86f9-3304d7829939\",\"type\":\"Dodge\"}}},\"id\":\"22814ff7-d11d-4061-814e-a7efb680edf0\",\"type\":\"VBar\"},{\"attributes\":{\"callback\":null,\"end\":45},\"id\":\"2f4b3dc9-6cb3-44bc-b725-e69fc9c7ea73\",\"type\":\"Range1d\"},{\"attributes\":{},\"id\":\"086268c8-6a2d-44e2-9704-02f1f4185b66\",\"type\":\"BasicTicker\"},{\"attributes\":{\"fill_alpha\":{\"value\":0.1},\"fill_color\":{\"value\":\"#1f77b4\"},\"line_alpha\":{\"value\":0.1},\"line_color\":{\"value\":\"#1f77b4\"},\"top\":{\"field\":\"Septiembre\"},\"width\":{\"value\":0.2},\"x\":{\"field\":\"anios\",\"transform\":{\"id\":\"42f22837-c3d1-4e9c-a1a7-806eaebdfef9\",\"type\":\"Dodge\"}}},\"id\":\"eeab7781-f597-44c3-be19-e58a4c9f5eb3\",\"type\":\"VBar\"},{\"attributes\":{},\"id\":\"c3421399-0aa7-4512-8fb3-16d4efb000e5\",\"type\":\"CategoricalTicker\"},{\"attributes\":{\"data_source\":{\"id\":\"bac981d6-fa10-4d03-8290-806c5b01052a\",\"type\":\"ColumnDataSource\"},\"glyph\":{\"id\":\"5b932f15-12da-411b-b664-771e9edc1c7c\",\"type\":\"VBar\"},\"hover_glyph\":null,\"muted_glyph\":null,\"nonselection_glyph\":{\"id\":\"eeab7781-f597-44c3-be19-e58a4c9f5eb3\",\"type\":\"VBar\"},\"selection_glyph\":null,\"view\":{\"id\":\"acc9c45d-c74d-4df2-ad21-3fbfe17903af\",\"type\":\"CDSView\"}},\"id\":\"9fc5d7b5-d178-463c-b863-7d5068a5681b\",\"type\":\"GlyphRenderer\"},{\"attributes\":{\"label\":{\"value\":\"Marzo\"},\"renderers\":[{\"id\":\"113e27a4-d678-4a54-85e4-3f66699c255f\",\"type\":\"GlyphRenderer\"}]},\"id\":\"5f368ae1-d460-486a-b733-7272ab9634c3\",\"type\":\"LegendItem\"},{\"attributes\":{\"range\":{\"id\":\"be567409-817c-4e2e-9c41-3dc5788bf448\",\"type\":\"FactorRange\"},\"value\":0.25},\"id\":\"42f22837-c3d1-4e9c-a1a7-806eaebdfef9\",\"type\":\"Dodge\"},{\"attributes\":{\"label\":{\"value\":\"Septiembre\"},\"renderers\":[{\"id\":\"9fc5d7b5-d178-463c-b863-7d5068a5681b\",\"type\":\"GlyphRenderer\"}]},\"id\":\"9dac5894-a9de-468a-ba54-3ddcd9a36a9f\",\"type\":\"LegendItem\"},{\"attributes\":{\"grid_line_color\":{\"value\":null},\"plot\":{\"id\":\"e9563d3e-0a89-4aab-b9ef-eae0b523f0c1\",\"subtype\":\"Figure\",\"type\":\"Plot\"},\"ticker\":{\"id\":\"c3421399-0aa7-4512-8fb3-16d4efb000e5\",\"type\":\"CategoricalTicker\"}},\"id\":\"3784fe80-34f8-4aac-88c4-71f5f6d7d4e7\",\"type\":\"Grid\"},{\"attributes\":{},\"id\":\"86b30cbf-2ffd-4e1d-b6ac-e250d52cecd2\",\"type\":\"LinearScale\"},{\"attributes\":{\"formatter\":{\"id\":\"ca7c97aa-79b7-4093-938c-98898c9da3eb\",\"type\":\"CategoricalTickFormatter\"},\"plot\":{\"id\":\"e9563d3e-0a89-4aab-b9ef-eae0b523f0c1\",\"subtype\":\"Figure\",\"type\":\"Plot\"},\"ticker\":{\"id\":\"c3421399-0aa7-4512-8fb3-16d4efb000e5\",\"type\":\"CategoricalTicker\"}},\"id\":\"dd4383d3-db73-4e51-8bcf-6c01ff274f48\",\"type\":\"CategoricalAxis\"},{\"attributes\":{},\"id\":\"ca7c97aa-79b7-4093-938c-98898c9da3eb\",\"type\":\"CategoricalTickFormatter\"},{\"attributes\":{\"range\":{\"id\":\"be567409-817c-4e2e-9c41-3dc5788bf448\",\"type\":\"FactorRange\"}},\"id\":\"defd9859-8334-4315-86f9-3304d7829939\",\"type\":\"Dodge\"},{\"attributes\":{\"below\":[{\"id\":\"dd4383d3-db73-4e51-8bcf-6c01ff274f48\",\"type\":\"CategoricalAxis\"}],\"left\":[{\"id\":\"bc05e398-cac6-4e28-b252-94faee54dc9f\",\"type\":\"LinearAxis\"}],\"plot_height\":350,\"renderers\":[{\"id\":\"dd4383d3-db73-4e51-8bcf-6c01ff274f48\",\"type\":\"CategoricalAxis\"},{\"id\":\"3784fe80-34f8-4aac-88c4-71f5f6d7d4e7\",\"type\":\"Grid\"},{\"id\":\"bc05e398-cac6-4e28-b252-94faee54dc9f\",\"type\":\"LinearAxis\"},{\"id\":\"31606c43-0d7e-42d8-9a1a-c4533560127b\",\"type\":\"Grid\"},{\"id\":\"d94f1a8f-70e7-448d-af50-672c6bb79867\",\"type\":\"Legend\"},{\"id\":\"113e27a4-d678-4a54-85e4-3f66699c255f\",\"type\":\"GlyphRenderer\"},{\"id\":\"3239da3a-0e9e-441c-b1ef-fd2b7054f276\",\"type\":\"GlyphRenderer\"},{\"id\":\"9fc5d7b5-d178-463c-b863-7d5068a5681b\",\"type\":\"GlyphRenderer\"}],\"title\":{\"id\":\"72d1ece0-434f-45f4-a1b3-8fe15538528e\",\"type\":\"Title\"},\"toolbar\":{\"id\":\"e31c1d68-32d0-4663-a547-5864f50417cd\",\"type\":\"Toolbar\"},\"toolbar_location\":\"below\",\"x_range\":{\"id\":\"be567409-817c-4e2e-9c41-3dc5788bf448\",\"type\":\"FactorRange\"},\"x_scale\":{\"id\":\"93638de4-a970-446c-a6f7-c40ae71c1436\",\"type\":\"CategoricalScale\"},\"y_range\":{\"id\":\"2f4b3dc9-6cb3-44bc-b725-e69fc9c7ea73\",\"type\":\"Range1d\"},\"y_scale\":{\"id\":\"86b30cbf-2ffd-4e1d-b6ac-e250d52cecd2\",\"type\":\"LinearScale\"}},\"id\":\"e9563d3e-0a89-4aab-b9ef-eae0b523f0c1\",\"subtype\":\"Figure\",\"type\":\"Plot\"},{\"attributes\":{\"data_source\":{\"id\":\"bac981d6-fa10-4d03-8290-806c5b01052a\",\"type\":\"ColumnDataSource\"},\"glyph\":{\"id\":\"cac4250f-1228-41dd-98f0-cbed936d9149\",\"type\":\"VBar\"},\"hover_glyph\":null,\"muted_glyph\":null,\"nonselection_glyph\":{\"id\":\"22814ff7-d11d-4061-814e-a7efb680edf0\",\"type\":\"VBar\"},\"selection_glyph\":null,\"view\":{\"id\":\"f9d7e19b-f56b-4720-a6de-ea9613f8064e\",\"type\":\"CDSView\"}},\"id\":\"3239da3a-0e9e-441c-b1ef-fd2b7054f276\",\"type\":\"GlyphRenderer\"},{\"attributes\":{\"data_source\":{\"id\":\"bac981d6-fa10-4d03-8290-806c5b01052a\",\"type\":\"ColumnDataSource\"},\"glyph\":{\"id\":\"4e5c8b9d-22ac-4e21-9b49-b5b408541247\",\"type\":\"VBar\"},\"hover_glyph\":null,\"muted_glyph\":null,\"nonselection_glyph\":{\"id\":\"7dfe2146-459d-4000-9fbd-aeb8152c69df\",\"type\":\"VBar\"},\"selection_glyph\":null,\"view\":{\"id\":\"811c9930-987f-4872-b76f-c3d35b77dd20\",\"type\":\"CDSView\"}},\"id\":\"113e27a4-d678-4a54-85e4-3f66699c255f\",\"type\":\"GlyphRenderer\"},{\"attributes\":{\"source\":{\"id\":\"bac981d6-fa10-4d03-8290-806c5b01052a\",\"type\":\"ColumnDataSource\"}},\"id\":\"811c9930-987f-4872-b76f-c3d35b77dd20\",\"type\":\"CDSView\"},{\"attributes\":{\"fill_color\":{\"value\":\"#c9d9d3\"},\"line_color\":{\"value\":\"#c9d9d3\"},\"top\":{\"field\":\"Marzo\"},\"width\":{\"value\":0.2},\"x\":{\"field\":\"anios\",\"transform\":{\"id\":\"6dc05b16-2bc1-46f4-8e04-f16d4be518db\",\"type\":\"Dodge\"}}},\"id\":\"4e5c8b9d-22ac-4e21-9b49-b5b408541247\",\"type\":\"VBar\"},{\"attributes\":{\"dimension\":1,\"plot\":{\"id\":\"e9563d3e-0a89-4aab-b9ef-eae0b523f0c1\",\"subtype\":\"Figure\",\"type\":\"Plot\"},\"ticker\":{\"id\":\"086268c8-6a2d-44e2-9704-02f1f4185b66\",\"type\":\"BasicTicker\"}},\"id\":\"31606c43-0d7e-42d8-9a1a-c4533560127b\",\"type\":\"Grid\"},{\"attributes\":{\"fill_alpha\":{\"value\":0.1},\"fill_color\":{\"value\":\"#1f77b4\"},\"line_alpha\":{\"value\":0.1},\"line_color\":{\"value\":\"#1f77b4\"},\"top\":{\"field\":\"Marzo\"},\"width\":{\"value\":0.2},\"x\":{\"field\":\"anios\",\"transform\":{\"id\":\"6dc05b16-2bc1-46f4-8e04-f16d4be518db\",\"type\":\"Dodge\"}}},\"id\":\"7dfe2146-459d-4000-9fbd-aeb8152c69df\",\"type\":\"VBar\"},{\"attributes\":{\"callback\":null,\"column_names\":[\"anios\",\"Septiembre\",\"Marzo\",\"Junio\"],\"data\":{\"Junio\":[11.4,6.2,8.6],\"Marzo\":[24.6,29.6,22.4],\"Septiembre\":[4.3,7.7,3.9],\"anios\":[\"2014\",\"2015\",\"2016\"]}},\"id\":\"bac981d6-fa10-4d03-8290-806c5b01052a\",\"type\":\"ColumnDataSource\"},{\"attributes\":{\"range\":{\"id\":\"be567409-817c-4e2e-9c41-3dc5788bf448\",\"type\":\"FactorRange\"},\"value\":-0.25},\"id\":\"6dc05b16-2bc1-46f4-8e04-f16d4be518db\",\"type\":\"Dodge\"},{\"attributes\":{\"callback\":null,\"factors\":[\"2014\",\"2015\",\"2016\"],\"range_padding\":0.1},\"id\":\"be567409-817c-4e2e-9c41-3dc5788bf448\",\"type\":\"FactorRange\"},{\"attributes\":{\"label\":{\"value\":\"Junio\"},\"renderers\":[{\"id\":\"3239da3a-0e9e-441c-b1ef-fd2b7054f276\",\"type\":\"GlyphRenderer\"}]},\"id\":\"571dad94-a6a3-4d33-80e9-5e6b21c701a6\",\"type\":\"LegendItem\"},{\"attributes\":{},\"id\":\"80e8f942-cfb5-4121-934d-70a56eb9cdf0\",\"type\":\"BasicTickFormatter\"},{\"attributes\":{\"source\":{\"id\":\"bac981d6-fa10-4d03-8290-806c5b01052a\",\"type\":\"ColumnDataSource\"}},\"id\":\"acc9c45d-c74d-4df2-ad21-3fbfe17903af\",\"type\":\"CDSView\"}],\"root_ids\":[\"e9563d3e-0a89-4aab-b9ef-eae0b523f0c1\"]},\"title\":\"Bokeh Application\",\"version\":\"0.12.10\"}};\n",
       "    var render_items = [{\"docid\":\"bd7d4012-e650-4b22-8b93-11982da3bcc8\",\"elementid\":\"3d0afb21-8855-4bf7-9aee-be63ea5784b9\",\"modelid\":\"e9563d3e-0a89-4aab-b9ef-eae0b523f0c1\"}];\n",
       "\n",
       "    root.Bokeh.embed.embed_items(docs_json, render_items);\n",
       "  }\n",
       "\n",
       "  if (root.Bokeh !== undefined) {\n",
       "    embed_document(root);\n",
       "  } else {\n",
       "    var attempts = 0;\n",
       "    var timer = setInterval(function(root) {\n",
       "      if (root.Bokeh !== undefined) {\n",
       "        embed_document(root);\n",
       "        clearInterval(timer);\n",
       "      }\n",
       "      attempts++;\n",
       "      if (attempts > 100) {\n",
       "        console.log(\"Bokeh: ERROR: Unable to embed document because BokehJS library is missing\")\n",
       "        clearInterval(timer);\n",
       "      }\n",
       "    }, 10, root)\n",
       "  }\n",
       "})(window);"
      ],
      "application/vnd.bokehjs_exec.v0+json": ""
     },
     "metadata": {
      "application/vnd.bokehjs_exec.v0+json": {
       "id": "e9563d3e-0a89-4aab-b9ef-eae0b523f0c1"
      }
     },
     "output_type": "display_data"
    }
   ],
   "source": [
    "from bokeh.core.properties import value\n",
    "from bokeh.models import ColumnDataSource\n",
    "from bokeh.transform import dodge\n",
    "from bokeh.io import show\n",
    "\n",
    "\n",
    "\n",
    "anios = ['2014', '2015', '2016']\n",
    "meses = ['Marzo', 'Junio', 'Septiembre']\n",
    "\n",
    "data = {'anios' : anios,\n",
    "        'Marzo'   : [24.6,29.6,22.4,],\n",
    "        'Junio'   : [11.4,6.2,8.6],\n",
    "        'Septiembre'   : [4.3,7.7,3.9]}\n",
    "\n",
    "source = ColumnDataSource(data=data) #obtener  objeto de pandas para obtener columnas\n",
    "\n",
    "p = figure(x_range=anios, y_range=(0, 45), plot_height=350, title=\"Indice de Pobresa a nivel Nacional\",\n",
    "           toolbar_location=\"below\", tools=\"\")\n",
    "\n",
    "p.vbar(x=dodge('anios', -0.25, range=p.x_range), top='Marzo', width=0.2, source=source,\n",
    "       color=\"#c9d9d3\", legend=value(\"Marzo\"))\n",
    "\n",
    "p.vbar(x=dodge('anios',  0.0,  range=p.x_range), top='Junio', width=0.2, source=source,\n",
    "       color=\"#718dbf\", legend=value(\"Junio\"))\n",
    "\n",
    "p.vbar(x=dodge('anios',  0.25, range=p.x_range), top='Septiembre', width=0.2, source=source,\n",
    "       color=\"#e84d60\", legend=value(\"Septiembre\"))\n",
    "\n",
    "p.x_range.range_padding = 0.1\n",
    "p.xgrid.grid_line_color = None\n",
    "p.legend.location = \"top_left\"\n",
    "p.legend.orientation = \"horizontal\"\n",
    "\n",
    "show(p)"
   ]
  },
  {
   "cell_type": "code",
   "execution_count": 91,
   "metadata": {},
   "outputs": [
    {
     "data": {
      "text/html": [
       "\n",
       "<div class=\"bk-root\">\n",
       "    <div class=\"bk-plotdiv\" id=\"73c8acc5-6947-4bd2-b41e-ff99e275178b\"></div>\n",
       "</div>"
      ]
     },
     "metadata": {},
     "output_type": "display_data"
    },
    {
     "data": {
      "application/javascript": [
       "(function(root) {\n",
       "  function embed_document(root) {\n",
       "    var docs_json = {\"fa4028a7-f7b1-4eb4-91a6-9009aa44330b\":{\"roots\":{\"references\":[{\"attributes\":{},\"id\":\"1ef1db07-f1ed-4342-bbed-1da17cdbdb32\",\"type\":\"LinearScale\"},{\"attributes\":{},\"id\":\"77ecfd05-c7f4-45f9-b84b-5b8e4fc9b9d4\",\"type\":\"ResetTool\"},{\"attributes\":{},\"id\":\"37f386f9-cf41-426d-9de4-164b4923d035\",\"type\":\"PanTool\"},{\"attributes\":{\"fill_alpha\":{\"value\":0.1},\"fill_color\":{\"value\":\"#1f77b4\"},\"line_alpha\":{\"value\":0.1},\"line_color\":{\"value\":\"#1f77b4\"},\"top\":{\"field\":\"top\"},\"width\":{\"value\":2},\"x\":{\"field\":\"x\"}},\"id\":\"ee1407da-a83a-45bc-8379-a992d3fe9cd1\",\"type\":\"VBar\"},{\"attributes\":{\"plot\":{\"id\":\"a2b798fe-ab36-467d-8bee-9fde81cd4fdb\",\"subtype\":\"Figure\",\"type\":\"Plot\"},\"ticker\":{\"id\":\"dac663ca-8545-42e2-b051-25fcfa32dd8e\",\"type\":\"BasicTicker\"}},\"id\":\"438128f6-9bb1-438b-9ed3-7771d4d699ab\",\"type\":\"Grid\"},{\"attributes\":{\"fill_color\":{\"value\":\"blue\"},\"line_color\":{\"value\":\"blue\"},\"top\":{\"field\":\"top\"},\"width\":{\"value\":2},\"x\":{\"field\":\"x\"}},\"id\":\"1152cfa1-f718-4f5f-a021-9207515ea6ea\",\"type\":\"VBar\"},{\"attributes\":{},\"id\":\"e53cfbe0-17fc-4545-bb0f-083cfc241163\",\"type\":\"LinearScale\"},{\"attributes\":{\"callback\":null,\"column_names\":[\"x\",\"top\"],\"data\":{\"top\":[11.4,6.2,8.6],\"x\":[24.6,29.6,22.4]}},\"id\":\"13cc7eb1-c0db-4b19-a914-2169d3b1cff7\",\"type\":\"ColumnDataSource\"},{\"attributes\":{},\"id\":\"edc8d1e6-20ea-4c6d-8f8f-57095144e33c\",\"type\":\"BasicTicker\"},{\"attributes\":{},\"id\":\"c86f1bdd-abaa-413a-a132-3e52c27cfc11\",\"type\":\"SaveTool\"},{\"attributes\":{},\"id\":\"dac663ca-8545-42e2-b051-25fcfa32dd8e\",\"type\":\"BasicTicker\"},{\"attributes\":{\"active_drag\":\"auto\",\"active_inspect\":\"auto\",\"active_scroll\":\"auto\",\"active_tap\":\"auto\",\"tools\":[{\"id\":\"37f386f9-cf41-426d-9de4-164b4923d035\",\"type\":\"PanTool\"},{\"id\":\"6175fd0f-a17d-42f0-885b-a070ac620362\",\"type\":\"WheelZoomTool\"},{\"id\":\"745c9cb8-97de-4020-a9fd-dafd7f34a430\",\"type\":\"BoxZoomTool\"},{\"id\":\"c86f1bdd-abaa-413a-a132-3e52c27cfc11\",\"type\":\"SaveTool\"},{\"id\":\"77ecfd05-c7f4-45f9-b84b-5b8e4fc9b9d4\",\"type\":\"ResetTool\"},{\"id\":\"89b5b3de-4acb-41b3-8d31-77ec601172db\",\"type\":\"HelpTool\"}]},\"id\":\"43aa81f3-8003-469b-8b67-5c549ba818c9\",\"type\":\"Toolbar\"},{\"attributes\":{\"formatter\":{\"id\":\"f6ea73e3-a957-4545-bd1f-01500968fb5d\",\"type\":\"BasicTickFormatter\"},\"plot\":{\"id\":\"a2b798fe-ab36-467d-8bee-9fde81cd4fdb\",\"subtype\":\"Figure\",\"type\":\"Plot\"},\"ticker\":{\"id\":\"dac663ca-8545-42e2-b051-25fcfa32dd8e\",\"type\":\"BasicTicker\"}},\"id\":\"27e3f974-e64c-48f9-895d-9c28b24811c7\",\"type\":\"LinearAxis\"},{\"attributes\":{},\"id\":\"89b5b3de-4acb-41b3-8d31-77ec601172db\",\"type\":\"HelpTool\"},{\"attributes\":{},\"id\":\"f6ea73e3-a957-4545-bd1f-01500968fb5d\",\"type\":\"BasicTickFormatter\"},{\"attributes\":{\"overlay\":{\"id\":\"14c1bcba-5485-4b1a-bcf2-6fd4e8a666f0\",\"type\":\"BoxAnnotation\"}},\"id\":\"745c9cb8-97de-4020-a9fd-dafd7f34a430\",\"type\":\"BoxZoomTool\"},{\"attributes\":{\"callback\":null},\"id\":\"df7787a2-9b30-44c6-bffd-fd0354e26f62\",\"type\":\"DataRange1d\"},{\"attributes\":{\"bottom_units\":\"screen\",\"fill_alpha\":{\"value\":0.5},\"fill_color\":{\"value\":\"lightgrey\"},\"left_units\":\"screen\",\"level\":\"overlay\",\"line_alpha\":{\"value\":1.0},\"line_color\":{\"value\":\"black\"},\"line_dash\":[4,4],\"line_width\":{\"value\":2},\"plot\":null,\"render_mode\":\"css\",\"right_units\":\"screen\",\"top_units\":\"screen\"},\"id\":\"14c1bcba-5485-4b1a-bcf2-6fd4e8a666f0\",\"type\":\"BoxAnnotation\"},{\"attributes\":{\"formatter\":{\"id\":\"582a2a30-21de-49d3-b58a-1d618c1bb079\",\"type\":\"BasicTickFormatter\"},\"plot\":{\"id\":\"a2b798fe-ab36-467d-8bee-9fde81cd4fdb\",\"subtype\":\"Figure\",\"type\":\"Plot\"},\"ticker\":{\"id\":\"edc8d1e6-20ea-4c6d-8f8f-57095144e33c\",\"type\":\"BasicTicker\"}},\"id\":\"613d052c-efc0-48b3-8e5a-1935ad6da747\",\"type\":\"LinearAxis\"},{\"attributes\":{\"dimension\":1,\"plot\":{\"id\":\"a2b798fe-ab36-467d-8bee-9fde81cd4fdb\",\"subtype\":\"Figure\",\"type\":\"Plot\"},\"ticker\":{\"id\":\"edc8d1e6-20ea-4c6d-8f8f-57095144e33c\",\"type\":\"BasicTicker\"}},\"id\":\"6bef4cbb-abd8-413c-9e86-9ed05855e1f6\",\"type\":\"Grid\"},{\"attributes\":{\"below\":[{\"id\":\"27e3f974-e64c-48f9-895d-9c28b24811c7\",\"type\":\"LinearAxis\"}],\"left\":[{\"id\":\"613d052c-efc0-48b3-8e5a-1935ad6da747\",\"type\":\"LinearAxis\"}],\"plot_height\":200,\"plot_width\":300,\"renderers\":[{\"id\":\"27e3f974-e64c-48f9-895d-9c28b24811c7\",\"type\":\"LinearAxis\"},{\"id\":\"438128f6-9bb1-438b-9ed3-7771d4d699ab\",\"type\":\"Grid\"},{\"id\":\"613d052c-efc0-48b3-8e5a-1935ad6da747\",\"type\":\"LinearAxis\"},{\"id\":\"6bef4cbb-abd8-413c-9e86-9ed05855e1f6\",\"type\":\"Grid\"},{\"id\":\"14c1bcba-5485-4b1a-bcf2-6fd4e8a666f0\",\"type\":\"BoxAnnotation\"},{\"id\":\"88a00543-048f-4077-ae37-12d1cf2959e0\",\"type\":\"GlyphRenderer\"}],\"title\":{\"id\":\"4cbdc688-26c7-4758-8b84-a3666410375d\",\"type\":\"Title\"},\"toolbar\":{\"id\":\"43aa81f3-8003-469b-8b67-5c549ba818c9\",\"type\":\"Toolbar\"},\"x_range\":{\"id\":\"df7787a2-9b30-44c6-bffd-fd0354e26f62\",\"type\":\"DataRange1d\"},\"x_scale\":{\"id\":\"1ef1db07-f1ed-4342-bbed-1da17cdbdb32\",\"type\":\"LinearScale\"},\"y_range\":{\"id\":\"22c01505-af15-4b7b-918d-d95410a67bf4\",\"type\":\"DataRange1d\"},\"y_scale\":{\"id\":\"e53cfbe0-17fc-4545-bb0f-083cfc241163\",\"type\":\"LinearScale\"}},\"id\":\"a2b798fe-ab36-467d-8bee-9fde81cd4fdb\",\"subtype\":\"Figure\",\"type\":\"Plot\"},{\"attributes\":{\"callback\":null},\"id\":\"22c01505-af15-4b7b-918d-d95410a67bf4\",\"type\":\"DataRange1d\"},{\"attributes\":{\"plot\":null,\"text\":\"\"},\"id\":\"4cbdc688-26c7-4758-8b84-a3666410375d\",\"type\":\"Title\"},{\"attributes\":{\"data_source\":{\"id\":\"13cc7eb1-c0db-4b19-a914-2169d3b1cff7\",\"type\":\"ColumnDataSource\"},\"glyph\":{\"id\":\"1152cfa1-f718-4f5f-a021-9207515ea6ea\",\"type\":\"VBar\"},\"hover_glyph\":null,\"muted_glyph\":null,\"nonselection_glyph\":{\"id\":\"ee1407da-a83a-45bc-8379-a992d3fe9cd1\",\"type\":\"VBar\"},\"selection_glyph\":null,\"view\":{\"id\":\"7938df4b-d35a-4e98-8486-d261dd1aaf86\",\"type\":\"CDSView\"}},\"id\":\"88a00543-048f-4077-ae37-12d1cf2959e0\",\"type\":\"GlyphRenderer\"},{\"attributes\":{\"source\":{\"id\":\"13cc7eb1-c0db-4b19-a914-2169d3b1cff7\",\"type\":\"ColumnDataSource\"}},\"id\":\"7938df4b-d35a-4e98-8486-d261dd1aaf86\",\"type\":\"CDSView\"},{\"attributes\":{},\"id\":\"6175fd0f-a17d-42f0-885b-a070ac620362\",\"type\":\"WheelZoomTool\"},{\"attributes\":{},\"id\":\"582a2a30-21de-49d3-b58a-1d618c1bb079\",\"type\":\"BasicTickFormatter\"}],\"root_ids\":[\"a2b798fe-ab36-467d-8bee-9fde81cd4fdb\"]},\"title\":\"Bokeh Application\",\"version\":\"0.12.10\"}};\n",
       "    var render_items = [{\"docid\":\"fa4028a7-f7b1-4eb4-91a6-9009aa44330b\",\"elementid\":\"73c8acc5-6947-4bd2-b41e-ff99e275178b\",\"modelid\":\"a2b798fe-ab36-467d-8bee-9fde81cd4fdb\"}];\n",
       "\n",
       "    root.Bokeh.embed.embed_items(docs_json, render_items);\n",
       "  }\n",
       "\n",
       "  if (root.Bokeh !== undefined) {\n",
       "    embed_document(root);\n",
       "  } else {\n",
       "    var attempts = 0;\n",
       "    var timer = setInterval(function(root) {\n",
       "      if (root.Bokeh !== undefined) {\n",
       "        embed_document(root);\n",
       "        clearInterval(timer);\n",
       "      }\n",
       "      attempts++;\n",
       "      if (attempts > 100) {\n",
       "        console.log(\"Bokeh: ERROR: Unable to embed document because BokehJS library is missing\")\n",
       "        clearInterval(timer);\n",
       "      }\n",
       "    }, 10, root)\n",
       "  }\n",
       "})(window);"
      ],
      "application/vnd.bokehjs_exec.v0+json": ""
     },
     "metadata": {
      "application/vnd.bokehjs_exec.v0+json": {
       "id": "a2b798fe-ab36-467d-8bee-9fde81cd4fdb"
      }
     },
     "output_type": "display_data"
    }
   ],
   "source": [
    "from bokeh.plotting import figure, show\n",
    "vbar = figure(plot_width=300, plot_height=200)\n",
    "vbar.vbar(x=[24.6,29.6,22.4], width=2, top=[11.4,6.2,8.6], color=\"blue\")\n",
    "show(vbar)"
   ]
  },
  {
   "cell_type": "code",
   "execution_count": 84,
   "metadata": {},
   "outputs": [
    {
     "data": {
      "text/html": [
       "\n",
       "<div class=\"bk-root\">\n",
       "    <div class=\"bk-plotdiv\" id=\"34e7d47f-9c64-4a66-bb8a-ea9a030a2113\"></div>\n",
       "</div>"
      ]
     },
     "metadata": {},
     "output_type": "display_data"
    },
    {
     "data": {
      "application/javascript": [
       "(function(root) {\n",
       "  function embed_document(root) {\n",
       "    var docs_json = {\"7fcc85d9-6585-41c8-ad9e-49fb9165e799\":{\"roots\":{\"references\":[{\"attributes\":{\"formatter\":{\"id\":\"c88e3075-407a-418d-9550-fbf15f4b4095\",\"type\":\"BasicTickFormatter\"},\"plot\":{\"id\":\"f1ed65af-5b8d-40b8-849b-a3b4ab3a2c68\",\"subtype\":\"Figure\",\"type\":\"Plot\"},\"ticker\":{\"id\":\"9df90699-b303-43b4-b6f3-858f67a1a162\",\"type\":\"BasicTicker\"}},\"id\":\"427d099c-075c-4bf2-ac94-1d61d1dfd76d\",\"type\":\"LinearAxis\"},{\"attributes\":{\"formatter\":{\"id\":\"6d08d658-dfec-4b13-9cd6-a11a2e494f9c\",\"type\":\"BasicTickFormatter\"},\"plot\":{\"id\":\"f1ed65af-5b8d-40b8-849b-a3b4ab3a2c68\",\"subtype\":\"Figure\",\"type\":\"Plot\"},\"ticker\":{\"id\":\"0912daaa-871d-4409-b852-b6ddb50585e9\",\"type\":\"BasicTicker\"}},\"id\":\"4a172085-d327-417a-b74d-5efc559b23dd\",\"type\":\"LinearAxis\"},{\"attributes\":{\"below\":[{\"id\":\"427d099c-075c-4bf2-ac94-1d61d1dfd76d\",\"type\":\"LinearAxis\"}],\"left\":[{\"id\":\"4a172085-d327-417a-b74d-5efc559b23dd\",\"type\":\"LinearAxis\"}],\"plot_height\":200,\"plot_width\":400,\"renderers\":[{\"id\":\"427d099c-075c-4bf2-ac94-1d61d1dfd76d\",\"type\":\"LinearAxis\"},{\"id\":\"fe2229da-285c-4b93-a05e-3cf51ef72ae2\",\"type\":\"Grid\"},{\"id\":\"4a172085-d327-417a-b74d-5efc559b23dd\",\"type\":\"LinearAxis\"},{\"id\":\"5a54b979-90ae-430e-96fb-d62cb695b652\",\"type\":\"Grid\"},{\"id\":\"545db92b-640d-42e4-9d38-09d82da1a3b2\",\"type\":\"BoxAnnotation\"},{\"id\":\"22f6a335-3427-4a93-ab4d-dbdea26889e9\",\"type\":\"GlyphRenderer\"}],\"title\":{\"id\":\"df57e0c8-1de0-4a34-a2b0-744eb38937b8\",\"type\":\"Title\"},\"toolbar\":{\"id\":\"42e7abdc-35cc-4680-9603-24c68e04c05e\",\"type\":\"Toolbar\"},\"x_range\":{\"id\":\"df192456-d28c-4efa-b057-731c16b1e5f3\",\"type\":\"DataRange1d\"},\"x_scale\":{\"id\":\"fc222ad3-9ea4-43ea-aaf1-828fc862f25f\",\"type\":\"LinearScale\"},\"y_range\":{\"id\":\"898c6757-622c-41db-9b21-3db6431cbc94\",\"type\":\"DataRange1d\"},\"y_scale\":{\"id\":\"b2f100ec-4436-43d5-b55a-7b35e98055cb\",\"type\":\"LinearScale\"}},\"id\":\"f1ed65af-5b8d-40b8-849b-a3b4ab3a2c68\",\"subtype\":\"Figure\",\"type\":\"Plot\"},{\"attributes\":{\"plot\":{\"id\":\"f1ed65af-5b8d-40b8-849b-a3b4ab3a2c68\",\"subtype\":\"Figure\",\"type\":\"Plot\"},\"ticker\":{\"id\":\"9df90699-b303-43b4-b6f3-858f67a1a162\",\"type\":\"BasicTicker\"}},\"id\":\"fe2229da-285c-4b93-a05e-3cf51ef72ae2\",\"type\":\"Grid\"},{\"attributes\":{\"active_drag\":\"auto\",\"active_inspect\":\"auto\",\"active_scroll\":\"auto\",\"active_tap\":\"auto\",\"tools\":[{\"id\":\"cfdc4b9e-92df-4249-b3da-3bf601688633\",\"type\":\"PanTool\"},{\"id\":\"02020ccb-4a80-43cf-9fa9-0e49864c9c32\",\"type\":\"WheelZoomTool\"},{\"id\":\"7101c729-7c31-42fd-ae45-5c33653c9c94\",\"type\":\"BoxZoomTool\"},{\"id\":\"115801f6-8faa-4b88-b4fd-f0f4b4b65f63\",\"type\":\"SaveTool\"},{\"id\":\"4b57a4e0-ea39-4913-9245-20162e8aa485\",\"type\":\"ResetTool\"},{\"id\":\"be31b28e-7398-4a6c-bbbc-1c9027fb3ac8\",\"type\":\"HelpTool\"}]},\"id\":\"42e7abdc-35cc-4680-9603-24c68e04c05e\",\"type\":\"Toolbar\"},{\"attributes\":{},\"id\":\"cfdc4b9e-92df-4249-b3da-3bf601688633\",\"type\":\"PanTool\"},{\"attributes\":{},\"id\":\"9df90699-b303-43b4-b6f3-858f67a1a162\",\"type\":\"BasicTicker\"},{\"attributes\":{\"bottom_units\":\"screen\",\"fill_alpha\":{\"value\":0.5},\"fill_color\":{\"value\":\"lightgrey\"},\"left_units\":\"screen\",\"level\":\"overlay\",\"line_alpha\":{\"value\":1.0},\"line_color\":{\"value\":\"black\"},\"line_dash\":[4,4],\"line_width\":{\"value\":2},\"plot\":null,\"render_mode\":\"css\",\"right_units\":\"screen\",\"top_units\":\"screen\"},\"id\":\"545db92b-640d-42e4-9d38-09d82da1a3b2\",\"type\":\"BoxAnnotation\"},{\"attributes\":{\"line_alpha\":{\"value\":0.1},\"line_color\":{\"value\":\"#1f77b4\"},\"line_width\":{\"value\":4},\"x\":{\"field\":\"x\"},\"y\":{\"field\":\"y\"}},\"id\":\"1b628dc8-f697-448b-b84d-a84f283a17db\",\"type\":\"Line\"},{\"attributes\":{},\"id\":\"115801f6-8faa-4b88-b4fd-f0f4b4b65f63\",\"type\":\"SaveTool\"},{\"attributes\":{},\"id\":\"4b57a4e0-ea39-4913-9245-20162e8aa485\",\"type\":\"ResetTool\"},{\"attributes\":{},\"id\":\"fc222ad3-9ea4-43ea-aaf1-828fc862f25f\",\"type\":\"LinearScale\"},{\"attributes\":{\"data_source\":{\"id\":\"c311dd5e-2037-4ed3-8ed7-1e1bf4767d52\",\"type\":\"ColumnDataSource\"},\"glyph\":{\"id\":\"f971a19d-cf88-4716-b378-30eecec9ab71\",\"type\":\"Line\"},\"hover_glyph\":null,\"muted_glyph\":null,\"nonselection_glyph\":{\"id\":\"1b628dc8-f697-448b-b84d-a84f283a17db\",\"type\":\"Line\"},\"selection_glyph\":null,\"view\":{\"id\":\"0e009be4-bf67-403c-a8f2-875a578839dd\",\"type\":\"CDSView\"}},\"id\":\"22f6a335-3427-4a93-ab4d-dbdea26889e9\",\"type\":\"GlyphRenderer\"},{\"attributes\":{\"line_color\":{\"value\":\"#1f77b4\"},\"line_width\":{\"value\":4},\"x\":{\"field\":\"x\"},\"y\":{\"field\":\"y\"}},\"id\":\"f971a19d-cf88-4716-b378-30eecec9ab71\",\"type\":\"Line\"},{\"attributes\":{\"callback\":null,\"column_names\":[\"y\",\"x\"],\"data\":{\"x\":[2014,2015,2016,2017],\"y\":[24.6,29.6,22.4,27.8]}},\"id\":\"c311dd5e-2037-4ed3-8ed7-1e1bf4767d52\",\"type\":\"ColumnDataSource\"},{\"attributes\":{},\"id\":\"be31b28e-7398-4a6c-bbbc-1c9027fb3ac8\",\"type\":\"HelpTool\"},{\"attributes\":{},\"id\":\"c88e3075-407a-418d-9550-fbf15f4b4095\",\"type\":\"BasicTickFormatter\"},{\"attributes\":{\"dimension\":1,\"plot\":{\"id\":\"f1ed65af-5b8d-40b8-849b-a3b4ab3a2c68\",\"subtype\":\"Figure\",\"type\":\"Plot\"},\"ticker\":{\"id\":\"0912daaa-871d-4409-b852-b6ddb50585e9\",\"type\":\"BasicTicker\"}},\"id\":\"5a54b979-90ae-430e-96fb-d62cb695b652\",\"type\":\"Grid\"},{\"attributes\":{},\"id\":\"0912daaa-871d-4409-b852-b6ddb50585e9\",\"type\":\"BasicTicker\"},{\"attributes\":{},\"id\":\"b2f100ec-4436-43d5-b55a-7b35e98055cb\",\"type\":\"LinearScale\"},{\"attributes\":{\"callback\":null},\"id\":\"df192456-d28c-4efa-b057-731c16b1e5f3\",\"type\":\"DataRange1d\"},{\"attributes\":{},\"id\":\"6d08d658-dfec-4b13-9cd6-a11a2e494f9c\",\"type\":\"BasicTickFormatter\"},{\"attributes\":{\"callback\":null},\"id\":\"898c6757-622c-41db-9b21-3db6431cbc94\",\"type\":\"DataRange1d\"},{\"attributes\":{\"plot\":null,\"text\":\"\"},\"id\":\"df57e0c8-1de0-4a34-a2b0-744eb38937b8\",\"type\":\"Title\"},{\"attributes\":{\"overlay\":{\"id\":\"545db92b-640d-42e4-9d38-09d82da1a3b2\",\"type\":\"BoxAnnotation\"}},\"id\":\"7101c729-7c31-42fd-ae45-5c33653c9c94\",\"type\":\"BoxZoomTool\"},{\"attributes\":{},\"id\":\"02020ccb-4a80-43cf-9fa9-0e49864c9c32\",\"type\":\"WheelZoomTool\"},{\"attributes\":{\"source\":{\"id\":\"c311dd5e-2037-4ed3-8ed7-1e1bf4767d52\",\"type\":\"ColumnDataSource\"}},\"id\":\"0e009be4-bf67-403c-a8f2-875a578839dd\",\"type\":\"CDSView\"}],\"root_ids\":[\"f1ed65af-5b8d-40b8-849b-a3b4ab3a2c68\"]},\"title\":\"Bokeh Application\",\"version\":\"0.12.10\"}};\n",
       "    var render_items = [{\"docid\":\"7fcc85d9-6585-41c8-ad9e-49fb9165e799\",\"elementid\":\"34e7d47f-9c64-4a66-bb8a-ea9a030a2113\",\"modelid\":\"f1ed65af-5b8d-40b8-849b-a3b4ab3a2c68\"}];\n",
       "\n",
       "    root.Bokeh.embed.embed_items(docs_json, render_items);\n",
       "  }\n",
       "\n",
       "  if (root.Bokeh !== undefined) {\n",
       "    embed_document(root);\n",
       "  } else {\n",
       "    var attempts = 0;\n",
       "    var timer = setInterval(function(root) {\n",
       "      if (root.Bokeh !== undefined) {\n",
       "        embed_document(root);\n",
       "        clearInterval(timer);\n",
       "      }\n",
       "      attempts++;\n",
       "      if (attempts > 100) {\n",
       "        console.log(\"Bokeh: ERROR: Unable to embed document because BokehJS library is missing\")\n",
       "        clearInterval(timer);\n",
       "      }\n",
       "    }, 10, root)\n",
       "  }\n",
       "})(window);"
      ],
      "application/vnd.bokehjs_exec.v0+json": ""
     },
     "metadata": {
      "application/vnd.bokehjs_exec.v0+json": {
       "id": "f1ed65af-5b8d-40b8-849b-a3b4ab3a2c68"
      }
     },
     "output_type": "display_data"
    }
   ],
   "source": [
    "from bokeh.plotting import figure,show\n",
    " \n",
    "x = [2014, 2015, 2016, 2017]\n",
    "y = [24.6,29.6,22.4,27.8]\n",
    "fig = figure(plot_width=400, plot_height=200)\n",
    "fig.line(x, y, line_width=4)\n",
    " \n",
    "show(fig)"
   ]
  },
  {
   "cell_type": "code",
   "execution_count": 88,
   "metadata": {},
   "outputs": [
    {
     "data": {
      "text/html": [
       "\n",
       "<div class=\"bk-root\">\n",
       "    <div class=\"bk-plotdiv\" id=\"2cfb2710-6eb9-4fd0-9e4b-ae1039ff68fb\"></div>\n",
       "</div>"
      ]
     },
     "metadata": {},
     "output_type": "display_data"
    },
    {
     "data": {
      "application/javascript": [
       "(function(root) {\n",
       "  function embed_document(root) {\n",
       "    var docs_json = {\"39e0f64c-84fd-4507-9113-e8e6c45f5d12\":{\"roots\":{\"references\":[{\"attributes\":{\"active_drag\":\"auto\",\"active_inspect\":\"auto\",\"active_scroll\":\"auto\",\"active_tap\":\"auto\",\"tools\":[{\"id\":\"01804251-5a98-4ae8-9ec4-7dfa57705aaa\",\"type\":\"PanTool\"},{\"id\":\"c652ceb6-ebce-49f6-a693-88ad3527c5ec\",\"type\":\"WheelZoomTool\"},{\"id\":\"15fb4d4f-1a1f-4aca-bd0b-1dbba0cb40e4\",\"type\":\"BoxZoomTool\"},{\"id\":\"9ad04f88-ca24-479d-a7e0-8ba44afe0ce5\",\"type\":\"SaveTool\"},{\"id\":\"a8bcb3b9-b029-47de-8622-d55a98f4d1ac\",\"type\":\"ResetTool\"},{\"id\":\"a31e752d-8980-4ffa-9acb-1157ee1ece0e\",\"type\":\"HelpTool\"}]},\"id\":\"e7096fd2-0108-416d-9c33-e133303f2a00\",\"type\":\"Toolbar\"},{\"attributes\":{\"callback\":null,\"column_names\":[\"y\",\"x\"],\"data\":{\"x\":[2015,2016,2017,2007],\"y\":[24.1,25.4,24.5,0]}},\"id\":\"b085d69d-270c-48d5-903e-36b77a4bfc2c\",\"type\":\"ColumnDataSource\"},{\"attributes\":{\"below\":[{\"id\":\"d01c3745-70b2-4c8b-bc86-b1928b885d96\",\"type\":\"LinearAxis\"}],\"left\":[{\"id\":\"ac064f88-56fc-486c-aafd-92cbccdb0467\",\"type\":\"LinearAxis\"}],\"plot_height\":400,\"plot_width\":400,\"renderers\":[{\"id\":\"d01c3745-70b2-4c8b-bc86-b1928b885d96\",\"type\":\"LinearAxis\"},{\"id\":\"a9c5ec26-f26a-49f7-8939-2a92045dd5b0\",\"type\":\"Grid\"},{\"id\":\"ac064f88-56fc-486c-aafd-92cbccdb0467\",\"type\":\"LinearAxis\"},{\"id\":\"dfafeb57-cb75-4c2a-8092-f5f3d0749141\",\"type\":\"Grid\"},{\"id\":\"ffe7cdd4-c70f-4b29-ac0c-3f7452a4392d\",\"type\":\"BoxAnnotation\"},{\"id\":\"ec750889-1480-435e-8bfd-abd774b4a145\",\"type\":\"GlyphRenderer\"},{\"id\":\"a2e17898-15bb-408b-8b7a-0d82fa5e33a4\",\"type\":\"GlyphRenderer\"}],\"title\":{\"id\":\"bdfa9b3b-d32c-4bd9-be0e-8ea8391572f2\",\"type\":\"Title\"},\"toolbar\":{\"id\":\"e7096fd2-0108-416d-9c33-e133303f2a00\",\"type\":\"Toolbar\"},\"x_range\":{\"id\":\"651106e3-c221-4dd9-8326-8499fe644134\",\"type\":\"DataRange1d\"},\"x_scale\":{\"id\":\"c8ef31f2-fc73-4e9d-81b0-fdcf673cf2c6\",\"type\":\"LinearScale\"},\"y_range\":{\"id\":\"223b4a62-89aa-436c-93f7-7a8e92da5dc2\",\"type\":\"DataRange1d\"},\"y_scale\":{\"id\":\"8970be75-b78c-4a61-bfd4-2dfff0250984\",\"type\":\"LinearScale\"}},\"id\":\"80b9926e-082d-4c13-b69b-d45f9450b0e1\",\"subtype\":\"Figure\",\"type\":\"Plot\"},{\"attributes\":{\"fill_alpha\":{\"value\":0.1},\"fill_color\":{\"value\":\"#1f77b4\"},\"line_alpha\":{\"value\":0.1},\"line_color\":{\"value\":\"#1f77b4\"},\"size\":{\"units\":\"screen\",\"value\":10},\"x\":{\"field\":\"x\"},\"y\":{\"field\":\"y\"}},\"id\":\"ca54ef44-b70c-483a-a4bb-da4fcc6a7931\",\"type\":\"CircleCross\"},{\"attributes\":{\"callback\":null},\"id\":\"651106e3-c221-4dd9-8326-8499fe644134\",\"type\":\"DataRange1d\"},{\"attributes\":{\"formatter\":{\"id\":\"4e20f270-c79c-4ede-bece-2ae4f6dee9ee\",\"type\":\"BasicTickFormatter\"},\"plot\":{\"id\":\"80b9926e-082d-4c13-b69b-d45f9450b0e1\",\"subtype\":\"Figure\",\"type\":\"Plot\"},\"ticker\":{\"id\":\"8fc2e239-4661-44a3-b73d-13bf11308ba1\",\"type\":\"BasicTicker\"}},\"id\":\"d01c3745-70b2-4c8b-bc86-b1928b885d96\",\"type\":\"LinearAxis\"},{\"attributes\":{\"data_source\":{\"id\":\"56cc6cc7-6a30-4179-9e66-469342be14c3\",\"type\":\"ColumnDataSource\"},\"glyph\":{\"id\":\"c6bf3df3-55cf-4031-9f6e-9e695d0a1ae6\",\"type\":\"Line\"},\"hover_glyph\":null,\"muted_glyph\":null,\"nonselection_glyph\":{\"id\":\"c4252762-2d3d-4805-b26d-da531ba58b4f\",\"type\":\"Line\"},\"selection_glyph\":null,\"view\":{\"id\":\"c0e1362b-e051-40d5-bebe-d59553936899\",\"type\":\"CDSView\"}},\"id\":\"ec750889-1480-435e-8bfd-abd774b4a145\",\"type\":\"GlyphRenderer\"},{\"attributes\":{\"plot\":{\"id\":\"80b9926e-082d-4c13-b69b-d45f9450b0e1\",\"subtype\":\"Figure\",\"type\":\"Plot\"},\"ticker\":{\"id\":\"8fc2e239-4661-44a3-b73d-13bf11308ba1\",\"type\":\"BasicTicker\"}},\"id\":\"a9c5ec26-f26a-49f7-8939-2a92045dd5b0\",\"type\":\"Grid\"},{\"attributes\":{\"callback\":null},\"id\":\"223b4a62-89aa-436c-93f7-7a8e92da5dc2\",\"type\":\"DataRange1d\"},{\"attributes\":{},\"id\":\"a31e752d-8980-4ffa-9acb-1157ee1ece0e\",\"type\":\"HelpTool\"},{\"attributes\":{},\"id\":\"4e20f270-c79c-4ede-bece-2ae4f6dee9ee\",\"type\":\"BasicTickFormatter\"},{\"attributes\":{},\"id\":\"8970be75-b78c-4a61-bfd4-2dfff0250984\",\"type\":\"LinearScale\"},{\"attributes\":{},\"id\":\"bd5b9182-ec6e-424c-9e2c-1f8ece566f7e\",\"type\":\"BasicTicker\"},{\"attributes\":{},\"id\":\"c652ceb6-ebce-49f6-a693-88ad3527c5ec\",\"type\":\"WheelZoomTool\"},{\"attributes\":{\"formatter\":{\"id\":\"34d82c8b-d886-4a6b-a305-18bda9f96efe\",\"type\":\"BasicTickFormatter\"},\"plot\":{\"id\":\"80b9926e-082d-4c13-b69b-d45f9450b0e1\",\"subtype\":\"Figure\",\"type\":\"Plot\"},\"ticker\":{\"id\":\"bd5b9182-ec6e-424c-9e2c-1f8ece566f7e\",\"type\":\"BasicTicker\"}},\"id\":\"ac064f88-56fc-486c-aafd-92cbccdb0467\",\"type\":\"LinearAxis\"},{\"attributes\":{\"source\":{\"id\":\"56cc6cc7-6a30-4179-9e66-469342be14c3\",\"type\":\"ColumnDataSource\"}},\"id\":\"c0e1362b-e051-40d5-bebe-d59553936899\",\"type\":\"CDSView\"},{\"attributes\":{},\"id\":\"8fc2e239-4661-44a3-b73d-13bf11308ba1\",\"type\":\"BasicTicker\"},{\"attributes\":{\"data_source\":{\"id\":\"b085d69d-270c-48d5-903e-36b77a4bfc2c\",\"type\":\"ColumnDataSource\"},\"glyph\":{\"id\":\"e9ff8df9-61bf-47f0-9b43-3f2e1917ecf0\",\"type\":\"CircleCross\"},\"hover_glyph\":null,\"muted_glyph\":null,\"nonselection_glyph\":{\"id\":\"ca54ef44-b70c-483a-a4bb-da4fcc6a7931\",\"type\":\"CircleCross\"},\"selection_glyph\":null,\"view\":{\"id\":\"da40ccbf-3c39-4691-9772-8b80845d6faa\",\"type\":\"CDSView\"}},\"id\":\"a2e17898-15bb-408b-8b7a-0d82fa5e33a4\",\"type\":\"GlyphRenderer\"},{\"attributes\":{\"line_alpha\":{\"value\":0.1},\"line_color\":{\"value\":\"#1f77b4\"},\"line_width\":{\"value\":4},\"x\":{\"field\":\"x\"},\"y\":{\"field\":\"y\"}},\"id\":\"c4252762-2d3d-4805-b26d-da531ba58b4f\",\"type\":\"Line\"},{\"attributes\":{\"overlay\":{\"id\":\"ffe7cdd4-c70f-4b29-ac0c-3f7452a4392d\",\"type\":\"BoxAnnotation\"}},\"id\":\"15fb4d4f-1a1f-4aca-bd0b-1dbba0cb40e4\",\"type\":\"BoxZoomTool\"},{\"attributes\":{\"plot\":null,\"text\":\"\"},\"id\":\"bdfa9b3b-d32c-4bd9-be0e-8ea8391572f2\",\"type\":\"Title\"},{\"attributes\":{\"dimension\":1,\"plot\":{\"id\":\"80b9926e-082d-4c13-b69b-d45f9450b0e1\",\"subtype\":\"Figure\",\"type\":\"Plot\"},\"ticker\":{\"id\":\"bd5b9182-ec6e-424c-9e2c-1f8ece566f7e\",\"type\":\"BasicTicker\"}},\"id\":\"dfafeb57-cb75-4c2a-8092-f5f3d0749141\",\"type\":\"Grid\"},{\"attributes\":{\"bottom_units\":\"screen\",\"fill_alpha\":{\"value\":0.5},\"fill_color\":{\"value\":\"lightgrey\"},\"left_units\":\"screen\",\"level\":\"overlay\",\"line_alpha\":{\"value\":1.0},\"line_color\":{\"value\":\"black\"},\"line_dash\":[4,4],\"line_width\":{\"value\":2},\"plot\":null,\"render_mode\":\"css\",\"right_units\":\"screen\",\"top_units\":\"screen\"},\"id\":\"ffe7cdd4-c70f-4b29-ac0c-3f7452a4392d\",\"type\":\"BoxAnnotation\"},{\"attributes\":{\"source\":{\"id\":\"b085d69d-270c-48d5-903e-36b77a4bfc2c\",\"type\":\"ColumnDataSource\"}},\"id\":\"da40ccbf-3c39-4691-9772-8b80845d6faa\",\"type\":\"CDSView\"},{\"attributes\":{\"fill_color\":{\"value\":\"yellow\"},\"line_color\":{\"value\":\"#1f77b4\"},\"size\":{\"units\":\"screen\",\"value\":10},\"x\":{\"field\":\"x\"},\"y\":{\"field\":\"y\"}},\"id\":\"e9ff8df9-61bf-47f0-9b43-3f2e1917ecf0\",\"type\":\"CircleCross\"},{\"attributes\":{},\"id\":\"01804251-5a98-4ae8-9ec4-7dfa57705aaa\",\"type\":\"PanTool\"},{\"attributes\":{\"callback\":null,\"column_names\":[\"y\",\"x\"],\"data\":{\"x\":[2015,2016,2017,2007],\"y\":[24.1,25.4,24.5,0]}},\"id\":\"56cc6cc7-6a30-4179-9e66-469342be14c3\",\"type\":\"ColumnDataSource\"},{\"attributes\":{},\"id\":\"a8bcb3b9-b029-47de-8622-d55a98f4d1ac\",\"type\":\"ResetTool\"},{\"attributes\":{},\"id\":\"9ad04f88-ca24-479d-a7e0-8ba44afe0ce5\",\"type\":\"SaveTool\"},{\"attributes\":{\"line_color\":{\"value\":\"#1f77b4\"},\"line_width\":{\"value\":4},\"x\":{\"field\":\"x\"},\"y\":{\"field\":\"y\"}},\"id\":\"c6bf3df3-55cf-4031-9f6e-9e695d0a1ae6\",\"type\":\"Line\"},{\"attributes\":{},\"id\":\"c8ef31f2-fc73-4e9d-81b0-fdcf673cf2c6\",\"type\":\"LinearScale\"},{\"attributes\":{},\"id\":\"34d82c8b-d886-4a6b-a305-18bda9f96efe\",\"type\":\"BasicTickFormatter\"}],\"root_ids\":[\"80b9926e-082d-4c13-b69b-d45f9450b0e1\"]},\"title\":\"Bokeh Application\",\"version\":\"0.12.10\"}};\n",
       "    var render_items = [{\"docid\":\"39e0f64c-84fd-4507-9113-e8e6c45f5d12\",\"elementid\":\"2cfb2710-6eb9-4fd0-9e4b-ae1039ff68fb\",\"modelid\":\"80b9926e-082d-4c13-b69b-d45f9450b0e1\"}];\n",
       "\n",
       "    root.Bokeh.embed.embed_items(docs_json, render_items);\n",
       "  }\n",
       "\n",
       "  if (root.Bokeh !== undefined) {\n",
       "    embed_document(root);\n",
       "  } else {\n",
       "    var attempts = 0;\n",
       "    var timer = setInterval(function(root) {\n",
       "      if (root.Bokeh !== undefined) {\n",
       "        embed_document(root);\n",
       "        clearInterval(timer);\n",
       "      }\n",
       "      attempts++;\n",
       "      if (attempts > 100) {\n",
       "        console.log(\"Bokeh: ERROR: Unable to embed document because BokehJS library is missing\")\n",
       "        clearInterval(timer);\n",
       "      }\n",
       "    }, 10, root)\n",
       "  }\n",
       "})(window);"
      ],
      "application/vnd.bokehjs_exec.v0+json": ""
     },
     "metadata": {
      "application/vnd.bokehjs_exec.v0+json": {
       "id": "80b9926e-082d-4c13-b69b-d45f9450b0e1"
      }
     },
     "output_type": "display_data"
    }
   ],
   "source": [
    "x = [2015,2016,2017,2007]\n",
    "y = [24.1,25.4,24.5,0]\n",
    "fig = figure(plot_width=400, plot_height=400)\n",
    "fig.line(x, y, line_width=4)\n",
    "fig.circle_cross(x, y, fill_color=\"yellow\", size=10)\n",
    " \n",
    "show(fig)"
   ]
  },
  {
   "cell_type": "code",
   "execution_count": null,
   "metadata": {},
   "outputs": [],
   "source": []
  },
  {
   "cell_type": "code",
   "execution_count": null,
   "metadata": {},
   "outputs": [],
   "source": []
  },
  {
   "cell_type": "code",
   "execution_count": null,
   "metadata": {},
   "outputs": [],
   "source": []
  },
  {
   "cell_type": "code",
   "execution_count": null,
   "metadata": {},
   "outputs": [],
   "source": []
  },
  {
   "cell_type": "code",
   "execution_count": null,
   "metadata": {},
   "outputs": [],
   "source": []
  },
  {
   "cell_type": "code",
   "execution_count": null,
   "metadata": {},
   "outputs": [],
   "source": []
  },
  {
   "cell_type": "code",
   "execution_count": null,
   "metadata": {},
   "outputs": [],
   "source": []
  },
  {
   "cell_type": "code",
   "execution_count": null,
   "metadata": {},
   "outputs": [],
   "source": []
  },
  {
   "cell_type": "code",
   "execution_count": null,
   "metadata": {},
   "outputs": [],
   "source": []
  },
  {
   "cell_type": "code",
   "execution_count": null,
   "metadata": {},
   "outputs": [],
   "source": []
  },
  {
   "cell_type": "code",
   "execution_count": null,
   "metadata": {},
   "outputs": [],
   "source": []
  },
  {
   "cell_type": "code",
   "execution_count": null,
   "metadata": {},
   "outputs": [],
   "source": []
  },
  {
   "cell_type": "code",
   "execution_count": null,
   "metadata": {},
   "outputs": [],
   "source": []
  },
  {
   "cell_type": "code",
   "execution_count": null,
   "metadata": {},
   "outputs": [],
   "source": []
  },
  {
   "cell_type": "code",
   "execution_count": null,
   "metadata": {},
   "outputs": [],
   "source": []
  },
  {
   "cell_type": "code",
   "execution_count": null,
   "metadata": {},
   "outputs": [],
   "source": []
  },
  {
   "cell_type": "code",
   "execution_count": null,
   "metadata": {},
   "outputs": [],
   "source": []
  },
  {
   "cell_type": "code",
   "execution_count": null,
   "metadata": {},
   "outputs": [],
   "source": []
  },
  {
   "cell_type": "code",
   "execution_count": null,
   "metadata": {},
   "outputs": [],
   "source": []
  },
  {
   "cell_type": "code",
   "execution_count": null,
   "metadata": {},
   "outputs": [],
   "source": []
  },
  {
   "cell_type": "code",
   "execution_count": null,
   "metadata": {},
   "outputs": [],
   "source": []
  },
  {
   "cell_type": "code",
   "execution_count": null,
   "metadata": {},
   "outputs": [],
   "source": []
  },
  {
   "cell_type": "code",
   "execution_count": null,
   "metadata": {},
   "outputs": [],
   "source": []
  },
  {
   "cell_type": "code",
   "execution_count": null,
   "metadata": {},
   "outputs": [],
   "source": []
  },
  {
   "cell_type": "code",
   "execution_count": null,
   "metadata": {},
   "outputs": [],
   "source": []
  },
  {
   "cell_type": "code",
   "execution_count": null,
   "metadata": {},
   "outputs": [],
   "source": []
  },
  {
   "cell_type": "code",
   "execution_count": null,
   "metadata": {},
   "outputs": [],
   "source": []
  },
  {
   "cell_type": "code",
   "execution_count": null,
   "metadata": {},
   "outputs": [],
   "source": []
  },
  {
   "cell_type": "code",
   "execution_count": null,
   "metadata": {},
   "outputs": [],
   "source": []
  },
  {
   "cell_type": "code",
   "execution_count": null,
   "metadata": {},
   "outputs": [],
   "source": []
  },
  {
   "cell_type": "code",
   "execution_count": null,
   "metadata": {},
   "outputs": [],
   "source": []
  },
  {
   "cell_type": "code",
   "execution_count": null,
   "metadata": {},
   "outputs": [],
   "source": []
  },
  {
   "cell_type": "code",
   "execution_count": null,
   "metadata": {},
   "outputs": [],
   "source": []
  },
  {
   "cell_type": "code",
   "execution_count": null,
   "metadata": {},
   "outputs": [],
   "source": []
  },
  {
   "cell_type": "code",
   "execution_count": null,
   "metadata": {},
   "outputs": [],
   "source": []
  },
  {
   "cell_type": "code",
   "execution_count": null,
   "metadata": {},
   "outputs": [],
   "source": []
  },
  {
   "cell_type": "code",
   "execution_count": null,
   "metadata": {},
   "outputs": [],
   "source": []
  },
  {
   "cell_type": "code",
   "execution_count": null,
   "metadata": {},
   "outputs": [],
   "source": []
  },
  {
   "cell_type": "code",
   "execution_count": null,
   "metadata": {},
   "outputs": [],
   "source": []
  },
  {
   "cell_type": "code",
   "execution_count": null,
   "metadata": {},
   "outputs": [],
   "source": []
  },
  {
   "cell_type": "code",
   "execution_count": null,
   "metadata": {},
   "outputs": [],
   "source": []
  },
  {
   "cell_type": "code",
   "execution_count": null,
   "metadata": {},
   "outputs": [],
   "source": []
  },
  {
   "cell_type": "code",
   "execution_count": null,
   "metadata": {},
   "outputs": [],
   "source": []
  },
  {
   "cell_type": "code",
   "execution_count": null,
   "metadata": {},
   "outputs": [],
   "source": []
  },
  {
   "cell_type": "code",
   "execution_count": null,
   "metadata": {},
   "outputs": [],
   "source": []
  },
  {
   "cell_type": "code",
   "execution_count": null,
   "metadata": {},
   "outputs": [],
   "source": []
  },
  {
   "cell_type": "code",
   "execution_count": null,
   "metadata": {},
   "outputs": [],
   "source": []
  },
  {
   "cell_type": "code",
   "execution_count": null,
   "metadata": {},
   "outputs": [],
   "source": []
  },
  {
   "cell_type": "code",
   "execution_count": null,
   "metadata": {},
   "outputs": [],
   "source": []
  },
  {
   "cell_type": "code",
   "execution_count": null,
   "metadata": {},
   "outputs": [],
   "source": []
  },
  {
   "cell_type": "code",
   "execution_count": null,
   "metadata": {},
   "outputs": [],
   "source": []
  },
  {
   "cell_type": "code",
   "execution_count": null,
   "metadata": {},
   "outputs": [],
   "source": []
  },
  {
   "cell_type": "code",
   "execution_count": null,
   "metadata": {},
   "outputs": [],
   "source": []
  },
  {
   "cell_type": "code",
   "execution_count": null,
   "metadata": {},
   "outputs": [],
   "source": []
  },
  {
   "cell_type": "code",
   "execution_count": null,
   "metadata": {},
   "outputs": [],
   "source": []
  },
  {
   "cell_type": "code",
   "execution_count": null,
   "metadata": {},
   "outputs": [],
   "source": []
  },
  {
   "cell_type": "code",
   "execution_count": null,
   "metadata": {},
   "outputs": [],
   "source": []
  },
  {
   "cell_type": "code",
   "execution_count": null,
   "metadata": {},
   "outputs": [],
   "source": []
  },
  {
   "cell_type": "code",
   "execution_count": null,
   "metadata": {},
   "outputs": [],
   "source": []
  },
  {
   "cell_type": "code",
   "execution_count": null,
   "metadata": {},
   "outputs": [],
   "source": []
  },
  {
   "cell_type": "code",
   "execution_count": null,
   "metadata": {},
   "outputs": [],
   "source": []
  },
  {
   "cell_type": "code",
   "execution_count": null,
   "metadata": {},
   "outputs": [],
   "source": []
  },
  {
   "cell_type": "code",
   "execution_count": null,
   "metadata": {},
   "outputs": [],
   "source": []
  },
  {
   "cell_type": "code",
   "execution_count": null,
   "metadata": {},
   "outputs": [],
   "source": []
  },
  {
   "cell_type": "code",
   "execution_count": null,
   "metadata": {},
   "outputs": [],
   "source": []
  },
  {
   "cell_type": "code",
   "execution_count": null,
   "metadata": {},
   "outputs": [],
   "source": []
  },
  {
   "cell_type": "code",
   "execution_count": null,
   "metadata": {},
   "outputs": [],
   "source": []
  },
  {
   "cell_type": "code",
   "execution_count": null,
   "metadata": {},
   "outputs": [],
   "source": []
  },
  {
   "cell_type": "code",
   "execution_count": null,
   "metadata": {},
   "outputs": [],
   "source": []
  },
  {
   "cell_type": "code",
   "execution_count": null,
   "metadata": {},
   "outputs": [],
   "source": []
  },
  {
   "cell_type": "code",
   "execution_count": null,
   "metadata": {},
   "outputs": [],
   "source": []
  }
 ],
 "metadata": {
  "kernelspec": {
   "display_name": "Python 2",
   "language": "python",
   "name": "python2"
  },
  "language_info": {
   "codemirror_mode": {
    "name": "ipython",
    "version": 2
   },
   "file_extension": ".py",
   "mimetype": "text/x-python",
   "name": "python",
   "nbconvert_exporter": "python",
   "pygments_lexer": "ipython2",
   "version": "2.7.12"
  }
 },
 "nbformat": 4,
 "nbformat_minor": 2
}
