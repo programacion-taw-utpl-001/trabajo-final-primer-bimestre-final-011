{
 "cells": [
  {
   "cell_type": "code",
   "execution_count": 30,
   "metadata": {},
   "outputs": [],
   "source": [
    "# El primer paso es importar la  libreia de pandas y definirlo como pd\n",
    "import pandas as pd"
   ]
  },
  {
   "cell_type": "code",
   "execution_count": 31,
   "metadata": {},
   "outputs": [],
   "source": [
    "# Luego para cargar nuestro csv utilizamos esta (pandas.read_csv():) de esta forma leemos el archivo  \n",
    "df1 = pd. read_csv ( \"062017_Tabulados_pobreza.csv\" )"
   ]
  },
  {
   "cell_type": "code",
   "execution_count": 32,
   "metadata": {},
   "outputs": [
    {
     "data": {
      "text/html": [
       "<div>\n",
       "<style scoped>\n",
       "    .dataframe tbody tr th:only-of-type {\n",
       "        vertical-align: middle;\n",
       "    }\n",
       "\n",
       "    .dataframe tbody tr th {\n",
       "        vertical-align: top;\n",
       "    }\n",
       "\n",
       "    .dataframe thead th {\n",
       "        text-align: right;\n",
       "    }\n",
       "</style>\n",
       "<table border=\"1\" class=\"dataframe\">\n",
       "  <thead>\n",
       "    <tr style=\"text-align: right;\">\n",
       "      <th></th>\n",
       "      <th>Meses</th>\n",
       "      <th>Periodo</th>\n",
       "      <th>Incidencia</th>\n",
       "      <th>Brecha</th>\n",
       "      <th>severidad</th>\n",
       "    </tr>\n",
       "  </thead>\n",
       "  <tbody>\n",
       "    <tr>\n",
       "      <th>0</th>\n",
       "      <td>Marzo</td>\n",
       "      <td>2014</td>\n",
       "      <td>24.6</td>\n",
       "      <td>8.6</td>\n",
       "      <td>4.3</td>\n",
       "    </tr>\n",
       "    <tr>\n",
       "      <th>1</th>\n",
       "      <td>Marzo</td>\n",
       "      <td>2015</td>\n",
       "      <td>24.1</td>\n",
       "      <td>8.9</td>\n",
       "      <td>4.7</td>\n",
       "    </tr>\n",
       "    <tr>\n",
       "      <th>2</th>\n",
       "      <td>Marzo</td>\n",
       "      <td>2016</td>\n",
       "      <td>25.4</td>\n",
       "      <td>9.9</td>\n",
       "      <td>5.5</td>\n",
       "    </tr>\n",
       "    <tr>\n",
       "      <th>3</th>\n",
       "      <td>Marzo</td>\n",
       "      <td>2017</td>\n",
       "      <td>24.4</td>\n",
       "      <td>9.1</td>\n",
       "      <td>4.8</td>\n",
       "    </tr>\n",
       "    <tr>\n",
       "      <th>4</th>\n",
       "      <td>Marzo</td>\n",
       "      <td>2007 (2)</td>\n",
       "      <td>-</td>\n",
       "      <td>-</td>\n",
       "      <td>-</td>\n",
       "    </tr>\n",
       "    <tr>\n",
       "      <th>5</th>\n",
       "      <td>Marzo</td>\n",
       "      <td>2008</td>\n",
       "      <td>35</td>\n",
       "      <td>14.2</td>\n",
       "      <td>8</td>\n",
       "    </tr>\n",
       "    <tr>\n",
       "      <th>6</th>\n",
       "      <td>Marzo</td>\n",
       "      <td>2009 (2)</td>\n",
       "      <td>-</td>\n",
       "      <td>-</td>\n",
       "      <td>-</td>\n",
       "    </tr>\n",
       "    <tr>\n",
       "      <th>7</th>\n",
       "      <td>Marzo</td>\n",
       "      <td>2010</td>\n",
       "      <td>33</td>\n",
       "      <td>13.7</td>\n",
       "      <td>7.8</td>\n",
       "    </tr>\n",
       "    <tr>\n",
       "      <th>8</th>\n",
       "      <td>Junio</td>\n",
       "      <td>2011</td>\n",
       "      <td>29.6</td>\n",
       "      <td>11.4</td>\n",
       "      <td>6.2</td>\n",
       "    </tr>\n",
       "    <tr>\n",
       "      <th>9</th>\n",
       "      <td>Junio</td>\n",
       "      <td>2012</td>\n",
       "      <td>25.3</td>\n",
       "      <td>9.4</td>\n",
       "      <td>4.9</td>\n",
       "    </tr>\n",
       "    <tr>\n",
       "      <th>10</th>\n",
       "      <td>Junio</td>\n",
       "      <td>2013</td>\n",
       "      <td>23.7</td>\n",
       "      <td>8.4</td>\n",
       "      <td>4.4</td>\n",
       "    </tr>\n",
       "    <tr>\n",
       "      <th>11</th>\n",
       "      <td>Junio</td>\n",
       "      <td>2014</td>\n",
       "      <td>24.5</td>\n",
       "      <td>8.5</td>\n",
       "      <td>4.2</td>\n",
       "    </tr>\n",
       "    <tr>\n",
       "      <th>12</th>\n",
       "      <td>Junio</td>\n",
       "      <td>2015</td>\n",
       "      <td>22</td>\n",
       "      <td>7.7</td>\n",
       "      <td>3.9</td>\n",
       "    </tr>\n",
       "    <tr>\n",
       "      <th>13</th>\n",
       "      <td>Junio</td>\n",
       "      <td>2016</td>\n",
       "      <td>23.7</td>\n",
       "      <td>8.6</td>\n",
       "      <td>4.6</td>\n",
       "    </tr>\n",
       "    <tr>\n",
       "      <th>14</th>\n",
       "      <td>Junio</td>\n",
       "      <td>2017</td>\n",
       "      <td>23.1</td>\n",
       "      <td>8.3</td>\n",
       "      <td>4.4</td>\n",
       "    </tr>\n",
       "    <tr>\n",
       "      <th>15</th>\n",
       "      <td>Junio</td>\n",
       "      <td>2014</td>\n",
       "      <td>24.8</td>\n",
       "      <td>8.7</td>\n",
       "      <td>4.4</td>\n",
       "    </tr>\n",
       "    <tr>\n",
       "      <th>16</th>\n",
       "      <td>Septiembre</td>\n",
       "      <td>2015</td>\n",
       "      <td>22.4</td>\n",
       "      <td>7.7</td>\n",
       "      <td>3.9</td>\n",
       "    </tr>\n",
       "    <tr>\n",
       "      <th>17</th>\n",
       "      <td>Septiembre</td>\n",
       "      <td>2016</td>\n",
       "      <td>22.6</td>\n",
       "      <td>8.1</td>\n",
       "      <td>4.2</td>\n",
       "    </tr>\n",
       "    <tr>\n",
       "      <th>18</th>\n",
       "      <td>Septiembre</td>\n",
       "      <td>2007</td>\n",
       "      <td>36.7</td>\n",
       "      <td>15.3</td>\n",
       "      <td>8.7</td>\n",
       "    </tr>\n",
       "    <tr>\n",
       "      <th>19</th>\n",
       "      <td>Septiembre</td>\n",
       "      <td>2008</td>\n",
       "      <td>35.1</td>\n",
       "      <td>14.5</td>\n",
       "      <td>8.1</td>\n",
       "    </tr>\n",
       "    <tr>\n",
       "      <th>20</th>\n",
       "      <td>Diciembre</td>\n",
       "      <td>2009</td>\n",
       "      <td>36</td>\n",
       "      <td>14.5</td>\n",
       "      <td>8</td>\n",
       "    </tr>\n",
       "    <tr>\n",
       "      <th>21</th>\n",
       "      <td>Diciembre</td>\n",
       "      <td>2010</td>\n",
       "      <td>32.8</td>\n",
       "      <td>12.7</td>\n",
       "      <td>6.8</td>\n",
       "    </tr>\n",
       "    <tr>\n",
       "      <th>22</th>\n",
       "      <td>Diciembre</td>\n",
       "      <td>2011</td>\n",
       "      <td>28.6</td>\n",
       "      <td>10.8</td>\n",
       "      <td>5.7</td>\n",
       "    </tr>\n",
       "    <tr>\n",
       "      <th>23</th>\n",
       "      <td>Diciembre</td>\n",
       "      <td>2012</td>\n",
       "      <td>27.3</td>\n",
       "      <td>10.5</td>\n",
       "      <td>5.8</td>\n",
       "    </tr>\n",
       "    <tr>\n",
       "      <th>24</th>\n",
       "      <td>Diciembre</td>\n",
       "      <td>2013</td>\n",
       "      <td>25.6</td>\n",
       "      <td>9</td>\n",
       "      <td>4.5</td>\n",
       "    </tr>\n",
       "    <tr>\n",
       "      <th>25</th>\n",
       "      <td>Diciembre</td>\n",
       "      <td>2014</td>\n",
       "      <td>22.5</td>\n",
       "      <td>7.9</td>\n",
       "      <td>4</td>\n",
       "    </tr>\n",
       "    <tr>\n",
       "      <th>26</th>\n",
       "      <td>Diciembre</td>\n",
       "      <td>2015</td>\n",
       "      <td>23.3</td>\n",
       "      <td>8.5</td>\n",
       "      <td>4.5</td>\n",
       "    </tr>\n",
       "    <tr>\n",
       "      <th>27</th>\n",
       "      <td>Diciembre</td>\n",
       "      <td>2016</td>\n",
       "      <td>22.9</td>\n",
       "      <td>8.6</td>\n",
       "      <td>4.7</td>\n",
       "    </tr>\n",
       "  </tbody>\n",
       "</table>\n",
       "</div>"
      ],
      "text/plain": [
       "         Meses       Periodo  Incidencia Brecha severidad\n",
       "0        Marzo           2014       24.6    8.6       4.3\n",
       "1        Marzo           2015       24.1    8.9       4.7\n",
       "2        Marzo           2016       25.4    9.9       5.5\n",
       "3        Marzo           2017       24.4    9.1       4.8\n",
       "4        Marzo       2007 (2)          -      -         -\n",
       "5        Marzo           2008         35   14.2         8\n",
       "6        Marzo       2009 (2)          -      -         -\n",
       "7        Marzo           2010         33   13.7       7.8\n",
       "8         Junio          2011       29.6   11.4       6.2\n",
       "9         Junio          2012       25.3    9.4       4.9\n",
       "10        Junio          2013       23.7    8.4       4.4\n",
       "11        Junio          2014       24.5    8.5       4.2\n",
       "12        Junio          2015         22    7.7       3.9\n",
       "13        Junio          2016       23.7    8.6       4.6\n",
       "14        Junio          2017       23.1    8.3       4.4\n",
       "15        Junio          2014       24.8    8.7       4.4\n",
       "16  Septiembre           2015       22.4    7.7       3.9\n",
       "17  Septiembre           2016       22.6    8.1       4.2\n",
       "18  Septiembre           2007       36.7   15.3       8.7\n",
       "19  Septiembre           2008       35.1   14.5       8.1\n",
       "20    Diciembre          2009         36   14.5         8\n",
       "21    Diciembre          2010       32.8   12.7       6.8\n",
       "22    Diciembre          2011       28.6   10.8       5.7\n",
       "23    Diciembre          2012       27.3   10.5       5.8\n",
       "24    Diciembre          2013       25.6      9       4.5\n",
       "25    Diciembre          2014       22.5    7.9         4\n",
       "26    Diciembre          2015       23.3    8.5       4.5\n",
       "27    Diciembre          2016       22.9    8.6       4.7"
      ]
     },
     "execution_count": 32,
     "metadata": {},
     "output_type": "execute_result"
    }
   ],
   "source": [
    "# luego de leer el archivo lo imprimimos  \n",
    "df1"
   ]
  },
  {
   "cell_type": "code",
   "execution_count": 33,
   "metadata": {},
   "outputs": [
    {
     "data": {
      "text/html": [
       "<div>\n",
       "<style scoped>\n",
       "    .dataframe tbody tr th:only-of-type {\n",
       "        vertical-align: middle;\n",
       "    }\n",
       "\n",
       "    .dataframe tbody tr th {\n",
       "        vertical-align: top;\n",
       "    }\n",
       "\n",
       "    .dataframe thead th {\n",
       "        text-align: right;\n",
       "    }\n",
       "</style>\n",
       "<table border=\"1\" class=\"dataframe\">\n",
       "  <thead>\n",
       "    <tr style=\"text-align: right;\">\n",
       "      <th></th>\n",
       "      <th>Meses</th>\n",
       "      <th>Periodo</th>\n",
       "    </tr>\n",
       "  </thead>\n",
       "  <tbody>\n",
       "    <tr>\n",
       "      <th>0</th>\n",
       "      <td>Marzo</td>\n",
       "      <td>2014</td>\n",
       "    </tr>\n",
       "    <tr>\n",
       "      <th>1</th>\n",
       "      <td>Marzo</td>\n",
       "      <td>2015</td>\n",
       "    </tr>\n",
       "    <tr>\n",
       "      <th>2</th>\n",
       "      <td>Marzo</td>\n",
       "      <td>2016</td>\n",
       "    </tr>\n",
       "  </tbody>\n",
       "</table>\n",
       "</div>"
      ],
      "text/plain": [
       "   Meses   Periodo \n",
       "0  Marzo       2014\n",
       "1  Marzo       2015\n",
       "2  Marzo       2016"
      ]
     },
     "execution_count": 33,
     "metadata": {},
     "output_type": "execute_result"
    }
   ],
   "source": [
    "# Pode extraer datos con una funcion de pandas basado en posición de esta forma podemos \n",
    "#dar la posicion de los datos que queremos extarer desde nuestro csv\n",
    "df1. iloc [ 0 : 3 , 0 : 2 ]"
   ]
  },
  {
   "cell_type": "code",
   "execution_count": 34,
   "metadata": {},
   "outputs": [
    {
     "data": {
      "text/html": [
       "<div>\n",
       "<style scoped>\n",
       "    .dataframe tbody tr th:only-of-type {\n",
       "        vertical-align: middle;\n",
       "    }\n",
       "\n",
       "    .dataframe tbody tr th {\n",
       "        vertical-align: top;\n",
       "    }\n",
       "\n",
       "    .dataframe thead th {\n",
       "        text-align: right;\n",
       "    }\n",
       "</style>\n",
       "<table border=\"1\" class=\"dataframe\">\n",
       "  <thead>\n",
       "    <tr style=\"text-align: right;\">\n",
       "      <th></th>\n",
       "      <th>Meses</th>\n",
       "      <th>Periodo</th>\n",
       "      <th>Incidencia</th>\n",
       "    </tr>\n",
       "  </thead>\n",
       "  <tbody>\n",
       "    <tr>\n",
       "      <th>0</th>\n",
       "      <td>Marzo</td>\n",
       "      <td>2014</td>\n",
       "      <td>24.6</td>\n",
       "    </tr>\n",
       "    <tr>\n",
       "      <th>1</th>\n",
       "      <td>Marzo</td>\n",
       "      <td>2015</td>\n",
       "      <td>24.1</td>\n",
       "    </tr>\n",
       "    <tr>\n",
       "      <th>2</th>\n",
       "      <td>Marzo</td>\n",
       "      <td>2016</td>\n",
       "      <td>25.4</td>\n",
       "    </tr>\n",
       "  </tbody>\n",
       "</table>\n",
       "</div>"
      ],
      "text/plain": [
       "   Meses   Periodo  Incidencia\n",
       "0  Marzo       2014       24.6\n",
       "1  Marzo       2015       24.1\n",
       "2  Marzo       2016       25.4"
      ]
     },
     "execution_count": 34,
     "metadata": {},
     "output_type": "execute_result"
    }
   ],
   "source": [
    "df1. iloc [ 0 : 3 , 0 : 3 ]"
   ]
  },
  {
   "cell_type": "raw",
   "metadata": {},
   "source": [
    "df1. iloc [ 0 : 4 , 0 : 5 ]"
   ]
  },
  {
   "cell_type": "code",
   "execution_count": 35,
   "metadata": {},
   "outputs": [
    {
     "data": {
      "text/html": [
       "<div>\n",
       "<style scoped>\n",
       "    .dataframe tbody tr th:only-of-type {\n",
       "        vertical-align: middle;\n",
       "    }\n",
       "\n",
       "    .dataframe tbody tr th {\n",
       "        vertical-align: top;\n",
       "    }\n",
       "\n",
       "    .dataframe thead th {\n",
       "        text-align: right;\n",
       "    }\n",
       "</style>\n",
       "<table border=\"1\" class=\"dataframe\">\n",
       "  <thead>\n",
       "    <tr style=\"text-align: right;\">\n",
       "      <th></th>\n",
       "      <th>Incidencia</th>\n",
       "      <th>Brecha</th>\n",
       "      <th>severidad</th>\n",
       "    </tr>\n",
       "  </thead>\n",
       "  <tbody>\n",
       "    <tr>\n",
       "      <th>0</th>\n",
       "      <td>24.6</td>\n",
       "      <td>8.6</td>\n",
       "      <td>4.3</td>\n",
       "    </tr>\n",
       "    <tr>\n",
       "      <th>1</th>\n",
       "      <td>24.1</td>\n",
       "      <td>8.9</td>\n",
       "      <td>4.7</td>\n",
       "    </tr>\n",
       "    <tr>\n",
       "      <th>2</th>\n",
       "      <td>25.4</td>\n",
       "      <td>9.9</td>\n",
       "      <td>5.5</td>\n",
       "    </tr>\n",
       "    <tr>\n",
       "      <th>3</th>\n",
       "      <td>24.4</td>\n",
       "      <td>9.1</td>\n",
       "      <td>4.8</td>\n",
       "    </tr>\n",
       "  </tbody>\n",
       "</table>\n",
       "</div>"
      ],
      "text/plain": [
       "  Incidencia Brecha severidad\n",
       "0       24.6    8.6       4.3\n",
       "1       24.1    8.9       4.7\n",
       "2       25.4    9.9       5.5\n",
       "3       24.4    9.1       4.8"
      ]
     },
     "execution_count": 35,
     "metadata": {},
     "output_type": "execute_result"
    }
   ],
   "source": [
    "# como podemos observar le podemos indicar la posicion que deseamos extraer desde nuestro csv \n",
    "df1. iloc [ 0 : 4 , 2 : 5 ]"
   ]
  },
  {
   "cell_type": "code",
   "execution_count": 76,
   "metadata": {},
   "outputs": [
    {
     "name": "stderr",
     "output_type": "stream",
     "text": [
      "/usr/local/lib/python2.7/dist-packages/ipykernel_launcher.py:2: DeprecationWarning: \n",
      ".ix is deprecated. Please use\n",
      ".loc for label based indexing or\n",
      ".iloc for positional indexing\n",
      "\n",
      "See the documentation here:\n",
      "http://pandas.pydata.org/pandas-docs/stable/indexing.html#ix-indexer-is-deprecated\n",
      "  \n"
     ]
    },
    {
     "data": {
      "text/html": [
       "<div>\n",
       "<style scoped>\n",
       "    .dataframe tbody tr th:only-of-type {\n",
       "        vertical-align: middle;\n",
       "    }\n",
       "\n",
       "    .dataframe tbody tr th {\n",
       "        vertical-align: top;\n",
       "    }\n",
       "\n",
       "    .dataframe thead th {\n",
       "        text-align: right;\n",
       "    }\n",
       "</style>\n",
       "<table border=\"1\" class=\"dataframe\">\n",
       "  <thead>\n",
       "    <tr style=\"text-align: right;\">\n",
       "      <th></th>\n",
       "      <th>Incidencia</th>\n",
       "      <th>Brecha</th>\n",
       "      <th>severidad</th>\n",
       "    </tr>\n",
       "  </thead>\n",
       "  <tbody>\n",
       "    <tr>\n",
       "      <th>1</th>\n",
       "      <td>24.1</td>\n",
       "      <td>8.9</td>\n",
       "      <td>4.7</td>\n",
       "    </tr>\n",
       "    <tr>\n",
       "      <th>2</th>\n",
       "      <td>25.4</td>\n",
       "      <td>9.9</td>\n",
       "      <td>5.5</td>\n",
       "    </tr>\n",
       "    <tr>\n",
       "      <th>3</th>\n",
       "      <td>24.4</td>\n",
       "      <td>9.1</td>\n",
       "      <td>4.8</td>\n",
       "    </tr>\n",
       "  </tbody>\n",
       "</table>\n",
       "</div>"
      ],
      "text/plain": [
       "  Incidencia Brecha severidad\n",
       "1       24.1    8.9       4.7\n",
       "2       25.4    9.9       5.5\n",
       "3       24.4    9.1       4.8"
      ]
     },
     "execution_count": 76,
     "metadata": {},
     "output_type": "execute_result"
    }
   ],
   "source": [
    "# se puede dar la posicion inicial y el indice de inicio para poder extraer los datos que se nesecite \n",
    "df1. ix [ 0 : 3 , \"Incidencia\" : \"severidad\"]"
   ]
  },
  {
   "cell_type": "code",
   "execution_count": 77,
   "metadata": {},
   "outputs": [
    {
     "data": {
      "text/html": [
       "<div>\n",
       "<style scoped>\n",
       "    .dataframe tbody tr th:only-of-type {\n",
       "        vertical-align: middle;\n",
       "    }\n",
       "\n",
       "    .dataframe tbody tr th {\n",
       "        vertical-align: top;\n",
       "    }\n",
       "\n",
       "    .dataframe thead th {\n",
       "        text-align: right;\n",
       "    }\n",
       "</style>\n",
       "<table border=\"1\" class=\"dataframe\">\n",
       "  <thead>\n",
       "    <tr style=\"text-align: right;\">\n",
       "      <th></th>\n",
       "      <th>Meses</th>\n",
       "      <th>Periodo</th>\n",
       "      <th>Incidencia</th>\n",
       "      <th>Brecha</th>\n",
       "      <th>severidad</th>\n",
       "    </tr>\n",
       "  </thead>\n",
       "  <tbody>\n",
       "    <tr>\n",
       "      <th>1</th>\n",
       "      <td>Marzo</td>\n",
       "      <td>2015</td>\n",
       "      <td>24.1</td>\n",
       "      <td>8.9</td>\n",
       "      <td>4.7</td>\n",
       "    </tr>\n",
       "    <tr>\n",
       "      <th>2</th>\n",
       "      <td>Marzo</td>\n",
       "      <td>2016</td>\n",
       "      <td>25.4</td>\n",
       "      <td>9.9</td>\n",
       "      <td>5.5</td>\n",
       "    </tr>\n",
       "    <tr>\n",
       "      <th>3</th>\n",
       "      <td>Marzo</td>\n",
       "      <td>2017</td>\n",
       "      <td>24.4</td>\n",
       "      <td>9.1</td>\n",
       "      <td>4.8</td>\n",
       "    </tr>\n",
       "    <tr>\n",
       "      <th>4</th>\n",
       "      <td>Marzo</td>\n",
       "      <td>2007 (2)</td>\n",
       "      <td>-</td>\n",
       "      <td>-</td>\n",
       "      <td>-</td>\n",
       "    </tr>\n",
       "    <tr>\n",
       "      <th>5</th>\n",
       "      <td>Marzo</td>\n",
       "      <td>2008</td>\n",
       "      <td>35</td>\n",
       "      <td>14.2</td>\n",
       "      <td>8</td>\n",
       "    </tr>\n",
       "  </tbody>\n",
       "</table>\n",
       "</div>"
      ],
      "text/plain": [
       "   Meses       Periodo  Incidencia Brecha severidad\n",
       "1  Marzo           2015       24.1    8.9       4.7\n",
       "2  Marzo           2016       25.4    9.9       5.5\n",
       "3  Marzo           2017       24.4    9.1       4.8\n",
       "4  Marzo       2007 (2)          -      -         -\n",
       "5  Marzo           2008         35   14.2         8"
      ]
     },
     "execution_count": 77,
     "metadata": {},
     "output_type": "execute_result"
    }
   ],
   "source": [
    "df1.head()"
   ]
  },
  {
   "cell_type": "code",
   "execution_count": 78,
   "metadata": {},
   "outputs": [],
   "source": [
    "df1 = df1[1:]"
   ]
  },
  {
   "cell_type": "code",
   "execution_count": 39,
   "metadata": {},
   "outputs": [
    {
     "data": {
      "text/plain": [
       "(27, 5)"
      ]
     },
     "execution_count": 39,
     "metadata": {},
     "output_type": "execute_result"
    }
   ],
   "source": [
    "df1.shape"
   ]
  },
  {
   "cell_type": "code",
   "execution_count": 40,
   "metadata": {},
   "outputs": [
    {
     "data": {
      "text/plain": [
       "array([['Marzo ', '2015', '24.1', '8.9', '4.7'],\n",
       "       ['Marzo ', '2016', '25.4', '9.9', '5.5'],\n",
       "       ['Marzo ', '2017', '24.4', '9.1', '4.8'],\n",
       "       ['Marzo ', '    2007 (2)', '-', '-', '-'],\n",
       "       ['Marzo ', '2008', '35', '14.2', '8'],\n",
       "       ['Marzo ', '   2009 (2)', '-', '-', '-'],\n",
       "       ['Marzo ', '2010', '33', '13.7', '7.8'],\n",
       "       ['Junio', '2011', '29.6', '11.4', '6.2'],\n",
       "       ['Junio', '2012', '25.3', '9.4', '4.9'],\n",
       "       ['Junio', '2013', '23.7', '8.4', '4.4'],\n",
       "       ['Junio', '2014', '24.5', '8.5', '4.2'],\n",
       "       ['Junio', '2015', '22', '7.7', '3.9'],\n",
       "       ['Junio', '2016', '23.7', '8.6', '4.6'],\n",
       "       ['Junio', '2017', '23.1', '8.3', '4.4'],\n",
       "       ['Junio', '2014', '24.8', '8.7', '4.4'],\n",
       "       ['Septiembre ', '2015', '22.4', '7.7', '3.9'],\n",
       "       ['Septiembre ', '2016', '22.6', '8.1', '4.2'],\n",
       "       ['Septiembre ', '2007', '36.7', '15.3', '8.7'],\n",
       "       ['Septiembre ', '2008', '35.1', '14.5', '8.1'],\n",
       "       ['Diciembre', '2009', '36', '14.5', '8'],\n",
       "       ['Diciembre', '2010', '32.8', '12.7', '6.8'],\n",
       "       ['Diciembre', '2011', '28.6', '10.8', '5.7'],\n",
       "       ['Diciembre', '2012', '27.3', '10.5', '5.8'],\n",
       "       ['Diciembre', '2013', '25.6', '9', '4.5'],\n",
       "       ['Diciembre', '2014', '22.5', '7.9', '4'],\n",
       "       ['Diciembre', '2015', '23.3', '8.5', '4.5'],\n",
       "       ['Diciembre', '2016', '22.9', '8.6', '4.7']], dtype=object)"
      ]
     },
     "execution_count": 40,
     "metadata": {},
     "output_type": "execute_result"
    }
   ],
   "source": [
    "df1.values"
   ]
  },
  {
   "cell_type": "code",
   "execution_count": 41,
   "metadata": {},
   "outputs": [
    {
     "data": {
      "text/plain": [
       "RangeIndex(start=1, stop=28, step=1)"
      ]
     },
     "execution_count": 41,
     "metadata": {},
     "output_type": "execute_result"
    }
   ],
   "source": [
    "df1.index"
   ]
  },
  {
   "cell_type": "code",
   "execution_count": 42,
   "metadata": {},
   "outputs": [
    {
     "data": {
      "text/plain": [
       "Index([u'Meses ', u' Periodo ', u'Incidencia', u'Brecha', u'severidad'], dtype='object')"
      ]
     },
     "execution_count": 42,
     "metadata": {},
     "output_type": "execute_result"
    }
   ],
   "source": [
    "df1.columns"
   ]
  },
  {
   "cell_type": "code",
   "execution_count": 43,
   "metadata": {},
   "outputs": [],
   "source": [
    "df2 = df1.set_index('severidad')"
   ]
  },
  {
   "cell_type": "code",
   "execution_count": 44,
   "metadata": {},
   "outputs": [
    {
     "data": {
      "text/html": [
       "<div>\n",
       "<style scoped>\n",
       "    .dataframe tbody tr th:only-of-type {\n",
       "        vertical-align: middle;\n",
       "    }\n",
       "\n",
       "    .dataframe tbody tr th {\n",
       "        vertical-align: top;\n",
       "    }\n",
       "\n",
       "    .dataframe thead th {\n",
       "        text-align: right;\n",
       "    }\n",
       "</style>\n",
       "<table border=\"1\" class=\"dataframe\">\n",
       "  <thead>\n",
       "    <tr style=\"text-align: right;\">\n",
       "      <th></th>\n",
       "      <th>Meses</th>\n",
       "      <th>Periodo</th>\n",
       "      <th>Incidencia</th>\n",
       "      <th>Brecha</th>\n",
       "    </tr>\n",
       "    <tr>\n",
       "      <th>severidad</th>\n",
       "      <th></th>\n",
       "      <th></th>\n",
       "      <th></th>\n",
       "      <th></th>\n",
       "    </tr>\n",
       "  </thead>\n",
       "  <tbody>\n",
       "    <tr>\n",
       "      <th>4.7</th>\n",
       "      <td>Marzo</td>\n",
       "      <td>2015</td>\n",
       "      <td>24.1</td>\n",
       "      <td>8.9</td>\n",
       "    </tr>\n",
       "    <tr>\n",
       "      <th>5.5</th>\n",
       "      <td>Marzo</td>\n",
       "      <td>2016</td>\n",
       "      <td>25.4</td>\n",
       "      <td>9.9</td>\n",
       "    </tr>\n",
       "    <tr>\n",
       "      <th>4.8</th>\n",
       "      <td>Marzo</td>\n",
       "      <td>2017</td>\n",
       "      <td>24.4</td>\n",
       "      <td>9.1</td>\n",
       "    </tr>\n",
       "    <tr>\n",
       "      <th>-</th>\n",
       "      <td>Marzo</td>\n",
       "      <td>2007 (2)</td>\n",
       "      <td>-</td>\n",
       "      <td>-</td>\n",
       "    </tr>\n",
       "    <tr>\n",
       "      <th>8</th>\n",
       "      <td>Marzo</td>\n",
       "      <td>2008</td>\n",
       "      <td>35</td>\n",
       "      <td>14.2</td>\n",
       "    </tr>\n",
       "  </tbody>\n",
       "</table>\n",
       "</div>"
      ],
      "text/plain": [
       "           Meses       Periodo  Incidencia Brecha\n",
       "severidad                                        \n",
       "4.7        Marzo           2015       24.1    8.9\n",
       "5.5        Marzo           2016       25.4    9.9\n",
       "4.8        Marzo           2017       24.4    9.1\n",
       "-          Marzo       2007 (2)          -      -\n",
       "8          Marzo           2008         35   14.2"
      ]
     },
     "execution_count": 44,
     "metadata": {},
     "output_type": "execute_result"
    }
   ],
   "source": [
    "df2.head()"
   ]
  },
  {
   "cell_type": "code",
   "execution_count": 45,
   "metadata": {},
   "outputs": [
    {
     "data": {
      "text/html": [
       "<div>\n",
       "<style scoped>\n",
       "    .dataframe tbody tr th:only-of-type {\n",
       "        vertical-align: middle;\n",
       "    }\n",
       "\n",
       "    .dataframe tbody tr th {\n",
       "        vertical-align: top;\n",
       "    }\n",
       "\n",
       "    .dataframe thead th {\n",
       "        text-align: right;\n",
       "    }\n",
       "</style>\n",
       "<table border=\"1\" class=\"dataframe\">\n",
       "  <thead>\n",
       "    <tr style=\"text-align: right;\">\n",
       "      <th></th>\n",
       "      <th>Meses</th>\n",
       "      <th>Periodo</th>\n",
       "      <th>Incidencia</th>\n",
       "      <th>Brecha</th>\n",
       "      <th>severidad</th>\n",
       "    </tr>\n",
       "  </thead>\n",
       "  <tbody>\n",
       "    <tr>\n",
       "      <th>1</th>\n",
       "      <td>Marzo</td>\n",
       "      <td>2015</td>\n",
       "      <td>24.1</td>\n",
       "      <td>8.9</td>\n",
       "      <td>4.7</td>\n",
       "    </tr>\n",
       "    <tr>\n",
       "      <th>2</th>\n",
       "      <td>Marzo</td>\n",
       "      <td>2016</td>\n",
       "      <td>25.4</td>\n",
       "      <td>9.9</td>\n",
       "      <td>5.5</td>\n",
       "    </tr>\n",
       "    <tr>\n",
       "      <th>3</th>\n",
       "      <td>Marzo</td>\n",
       "      <td>2017</td>\n",
       "      <td>24.4</td>\n",
       "      <td>9.1</td>\n",
       "      <td>4.8</td>\n",
       "    </tr>\n",
       "    <tr>\n",
       "      <th>4</th>\n",
       "      <td>Marzo</td>\n",
       "      <td>2007 (2)</td>\n",
       "      <td>-</td>\n",
       "      <td>-</td>\n",
       "      <td>-</td>\n",
       "    </tr>\n",
       "    <tr>\n",
       "      <th>5</th>\n",
       "      <td>Marzo</td>\n",
       "      <td>2008</td>\n",
       "      <td>35</td>\n",
       "      <td>14.2</td>\n",
       "      <td>8</td>\n",
       "    </tr>\n",
       "  </tbody>\n",
       "</table>\n",
       "</div>"
      ],
      "text/plain": [
       "   Meses       Periodo  Incidencia Brecha severidad\n",
       "1  Marzo           2015       24.1    8.9       4.7\n",
       "2  Marzo           2016       25.4    9.9       5.5\n",
       "3  Marzo           2017       24.4    9.1       4.8\n",
       "4  Marzo       2007 (2)          -      -         -\n",
       "5  Marzo           2008         35   14.2         8"
      ]
     },
     "execution_count": 45,
     "metadata": {},
     "output_type": "execute_result"
    }
   ],
   "source": [
    "datos = df1.drop([], axis=1)\n",
    "datos.head()"
   ]
  },
  {
   "cell_type": "code",
   "execution_count": 46,
   "metadata": {},
   "outputs": [
    {
     "data": {
      "text/html": [
       "<div>\n",
       "<style scoped>\n",
       "    .dataframe tbody tr th:only-of-type {\n",
       "        vertical-align: middle;\n",
       "    }\n",
       "\n",
       "    .dataframe tbody tr th {\n",
       "        vertical-align: top;\n",
       "    }\n",
       "\n",
       "    .dataframe thead th {\n",
       "        text-align: right;\n",
       "    }\n",
       "</style>\n",
       "<table border=\"1\" class=\"dataframe\">\n",
       "  <thead>\n",
       "    <tr style=\"text-align: right;\">\n",
       "      <th></th>\n",
       "      <th>Meses</th>\n",
       "      <th>Anios</th>\n",
       "      <th>Incidencia</th>\n",
       "      <th>Brecha</th>\n",
       "      <th>Severidad</th>\n",
       "    </tr>\n",
       "  </thead>\n",
       "  <tbody>\n",
       "    <tr>\n",
       "      <th>1</th>\n",
       "      <td>Marzo</td>\n",
       "      <td>2015</td>\n",
       "      <td>24.1</td>\n",
       "      <td>8.9</td>\n",
       "      <td>4.7</td>\n",
       "    </tr>\n",
       "    <tr>\n",
       "      <th>2</th>\n",
       "      <td>Marzo</td>\n",
       "      <td>2016</td>\n",
       "      <td>25.4</td>\n",
       "      <td>9.9</td>\n",
       "      <td>5.5</td>\n",
       "    </tr>\n",
       "    <tr>\n",
       "      <th>3</th>\n",
       "      <td>Marzo</td>\n",
       "      <td>2017</td>\n",
       "      <td>24.4</td>\n",
       "      <td>9.1</td>\n",
       "      <td>4.8</td>\n",
       "    </tr>\n",
       "    <tr>\n",
       "      <th>4</th>\n",
       "      <td>Marzo</td>\n",
       "      <td>2007 (2)</td>\n",
       "      <td>-</td>\n",
       "      <td>-</td>\n",
       "      <td>-</td>\n",
       "    </tr>\n",
       "    <tr>\n",
       "      <th>5</th>\n",
       "      <td>Marzo</td>\n",
       "      <td>2008</td>\n",
       "      <td>35</td>\n",
       "      <td>14.2</td>\n",
       "      <td>8</td>\n",
       "    </tr>\n",
       "  </tbody>\n",
       "</table>\n",
       "</div>"
      ],
      "text/plain": [
       "    Meses         Anios Incidencia Brecha Severidad\n",
       "1  Marzo           2015       24.1    8.9       4.7\n",
       "2  Marzo           2016       25.4    9.9       5.5\n",
       "3  Marzo           2017       24.4    9.1       4.8\n",
       "4  Marzo       2007 (2)          -      -         -\n",
       "5  Marzo           2008         35   14.2         8"
      ]
     },
     "execution_count": 46,
     "metadata": {},
     "output_type": "execute_result"
    }
   ],
   "source": [
    "datos.columns = ['Meses', 'Anios', 'Incidencia','Brecha','Severidad']\n",
    "datos.head()"
   ]
  },
  {
   "cell_type": "code",
   "execution_count": 47,
   "metadata": {},
   "outputs": [],
   "source": [
    "from bokeh.io import show\n",
    "from bokeh.plotting import figure"
   ]
  },
  {
   "cell_type": "code",
   "execution_count": 48,
   "metadata": {},
   "outputs": [],
   "source": [
    "from bokeh.layouts import gridplot"
   ]
  },
  {
   "cell_type": "code",
   "execution_count": 49,
   "metadata": {},
   "outputs": [
    {
     "data": {
      "text/html": [
       "\n",
       "    <div class=\"bk-root\">\n",
       "        <a href=\"https://bokeh.pydata.org\" target=\"_blank\" class=\"bk-logo bk-logo-small bk-logo-notebook\"></a>\n",
       "        <span id=\"8f53d0b8-c3ea-49e9-811d-c03263a4d187\">Loading BokehJS ...</span>\n",
       "    </div>"
      ]
     },
     "metadata": {},
     "output_type": "display_data"
    },
    {
     "data": {
      "application/javascript": [
       "\n",
       "(function(root) {\n",
       "  function now() {\n",
       "    return new Date();\n",
       "  }\n",
       "\n",
       "  var force = true;\n",
       "\n",
       "  if (typeof (root._bokeh_onload_callbacks) === \"undefined\" || force === true) {\n",
       "    root._bokeh_onload_callbacks = [];\n",
       "    root._bokeh_is_loading = undefined;\n",
       "  }\n",
       "\n",
       "  var JS_MIME_TYPE = 'application/javascript';\n",
       "  var HTML_MIME_TYPE = 'text/html';\n",
       "  var EXEC_MIME_TYPE = 'application/vnd.bokehjs_exec.v0+json';\n",
       "  var CLASS_NAME = 'output_bokeh rendered_html';\n",
       "\n",
       "  /**\n",
       "   * Render data to the DOM node\n",
       "   */\n",
       "  function render(props, node) {\n",
       "    var script = document.createElement(\"script\");\n",
       "    node.appendChild(script);\n",
       "  }\n",
       "\n",
       "  /**\n",
       "   * Handle when an output is cleared or removed\n",
       "   */\n",
       "  function handleClearOutput(event, handle) {\n",
       "    var cell = handle.cell;\n",
       "\n",
       "    var id = cell.output_area._bokeh_element_id;\n",
       "    var server_id = cell.output_area._bokeh_server_id;\n",
       "    // Clean up Bokeh references\n",
       "    if (id !== undefined) {\n",
       "      Bokeh.index[id].model.document.clear();\n",
       "      delete Bokeh.index[id];\n",
       "    }\n",
       "\n",
       "    if (server_id !== undefined) {\n",
       "      // Clean up Bokeh references\n",
       "      var cmd = \"from bokeh.io.state import curstate; print(curstate().uuid_to_server['\" + server_id + \"'].get_sessions()[0].document.roots[0]._id)\";\n",
       "      cell.notebook.kernel.execute(cmd, {\n",
       "        iopub: {\n",
       "          output: function(msg) {\n",
       "            var element_id = msg.content.text.trim();\n",
       "            Bokeh.index[element_id].model.document.clear();\n",
       "            delete Bokeh.index[element_id];\n",
       "          }\n",
       "        }\n",
       "      });\n",
       "      // Destroy server and session\n",
       "      var cmd = \"import bokeh.io.notebook as ion; ion.destroy_server('\" + server_id + \"')\";\n",
       "      cell.notebook.kernel.execute(cmd);\n",
       "    }\n",
       "  }\n",
       "\n",
       "  /**\n",
       "   * Handle when a new output is added\n",
       "   */\n",
       "  function handleAddOutput(event, handle) {\n",
       "    var output_area = handle.output_area;\n",
       "    var output = handle.output;\n",
       "\n",
       "    // limit handleAddOutput to display_data with EXEC_MIME_TYPE content only\n",
       "    if ((output.output_type != \"display_data\") || (!output.data.hasOwnProperty(EXEC_MIME_TYPE))) {\n",
       "      return\n",
       "    }\n",
       "\n",
       "    var toinsert = output_area.element.find(`.${CLASS_NAME.split(' ')[0]}`);\n",
       "\n",
       "    if (output.metadata[EXEC_MIME_TYPE][\"id\"] !== undefined) {\n",
       "      toinsert[0].firstChild.textContent = output.data[JS_MIME_TYPE];\n",
       "      // store reference to embed id on output_area\n",
       "      output_area._bokeh_element_id = output.metadata[EXEC_MIME_TYPE][\"id\"];\n",
       "    }\n",
       "    if (output.metadata[EXEC_MIME_TYPE][\"server_id\"] !== undefined) {\n",
       "      var bk_div = document.createElement(\"div\");\n",
       "      bk_div.innerHTML = output.data[HTML_MIME_TYPE];\n",
       "      var script_attrs = bk_div.children[0].attributes;\n",
       "      for (var i = 0; i < script_attrs.length; i++) {\n",
       "        toinsert[0].firstChild.setAttribute(script_attrs[i].name, script_attrs[i].value);\n",
       "      }\n",
       "      // store reference to server id on output_area\n",
       "      output_area._bokeh_server_id = output.metadata[EXEC_MIME_TYPE][\"server_id\"];\n",
       "    }\n",
       "  }\n",
       "\n",
       "  function register_renderer(events, OutputArea) {\n",
       "\n",
       "    function append_mime(data, metadata, element) {\n",
       "      // create a DOM node to render to\n",
       "      var toinsert = this.create_output_subarea(\n",
       "        metadata,\n",
       "        CLASS_NAME,\n",
       "        EXEC_MIME_TYPE\n",
       "      );\n",
       "      this.keyboard_manager.register_events(toinsert);\n",
       "      // Render to node\n",
       "      var props = {data: data, metadata: metadata[EXEC_MIME_TYPE]};\n",
       "      render(props, toinsert[0]);\n",
       "      element.append(toinsert);\n",
       "      return toinsert\n",
       "    }\n",
       "\n",
       "    /* Handle when an output is cleared or removed */\n",
       "    events.on('clear_output.CodeCell', handleClearOutput);\n",
       "    events.on('delete.Cell', handleClearOutput);\n",
       "\n",
       "    /* Handle when a new output is added */\n",
       "    events.on('output_added.OutputArea', handleAddOutput);\n",
       "\n",
       "    /**\n",
       "     * Register the mime type and append_mime function with output_area\n",
       "     */\n",
       "    OutputArea.prototype.register_mime_type(EXEC_MIME_TYPE, append_mime, {\n",
       "      /* Is output safe? */\n",
       "      safe: true,\n",
       "      /* Index of renderer in `output_area.display_order` */\n",
       "      index: 0\n",
       "    });\n",
       "  }\n",
       "\n",
       "  // register the mime type if in Jupyter Notebook environment and previously unregistered\n",
       "  if (root.Jupyter !== undefined) {\n",
       "    var events = require('base/js/events');\n",
       "    var OutputArea = require('notebook/js/outputarea').OutputArea;\n",
       "\n",
       "    if (OutputArea.prototype.mime_types().indexOf(EXEC_MIME_TYPE) == -1) {\n",
       "      register_renderer(events, OutputArea);\n",
       "    }\n",
       "  }\n",
       "\n",
       "  \n",
       "  if (typeof (root._bokeh_timeout) === \"undefined\" || force === true) {\n",
       "    root._bokeh_timeout = Date.now() + 5000;\n",
       "    root._bokeh_failed_load = false;\n",
       "  }\n",
       "\n",
       "  var NB_LOAD_WARNING = {'data': {'text/html':\n",
       "     \"<div style='background-color: #fdd'>\\n\"+\n",
       "     \"<p>\\n\"+\n",
       "     \"BokehJS does not appear to have successfully loaded. If loading BokehJS from CDN, this \\n\"+\n",
       "     \"may be due to a slow or bad network connection. Possible fixes:\\n\"+\n",
       "     \"</p>\\n\"+\n",
       "     \"<ul>\\n\"+\n",
       "     \"<li>re-rerun `output_notebook()` to attempt to load from CDN again, or</li>\\n\"+\n",
       "     \"<li>use INLINE resources instead, as so:</li>\\n\"+\n",
       "     \"</ul>\\n\"+\n",
       "     \"<code>\\n\"+\n",
       "     \"from bokeh.resources import INLINE\\n\"+\n",
       "     \"output_notebook(resources=INLINE)\\n\"+\n",
       "     \"</code>\\n\"+\n",
       "     \"</div>\"}};\n",
       "\n",
       "  function display_loaded() {\n",
       "    var el = document.getElementById(\"8f53d0b8-c3ea-49e9-811d-c03263a4d187\");\n",
       "    if (el != null) {\n",
       "      el.textContent = \"BokehJS is loading...\";\n",
       "    }\n",
       "    if (root.Bokeh !== undefined) {\n",
       "      if (el != null) {\n",
       "        el.textContent = \"BokehJS \" + root.Bokeh.version + \" successfully loaded.\";\n",
       "      }\n",
       "    } else if (Date.now() < root._bokeh_timeout) {\n",
       "      setTimeout(display_loaded, 100)\n",
       "    }\n",
       "  }\n",
       "\n",
       "\n",
       "  function run_callbacks() {\n",
       "    try {\n",
       "      root._bokeh_onload_callbacks.forEach(function(callback) { callback() });\n",
       "    }\n",
       "    finally {\n",
       "      delete root._bokeh_onload_callbacks\n",
       "    }\n",
       "    console.info(\"Bokeh: all callbacks have finished\");\n",
       "  }\n",
       "\n",
       "  function load_libs(js_urls, callback) {\n",
       "    root._bokeh_onload_callbacks.push(callback);\n",
       "    if (root._bokeh_is_loading > 0) {\n",
       "      console.log(\"Bokeh: BokehJS is being loaded, scheduling callback at\", now());\n",
       "      return null;\n",
       "    }\n",
       "    if (js_urls == null || js_urls.length === 0) {\n",
       "      run_callbacks();\n",
       "      return null;\n",
       "    }\n",
       "    console.log(\"Bokeh: BokehJS not loaded, scheduling load and callback at\", now());\n",
       "    root._bokeh_is_loading = js_urls.length;\n",
       "    for (var i = 0; i < js_urls.length; i++) {\n",
       "      var url = js_urls[i];\n",
       "      var s = document.createElement('script');\n",
       "      s.src = url;\n",
       "      s.async = false;\n",
       "      s.onreadystatechange = s.onload = function() {\n",
       "        root._bokeh_is_loading--;\n",
       "        if (root._bokeh_is_loading === 0) {\n",
       "          console.log(\"Bokeh: all BokehJS libraries loaded\");\n",
       "          run_callbacks()\n",
       "        }\n",
       "      };\n",
       "      s.onerror = function() {\n",
       "        console.warn(\"failed to load library \" + url);\n",
       "      };\n",
       "      console.log(\"Bokeh: injecting script tag for BokehJS library: \", url);\n",
       "      document.getElementsByTagName(\"head\")[0].appendChild(s);\n",
       "    }\n",
       "  };var element = document.getElementById(\"8f53d0b8-c3ea-49e9-811d-c03263a4d187\");\n",
       "  if (element == null) {\n",
       "    console.log(\"Bokeh: ERROR: autoload.js configured with elementid '8f53d0b8-c3ea-49e9-811d-c03263a4d187' but no matching script tag was found. \")\n",
       "    return false;\n",
       "  }\n",
       "\n",
       "  var js_urls = [\"https://cdn.pydata.org/bokeh/release/bokeh-0.12.10.min.js\", \"https://cdn.pydata.org/bokeh/release/bokeh-widgets-0.12.10.min.js\", \"https://cdn.pydata.org/bokeh/release/bokeh-tables-0.12.10.min.js\", \"https://cdn.pydata.org/bokeh/release/bokeh-gl-0.12.10.min.js\"];\n",
       "\n",
       "  var inline_js = [\n",
       "    function(Bokeh) {\n",
       "      Bokeh.set_log_level(\"info\");\n",
       "    },\n",
       "    \n",
       "    function(Bokeh) {\n",
       "      \n",
       "    },\n",
       "    function(Bokeh) {\n",
       "      console.log(\"Bokeh: injecting CSS: https://cdn.pydata.org/bokeh/release/bokeh-0.12.10.min.css\");\n",
       "      Bokeh.embed.inject_css(\"https://cdn.pydata.org/bokeh/release/bokeh-0.12.10.min.css\");\n",
       "      console.log(\"Bokeh: injecting CSS: https://cdn.pydata.org/bokeh/release/bokeh-widgets-0.12.10.min.css\");\n",
       "      Bokeh.embed.inject_css(\"https://cdn.pydata.org/bokeh/release/bokeh-widgets-0.12.10.min.css\");\n",
       "      console.log(\"Bokeh: injecting CSS: https://cdn.pydata.org/bokeh/release/bokeh-tables-0.12.10.min.css\");\n",
       "      Bokeh.embed.inject_css(\"https://cdn.pydata.org/bokeh/release/bokeh-tables-0.12.10.min.css\");\n",
       "    }\n",
       "  ];\n",
       "\n",
       "  function run_inline_js() {\n",
       "    \n",
       "    if ((root.Bokeh !== undefined) || (force === true)) {\n",
       "      for (var i = 0; i < inline_js.length; i++) {\n",
       "        inline_js[i].call(root, root.Bokeh);\n",
       "      }if (force === true) {\n",
       "        display_loaded();\n",
       "      }} else if (Date.now() < root._bokeh_timeout) {\n",
       "      setTimeout(run_inline_js, 100);\n",
       "    } else if (!root._bokeh_failed_load) {\n",
       "      console.log(\"Bokeh: BokehJS failed to load within specified timeout.\");\n",
       "      root._bokeh_failed_load = true;\n",
       "    } else if (force !== true) {\n",
       "      var cell = $(document.getElementById(\"8f53d0b8-c3ea-49e9-811d-c03263a4d187\")).parents('.cell').data().cell;\n",
       "      cell.output_area.append_execute_result(NB_LOAD_WARNING)\n",
       "    }\n",
       "\n",
       "  }\n",
       "\n",
       "  if (root._bokeh_is_loading === 0) {\n",
       "    console.log(\"Bokeh: BokehJS loaded, going straight to plotting\");\n",
       "    run_inline_js();\n",
       "  } else {\n",
       "    load_libs(js_urls, function() {\n",
       "      console.log(\"Bokeh: BokehJS plotting callback run at\", now());\n",
       "      run_inline_js();\n",
       "    });\n",
       "  }\n",
       "}(window));"
      ],
      "application/vnd.bokehjs_load.v0+json": "\n(function(root) {\n  function now() {\n    return new Date();\n  }\n\n  var force = true;\n\n  if (typeof (root._bokeh_onload_callbacks) === \"undefined\" || force === true) {\n    root._bokeh_onload_callbacks = [];\n    root._bokeh_is_loading = undefined;\n  }\n\n  \n\n  \n  if (typeof (root._bokeh_timeout) === \"undefined\" || force === true) {\n    root._bokeh_timeout = Date.now() + 5000;\n    root._bokeh_failed_load = false;\n  }\n\n  var NB_LOAD_WARNING = {'data': {'text/html':\n     \"<div style='background-color: #fdd'>\\n\"+\n     \"<p>\\n\"+\n     \"BokehJS does not appear to have successfully loaded. If loading BokehJS from CDN, this \\n\"+\n     \"may be due to a slow or bad network connection. Possible fixes:\\n\"+\n     \"</p>\\n\"+\n     \"<ul>\\n\"+\n     \"<li>re-rerun `output_notebook()` to attempt to load from CDN again, or</li>\\n\"+\n     \"<li>use INLINE resources instead, as so:</li>\\n\"+\n     \"</ul>\\n\"+\n     \"<code>\\n\"+\n     \"from bokeh.resources import INLINE\\n\"+\n     \"output_notebook(resources=INLINE)\\n\"+\n     \"</code>\\n\"+\n     \"</div>\"}};\n\n  function display_loaded() {\n    var el = document.getElementById(\"8f53d0b8-c3ea-49e9-811d-c03263a4d187\");\n    if (el != null) {\n      el.textContent = \"BokehJS is loading...\";\n    }\n    if (root.Bokeh !== undefined) {\n      if (el != null) {\n        el.textContent = \"BokehJS \" + root.Bokeh.version + \" successfully loaded.\";\n      }\n    } else if (Date.now() < root._bokeh_timeout) {\n      setTimeout(display_loaded, 100)\n    }\n  }\n\n\n  function run_callbacks() {\n    try {\n      root._bokeh_onload_callbacks.forEach(function(callback) { callback() });\n    }\n    finally {\n      delete root._bokeh_onload_callbacks\n    }\n    console.info(\"Bokeh: all callbacks have finished\");\n  }\n\n  function load_libs(js_urls, callback) {\n    root._bokeh_onload_callbacks.push(callback);\n    if (root._bokeh_is_loading > 0) {\n      console.log(\"Bokeh: BokehJS is being loaded, scheduling callback at\", now());\n      return null;\n    }\n    if (js_urls == null || js_urls.length === 0) {\n      run_callbacks();\n      return null;\n    }\n    console.log(\"Bokeh: BokehJS not loaded, scheduling load and callback at\", now());\n    root._bokeh_is_loading = js_urls.length;\n    for (var i = 0; i < js_urls.length; i++) {\n      var url = js_urls[i];\n      var s = document.createElement('script');\n      s.src = url;\n      s.async = false;\n      s.onreadystatechange = s.onload = function() {\n        root._bokeh_is_loading--;\n        if (root._bokeh_is_loading === 0) {\n          console.log(\"Bokeh: all BokehJS libraries loaded\");\n          run_callbacks()\n        }\n      };\n      s.onerror = function() {\n        console.warn(\"failed to load library \" + url);\n      };\n      console.log(\"Bokeh: injecting script tag for BokehJS library: \", url);\n      document.getElementsByTagName(\"head\")[0].appendChild(s);\n    }\n  };var element = document.getElementById(\"8f53d0b8-c3ea-49e9-811d-c03263a4d187\");\n  if (element == null) {\n    console.log(\"Bokeh: ERROR: autoload.js configured with elementid '8f53d0b8-c3ea-49e9-811d-c03263a4d187' but no matching script tag was found. \")\n    return false;\n  }\n\n  var js_urls = [\"https://cdn.pydata.org/bokeh/release/bokeh-0.12.10.min.js\", \"https://cdn.pydata.org/bokeh/release/bokeh-widgets-0.12.10.min.js\", \"https://cdn.pydata.org/bokeh/release/bokeh-tables-0.12.10.min.js\", \"https://cdn.pydata.org/bokeh/release/bokeh-gl-0.12.10.min.js\"];\n\n  var inline_js = [\n    function(Bokeh) {\n      Bokeh.set_log_level(\"info\");\n    },\n    \n    function(Bokeh) {\n      \n    },\n    function(Bokeh) {\n      console.log(\"Bokeh: injecting CSS: https://cdn.pydata.org/bokeh/release/bokeh-0.12.10.min.css\");\n      Bokeh.embed.inject_css(\"https://cdn.pydata.org/bokeh/release/bokeh-0.12.10.min.css\");\n      console.log(\"Bokeh: injecting CSS: https://cdn.pydata.org/bokeh/release/bokeh-widgets-0.12.10.min.css\");\n      Bokeh.embed.inject_css(\"https://cdn.pydata.org/bokeh/release/bokeh-widgets-0.12.10.min.css\");\n      console.log(\"Bokeh: injecting CSS: https://cdn.pydata.org/bokeh/release/bokeh-tables-0.12.10.min.css\");\n      Bokeh.embed.inject_css(\"https://cdn.pydata.org/bokeh/release/bokeh-tables-0.12.10.min.css\");\n    }\n  ];\n\n  function run_inline_js() {\n    \n    if ((root.Bokeh !== undefined) || (force === true)) {\n      for (var i = 0; i < inline_js.length; i++) {\n        inline_js[i].call(root, root.Bokeh);\n      }if (force === true) {\n        display_loaded();\n      }} else if (Date.now() < root._bokeh_timeout) {\n      setTimeout(run_inline_js, 100);\n    } else if (!root._bokeh_failed_load) {\n      console.log(\"Bokeh: BokehJS failed to load within specified timeout.\");\n      root._bokeh_failed_load = true;\n    } else if (force !== true) {\n      var cell = $(document.getElementById(\"8f53d0b8-c3ea-49e9-811d-c03263a4d187\")).parents('.cell').data().cell;\n      cell.output_area.append_execute_result(NB_LOAD_WARNING)\n    }\n\n  }\n\n  if (root._bokeh_is_loading === 0) {\n    console.log(\"Bokeh: BokehJS loaded, going straight to plotting\");\n    run_inline_js();\n  } else {\n    load_libs(js_urls, function() {\n      console.log(\"Bokeh: BokehJS plotting callback run at\", now());\n      run_inline_js();\n    });\n  }\n}(window));"
     },
     "metadata": {},
     "output_type": "display_data"
    }
   ],
   "source": [
    "from bokeh.io import output_notebook\n",
    "output_notebook()"
   ]
  },
  {
   "cell_type": "code",
   "execution_count": 50,
   "metadata": {},
   "outputs": [],
   "source": [
    "graph_line = figure(\n",
    "    plot_height=400,\n",
    "    plot_width=900, \n",
    "    title='POBREZA', \n",
    "    tools='' \n",
    ")"
   ]
  },
  {
   "cell_type": "code",
   "execution_count": 51,
   "metadata": {},
   "outputs": [
    {
     "data": {
      "text/html": [
       "<div style=\"display: table;\"><div style=\"display: table-row;\"><div style=\"display: table-cell;\"><b title=\"bokeh.models.renderers.GlyphRenderer\">GlyphRenderer</b>(</div><div style=\"display: table-cell;\">id&nbsp;=&nbsp;'87b12fc7-d478-4b5a-b0ae-851e62b1d4ed', <span id=\"1a33cff3-67be-4654-80bc-fac05528c87c\" style=\"cursor: pointer;\">&hellip;)</span></div></div><div class=\"dae6aed3-380b-4d4f-b175-afce1bffe1e2\" style=\"display: none;\"><div style=\"display: table-cell;\"></div><div style=\"display: table-cell;\">data_source&nbsp;=&nbsp;ColumnDataSource(id='c7b49abb-f5a5-4718-a549-523d1996245b', ...),</div></div><div class=\"dae6aed3-380b-4d4f-b175-afce1bffe1e2\" style=\"display: none;\"><div style=\"display: table-cell;\"></div><div style=\"display: table-cell;\">glyph&nbsp;=&nbsp;Line(id='5a6cccb1-a089-4019-aa01-5407651e52ae', ...),</div></div><div class=\"dae6aed3-380b-4d4f-b175-afce1bffe1e2\" style=\"display: none;\"><div style=\"display: table-cell;\"></div><div style=\"display: table-cell;\">hover_glyph&nbsp;=&nbsp;None,</div></div><div class=\"dae6aed3-380b-4d4f-b175-afce1bffe1e2\" style=\"display: none;\"><div style=\"display: table-cell;\"></div><div style=\"display: table-cell;\">js_event_callbacks&nbsp;=&nbsp;{},</div></div><div class=\"dae6aed3-380b-4d4f-b175-afce1bffe1e2\" style=\"display: none;\"><div style=\"display: table-cell;\"></div><div style=\"display: table-cell;\">js_property_callbacks&nbsp;=&nbsp;{},</div></div><div class=\"dae6aed3-380b-4d4f-b175-afce1bffe1e2\" style=\"display: none;\"><div style=\"display: table-cell;\"></div><div style=\"display: table-cell;\">level&nbsp;=&nbsp;'glyph',</div></div><div class=\"dae6aed3-380b-4d4f-b175-afce1bffe1e2\" style=\"display: none;\"><div style=\"display: table-cell;\"></div><div style=\"display: table-cell;\">muted&nbsp;=&nbsp;False,</div></div><div class=\"dae6aed3-380b-4d4f-b175-afce1bffe1e2\" style=\"display: none;\"><div style=\"display: table-cell;\"></div><div style=\"display: table-cell;\">muted_glyph&nbsp;=&nbsp;None,</div></div><div class=\"dae6aed3-380b-4d4f-b175-afce1bffe1e2\" style=\"display: none;\"><div style=\"display: table-cell;\"></div><div style=\"display: table-cell;\">name&nbsp;=&nbsp;None,</div></div><div class=\"dae6aed3-380b-4d4f-b175-afce1bffe1e2\" style=\"display: none;\"><div style=\"display: table-cell;\"></div><div style=\"display: table-cell;\">nonselection_glyph&nbsp;=&nbsp;Line(id='caa0b6ea-0870-4b53-a4e5-066982b38443', ...),</div></div><div class=\"dae6aed3-380b-4d4f-b175-afce1bffe1e2\" style=\"display: none;\"><div style=\"display: table-cell;\"></div><div style=\"display: table-cell;\">selection_glyph&nbsp;=&nbsp;None,</div></div><div class=\"dae6aed3-380b-4d4f-b175-afce1bffe1e2\" style=\"display: none;\"><div style=\"display: table-cell;\"></div><div style=\"display: table-cell;\">subscribed_events&nbsp;=&nbsp;[],</div></div><div class=\"dae6aed3-380b-4d4f-b175-afce1bffe1e2\" style=\"display: none;\"><div style=\"display: table-cell;\"></div><div style=\"display: table-cell;\">tags&nbsp;=&nbsp;[],</div></div><div class=\"dae6aed3-380b-4d4f-b175-afce1bffe1e2\" style=\"display: none;\"><div style=\"display: table-cell;\"></div><div style=\"display: table-cell;\">view&nbsp;=&nbsp;CDSView(id='84b2a879-3fa7-403e-bd10-9f38f696cd98', ...),</div></div><div class=\"dae6aed3-380b-4d4f-b175-afce1bffe1e2\" style=\"display: none;\"><div style=\"display: table-cell;\"></div><div style=\"display: table-cell;\">visible&nbsp;=&nbsp;True,</div></div><div class=\"dae6aed3-380b-4d4f-b175-afce1bffe1e2\" style=\"display: none;\"><div style=\"display: table-cell;\"></div><div style=\"display: table-cell;\">x_range_name&nbsp;=&nbsp;'default',</div></div><div class=\"dae6aed3-380b-4d4f-b175-afce1bffe1e2\" style=\"display: none;\"><div style=\"display: table-cell;\"></div><div style=\"display: table-cell;\">y_range_name&nbsp;=&nbsp;'default')</div></div></div>\n",
       "<script>\n",
       "(function() {\n",
       "  var expanded = false;\n",
       "  var ellipsis = document.getElementById(\"1a33cff3-67be-4654-80bc-fac05528c87c\");\n",
       "  ellipsis.addEventListener(\"click\", function() {\n",
       "    var rows = document.getElementsByClassName(\"dae6aed3-380b-4d4f-b175-afce1bffe1e2\");\n",
       "    for (var i = 0; i < rows.length; i++) {\n",
       "      var el = rows[i];\n",
       "      el.style.display = expanded ? \"none\" : \"table-row\";\n",
       "    }\n",
       "    ellipsis.innerHTML = expanded ? \"&hellip;)\" : \"&lsaquo;&lsaquo;&lsaquo;\";\n",
       "    expanded = !expanded;\n",
       "  });\n",
       "})();\n",
       "</script>\n"
      ],
      "text/plain": [
       "GlyphRenderer(id='87b12fc7-d478-4b5a-b0ae-851e62b1d4ed', ...)"
      ]
     },
     "execution_count": 51,
     "metadata": {},
     "output_type": "execute_result"
    }
   ],
   "source": [
    "graph_line.line(\n",
    "    x=datos.Anios, \n",
    "    y=datos.Incidencia, \n",
    "    color='#f4d341', \n",
    "    legend='Frecuencia', \n",
    "    line_width=5\n",
    ")\n",
    "graph_line.line(x=datos.Anios, y=datos.Brecha, color='#42f4bf', legend='Brecha',line_width=5)\n",
    "graph_line.line(x=datos.Anios, y=datos.Severidad, color='#f44171', legend='Severidad',line_width=5)"
   ]
  },
  {
   "cell_type": "code",
   "execution_count": 52,
   "metadata": {},
   "outputs": [
    {
     "data": {
      "text/html": [
       "\n",
       "<div class=\"bk-root\">\n",
       "    <div class=\"bk-plotdiv\" id=\"5bf12804-4462-4985-96e7-9e0dcd1419f0\"></div>\n",
       "</div>"
      ]
     },
     "metadata": {},
     "output_type": "display_data"
    },
    {
     "data": {
      "application/javascript": [
       "(function(root) {\n",
       "  function embed_document(root) {\n",
       "    var docs_json = {\"63a15f7b-0c65-43a2-9d56-a9d60f9a5b1b\":{\"roots\":{\"references\":[{\"attributes\":{\"line_alpha\":{\"value\":0.1},\"line_color\":{\"value\":\"#1f77b4\"},\"line_width\":{\"value\":5},\"x\":{\"field\":\"x\"},\"y\":{\"field\":\"y\"}},\"id\":\"caa0b6ea-0870-4b53-a4e5-066982b38443\",\"type\":\"Line\"},{\"attributes\":{\"label\":{\"value\":\"Brecha\"},\"renderers\":[{\"id\":\"0a0ee362-15c8-4134-8bc6-168a31985423\",\"type\":\"GlyphRenderer\"}]},\"id\":\"853bc9ca-3c8c-45ef-9cfc-1a2c5c25f968\",\"type\":\"LegendItem\"},{\"attributes\":{\"line_color\":{\"value\":\"#42f4bf\"},\"line_width\":{\"value\":5},\"x\":{\"field\":\"x\"},\"y\":{\"field\":\"y\"}},\"id\":\"536e9c93-93be-4468-91b7-84b5082365ec\",\"type\":\"Line\"},{\"attributes\":{\"callback\":null,\"column_names\":[\"x\",\"y\"],\"data\":{\"x\":[\"2015\",\"2016\",\"2017\",\"    2007 (2)\",\"2008\",\"   2009 (2)\",\"2010\",\"2011\",\"2012\",\"2013\",\"2014\",\"2015\",\"2016\",\"2017\",\"2014\",\"2015\",\"2016\",\"2007\",\"2008\",\"2009\",\"2010\",\"2011\",\"2012\",\"2013\",\"2014\",\"2015\",\"2016\"],\"y\":[\"24.1\",\"25.4\",\"24.4\",\"-\",\"35\",\"-\",\"33\",\"29.6\",\"25.3\",\"23.7\",\"24.5\",\"22\",\"23.7\",\"23.1\",\"24.8\",\"22.4\",\"22.6\",\"36.7\",\"35.1\",\"36\",\"32.8\",\"28.6\",\"27.3\",\"25.6\",\"22.5\",\"23.3\",\"22.9\"]}},\"id\":\"505a1969-4204-4da4-aaea-104457afe3de\",\"type\":\"ColumnDataSource\"},{\"attributes\":{\"plot\":{\"id\":\"94903e1e-e4d7-4bdc-9777-299ce1d1aa7c\",\"subtype\":\"Figure\",\"type\":\"Plot\"},\"ticker\":{\"id\":\"ac1352a6-48e2-49f1-b0f2-7287ca782724\",\"type\":\"BasicTicker\"}},\"id\":\"43cea7e4-b58c-456e-9a95-8785abe2ed47\",\"type\":\"Grid\"},{\"attributes\":{\"source\":{\"id\":\"c7b49abb-f5a5-4718-a549-523d1996245b\",\"type\":\"ColumnDataSource\"}},\"id\":\"84b2a879-3fa7-403e-bd10-9f38f696cd98\",\"type\":\"CDSView\"},{\"attributes\":{\"dimension\":1,\"plot\":{\"id\":\"94903e1e-e4d7-4bdc-9777-299ce1d1aa7c\",\"subtype\":\"Figure\",\"type\":\"Plot\"},\"ticker\":{\"id\":\"aa9a2f17-84d3-4dca-b721-59dc7b6fbfcf\",\"type\":\"BasicTicker\"}},\"id\":\"6990491e-bc4d-452b-9570-d6cca39275df\",\"type\":\"Grid\"},{\"attributes\":{\"label\":{\"value\":\"Frecuencia\"},\"renderers\":[{\"id\":\"b1cf9258-6434-4e40-93ab-ffdb15c29870\",\"type\":\"GlyphRenderer\"}]},\"id\":\"c2a447dc-efab-4920-a93b-3386f84e6cf3\",\"type\":\"LegendItem\"},{\"attributes\":{\"source\":{\"id\":\"073af352-3322-4f8b-837d-29f79a4ccb2a\",\"type\":\"ColumnDataSource\"}},\"id\":\"4d4578a2-f262-4ede-8122-415b4e67ce9d\",\"type\":\"CDSView\"},{\"attributes\":{\"formatter\":{\"id\":\"f3dc7a29-5fd7-4664-8b24-10ea6333b134\",\"type\":\"BasicTickFormatter\"},\"plot\":{\"id\":\"94903e1e-e4d7-4bdc-9777-299ce1d1aa7c\",\"subtype\":\"Figure\",\"type\":\"Plot\"},\"ticker\":{\"id\":\"aa9a2f17-84d3-4dca-b721-59dc7b6fbfcf\",\"type\":\"BasicTicker\"}},\"id\":\"398d11c9-f701-4d2b-9ed3-85926e332b18\",\"type\":\"LinearAxis\"},{\"attributes\":{},\"id\":\"03f8308c-98dd-460c-828c-c915df1b1beb\",\"type\":\"BasicTickFormatter\"},{\"attributes\":{\"data_source\":{\"id\":\"c7b49abb-f5a5-4718-a549-523d1996245b\",\"type\":\"ColumnDataSource\"},\"glyph\":{\"id\":\"5a6cccb1-a089-4019-aa01-5407651e52ae\",\"type\":\"Line\"},\"hover_glyph\":null,\"muted_glyph\":null,\"nonselection_glyph\":{\"id\":\"caa0b6ea-0870-4b53-a4e5-066982b38443\",\"type\":\"Line\"},\"selection_glyph\":null,\"view\":{\"id\":\"84b2a879-3fa7-403e-bd10-9f38f696cd98\",\"type\":\"CDSView\"}},\"id\":\"87b12fc7-d478-4b5a-b0ae-851e62b1d4ed\",\"type\":\"GlyphRenderer\"},{\"attributes\":{\"data_source\":{\"id\":\"505a1969-4204-4da4-aaea-104457afe3de\",\"type\":\"ColumnDataSource\"},\"glyph\":{\"id\":\"6d96e353-7049-48ff-b6a4-28445742fe95\",\"type\":\"Line\"},\"hover_glyph\":null,\"muted_glyph\":null,\"nonselection_glyph\":{\"id\":\"c91bbf24-6181-4c86-82ba-5c40e72020da\",\"type\":\"Line\"},\"selection_glyph\":null,\"view\":{\"id\":\"96b8943f-8437-45d4-b329-1932e4d93957\",\"type\":\"CDSView\"}},\"id\":\"b1cf9258-6434-4e40-93ab-ffdb15c29870\",\"type\":\"GlyphRenderer\"},{\"attributes\":{\"line_alpha\":{\"value\":0.1},\"line_color\":{\"value\":\"#1f77b4\"},\"line_width\":{\"value\":5},\"x\":{\"field\":\"x\"},\"y\":{\"field\":\"y\"}},\"id\":\"538abd76-0e27-49d9-b40f-21294dc4125f\",\"type\":\"Line\"},{\"attributes\":{\"plot\":null,\"text\":\"POBREZA\"},\"id\":\"06eed63e-549a-497e-a5ef-8c94a4f67400\",\"type\":\"Title\"},{\"attributes\":{},\"id\":\"6a2dd1d6-d84c-4af7-ba9f-e2d099ed09d4\",\"type\":\"LinearScale\"},{\"attributes\":{\"line_alpha\":{\"value\":0.1},\"line_color\":{\"value\":\"#1f77b4\"},\"line_width\":{\"value\":5},\"x\":{\"field\":\"x\"},\"y\":{\"field\":\"y\"}},\"id\":\"c91bbf24-6181-4c86-82ba-5c40e72020da\",\"type\":\"Line\"},{\"attributes\":{\"below\":[{\"id\":\"c6cc0711-e818-41b7-b0d6-5ac574dc454e\",\"type\":\"LinearAxis\"}],\"left\":[{\"id\":\"398d11c9-f701-4d2b-9ed3-85926e332b18\",\"type\":\"LinearAxis\"}],\"plot_height\":400,\"plot_width\":900,\"renderers\":[{\"id\":\"c6cc0711-e818-41b7-b0d6-5ac574dc454e\",\"type\":\"LinearAxis\"},{\"id\":\"43cea7e4-b58c-456e-9a95-8785abe2ed47\",\"type\":\"Grid\"},{\"id\":\"398d11c9-f701-4d2b-9ed3-85926e332b18\",\"type\":\"LinearAxis\"},{\"id\":\"6990491e-bc4d-452b-9570-d6cca39275df\",\"type\":\"Grid\"},{\"id\":\"41b358e1-4c80-424b-ad61-f6e37ee35719\",\"type\":\"Legend\"},{\"id\":\"b1cf9258-6434-4e40-93ab-ffdb15c29870\",\"type\":\"GlyphRenderer\"},{\"id\":\"0a0ee362-15c8-4134-8bc6-168a31985423\",\"type\":\"GlyphRenderer\"},{\"id\":\"87b12fc7-d478-4b5a-b0ae-851e62b1d4ed\",\"type\":\"GlyphRenderer\"}],\"title\":{\"id\":\"06eed63e-549a-497e-a5ef-8c94a4f67400\",\"type\":\"Title\"},\"toolbar\":{\"id\":\"a3e98f8c-5c8a-4733-8b7f-751432f03f94\",\"type\":\"Toolbar\"},\"x_range\":{\"id\":\"c5522853-a673-4af2-b20d-f2526054379b\",\"type\":\"DataRange1d\"},\"x_scale\":{\"id\":\"fcfc234d-7d6a-4ae7-9b2e-1744b6f6a360\",\"type\":\"LinearScale\"},\"y_range\":{\"id\":\"05703bab-1bbb-426e-8393-cd45a3266f1d\",\"type\":\"DataRange1d\"},\"y_scale\":{\"id\":\"6a2dd1d6-d84c-4af7-ba9f-e2d099ed09d4\",\"type\":\"LinearScale\"}},\"id\":\"94903e1e-e4d7-4bdc-9777-299ce1d1aa7c\",\"subtype\":\"Figure\",\"type\":\"Plot\"},{\"attributes\":{},\"id\":\"fcfc234d-7d6a-4ae7-9b2e-1744b6f6a360\",\"type\":\"LinearScale\"},{\"attributes\":{\"callback\":null},\"id\":\"c5522853-a673-4af2-b20d-f2526054379b\",\"type\":\"DataRange1d\"},{\"attributes\":{\"source\":{\"id\":\"505a1969-4204-4da4-aaea-104457afe3de\",\"type\":\"ColumnDataSource\"}},\"id\":\"96b8943f-8437-45d4-b329-1932e4d93957\",\"type\":\"CDSView\"},{\"attributes\":{\"data_source\":{\"id\":\"073af352-3322-4f8b-837d-29f79a4ccb2a\",\"type\":\"ColumnDataSource\"},\"glyph\":{\"id\":\"536e9c93-93be-4468-91b7-84b5082365ec\",\"type\":\"Line\"},\"hover_glyph\":null,\"muted_glyph\":null,\"nonselection_glyph\":{\"id\":\"538abd76-0e27-49d9-b40f-21294dc4125f\",\"type\":\"Line\"},\"selection_glyph\":null,\"view\":{\"id\":\"4d4578a2-f262-4ede-8122-415b4e67ce9d\",\"type\":\"CDSView\"}},\"id\":\"0a0ee362-15c8-4134-8bc6-168a31985423\",\"type\":\"GlyphRenderer\"},{\"attributes\":{},\"id\":\"f3dc7a29-5fd7-4664-8b24-10ea6333b134\",\"type\":\"BasicTickFormatter\"},{\"attributes\":{\"formatter\":{\"id\":\"03f8308c-98dd-460c-828c-c915df1b1beb\",\"type\":\"BasicTickFormatter\"},\"plot\":{\"id\":\"94903e1e-e4d7-4bdc-9777-299ce1d1aa7c\",\"subtype\":\"Figure\",\"type\":\"Plot\"},\"ticker\":{\"id\":\"ac1352a6-48e2-49f1-b0f2-7287ca782724\",\"type\":\"BasicTicker\"}},\"id\":\"c6cc0711-e818-41b7-b0d6-5ac574dc454e\",\"type\":\"LinearAxis\"},{\"attributes\":{},\"id\":\"aa9a2f17-84d3-4dca-b721-59dc7b6fbfcf\",\"type\":\"BasicTicker\"},{\"attributes\":{\"label\":{\"value\":\"Severidad\"},\"renderers\":[{\"id\":\"87b12fc7-d478-4b5a-b0ae-851e62b1d4ed\",\"type\":\"GlyphRenderer\"}]},\"id\":\"775a1dca-46c2-4741-8c54-c5ef366bc4db\",\"type\":\"LegendItem\"},{\"attributes\":{\"active_drag\":\"auto\",\"active_inspect\":\"auto\",\"active_scroll\":\"auto\",\"active_tap\":\"auto\"},\"id\":\"a3e98f8c-5c8a-4733-8b7f-751432f03f94\",\"type\":\"Toolbar\"},{\"attributes\":{\"items\":[{\"id\":\"c2a447dc-efab-4920-a93b-3386f84e6cf3\",\"type\":\"LegendItem\"},{\"id\":\"853bc9ca-3c8c-45ef-9cfc-1a2c5c25f968\",\"type\":\"LegendItem\"},{\"id\":\"775a1dca-46c2-4741-8c54-c5ef366bc4db\",\"type\":\"LegendItem\"}],\"plot\":{\"id\":\"94903e1e-e4d7-4bdc-9777-299ce1d1aa7c\",\"subtype\":\"Figure\",\"type\":\"Plot\"}},\"id\":\"41b358e1-4c80-424b-ad61-f6e37ee35719\",\"type\":\"Legend\"},{\"attributes\":{},\"id\":\"ac1352a6-48e2-49f1-b0f2-7287ca782724\",\"type\":\"BasicTicker\"},{\"attributes\":{\"callback\":null,\"column_names\":[\"x\",\"y\"],\"data\":{\"x\":[\"2015\",\"2016\",\"2017\",\"    2007 (2)\",\"2008\",\"   2009 (2)\",\"2010\",\"2011\",\"2012\",\"2013\",\"2014\",\"2015\",\"2016\",\"2017\",\"2014\",\"2015\",\"2016\",\"2007\",\"2008\",\"2009\",\"2010\",\"2011\",\"2012\",\"2013\",\"2014\",\"2015\",\"2016\"],\"y\":[\"8.9\",\"9.9\",\"9.1\",\"-\",\"14.2\",\"-\",\"13.7\",\"11.4\",\"9.4\",\"8.4\",\"8.5\",\"7.7\",\"8.6\",\"8.3\",\"8.7\",\"7.7\",\"8.1\",\"15.3\",\"14.5\",\"14.5\",\"12.7\",\"10.8\",\"10.5\",\"9\",\"7.9\",\"8.5\",\"8.6\"]}},\"id\":\"073af352-3322-4f8b-837d-29f79a4ccb2a\",\"type\":\"ColumnDataSource\"},{\"attributes\":{\"callback\":null},\"id\":\"05703bab-1bbb-426e-8393-cd45a3266f1d\",\"type\":\"DataRange1d\"},{\"attributes\":{\"line_color\":{\"value\":\"#f4d341\"},\"line_width\":{\"value\":5},\"x\":{\"field\":\"x\"},\"y\":{\"field\":\"y\"}},\"id\":\"6d96e353-7049-48ff-b6a4-28445742fe95\",\"type\":\"Line\"},{\"attributes\":{\"callback\":null,\"column_names\":[\"x\",\"y\"],\"data\":{\"x\":[\"2015\",\"2016\",\"2017\",\"    2007 (2)\",\"2008\",\"   2009 (2)\",\"2010\",\"2011\",\"2012\",\"2013\",\"2014\",\"2015\",\"2016\",\"2017\",\"2014\",\"2015\",\"2016\",\"2007\",\"2008\",\"2009\",\"2010\",\"2011\",\"2012\",\"2013\",\"2014\",\"2015\",\"2016\"],\"y\":[\"4.7\",\"5.5\",\"4.8\",\"-\",\"8\",\"-\",\"7.8\",\"6.2\",\"4.9\",\"4.4\",\"4.2\",\"3.9\",\"4.6\",\"4.4\",\"4.4\",\"3.9\",\"4.2\",\"8.7\",\"8.1\",\"8\",\"6.8\",\"5.7\",\"5.8\",\"4.5\",\"4\",\"4.5\",\"4.7\"]}},\"id\":\"c7b49abb-f5a5-4718-a549-523d1996245b\",\"type\":\"ColumnDataSource\"},{\"attributes\":{\"line_color\":{\"value\":\"#f44171\"},\"line_width\":{\"value\":5},\"x\":{\"field\":\"x\"},\"y\":{\"field\":\"y\"}},\"id\":\"5a6cccb1-a089-4019-aa01-5407651e52ae\",\"type\":\"Line\"}],\"root_ids\":[\"94903e1e-e4d7-4bdc-9777-299ce1d1aa7c\"]},\"title\":\"Bokeh Application\",\"version\":\"0.12.10\"}};\n",
       "    var render_items = [{\"docid\":\"63a15f7b-0c65-43a2-9d56-a9d60f9a5b1b\",\"elementid\":\"5bf12804-4462-4985-96e7-9e0dcd1419f0\",\"modelid\":\"94903e1e-e4d7-4bdc-9777-299ce1d1aa7c\"}];\n",
       "\n",
       "    root.Bokeh.embed.embed_items(docs_json, render_items);\n",
       "  }\n",
       "\n",
       "  if (root.Bokeh !== undefined) {\n",
       "    embed_document(root);\n",
       "  } else {\n",
       "    var attempts = 0;\n",
       "    var timer = setInterval(function(root) {\n",
       "      if (root.Bokeh !== undefined) {\n",
       "        embed_document(root);\n",
       "        clearInterval(timer);\n",
       "      }\n",
       "      attempts++;\n",
       "      if (attempts > 100) {\n",
       "        console.log(\"Bokeh: ERROR: Unable to embed document because BokehJS library is missing\")\n",
       "        clearInterval(timer);\n",
       "      }\n",
       "    }, 10, root)\n",
       "  }\n",
       "})(window);"
      ],
      "application/vnd.bokehjs_exec.v0+json": ""
     },
     "metadata": {
      "application/vnd.bokehjs_exec.v0+json": {
       "id": "94903e1e-e4d7-4bdc-9777-299ce1d1aa7c"
      }
     },
     "output_type": "display_data"
    }
   ],
   "source": [
    "show(graph_line)"
   ]
  },
  {
   "cell_type": "code",
   "execution_count": 53,
   "metadata": {},
   "outputs": [],
   "source": [
    "op = dict( \n",
    "    plot_width=300, plot_height=250, \n",
    "    tools='' \n",
    ")"
   ]
  },
  {
   "cell_type": "code",
   "execution_count": 73,
   "metadata": {},
   "outputs": [],
   "source": [
    "graph_bar_1 = figure(\n",
    "    title='Incidencia', \n",
    "    **op \n",
    ")\n",
    "grafico_2 = figure(title='Brecha', **op)\n",
    "grafico_3 = figure(title='Severidad', **op)"
   ]
  },
  {
   "cell_type": "code",
   "execution_count": 74,
   "metadata": {},
   "outputs": [
    {
     "data": {
      "text/html": [
       "<div style=\"display: table;\"><div style=\"display: table-row;\"><div style=\"display: table-cell;\"><b title=\"bokeh.models.renderers.GlyphRenderer\">GlyphRenderer</b>(</div><div style=\"display: table-cell;\">id&nbsp;=&nbsp;'15645c62-3a34-4862-b2c4-581da7ef96c0', <span id=\"7a51e24d-5108-4a52-8615-9c8d5dbd0fd7\" style=\"cursor: pointer;\">&hellip;)</span></div></div><div class=\"09da4d11-eed1-4318-a6c1-12144d33c8ce\" style=\"display: none;\"><div style=\"display: table-cell;\"></div><div style=\"display: table-cell;\">data_source&nbsp;=&nbsp;ColumnDataSource(id='6d00ca21-6762-4bd2-acd1-f9b903e0b95f', ...),</div></div><div class=\"09da4d11-eed1-4318-a6c1-12144d33c8ce\" style=\"display: none;\"><div style=\"display: table-cell;\"></div><div style=\"display: table-cell;\">glyph&nbsp;=&nbsp;VBar(id='b8b99d23-7567-4bac-accf-ca43b7c8570a', ...),</div></div><div class=\"09da4d11-eed1-4318-a6c1-12144d33c8ce\" style=\"display: none;\"><div style=\"display: table-cell;\"></div><div style=\"display: table-cell;\">hover_glyph&nbsp;=&nbsp;None,</div></div><div class=\"09da4d11-eed1-4318-a6c1-12144d33c8ce\" style=\"display: none;\"><div style=\"display: table-cell;\"></div><div style=\"display: table-cell;\">js_event_callbacks&nbsp;=&nbsp;{},</div></div><div class=\"09da4d11-eed1-4318-a6c1-12144d33c8ce\" style=\"display: none;\"><div style=\"display: table-cell;\"></div><div style=\"display: table-cell;\">js_property_callbacks&nbsp;=&nbsp;{},</div></div><div class=\"09da4d11-eed1-4318-a6c1-12144d33c8ce\" style=\"display: none;\"><div style=\"display: table-cell;\"></div><div style=\"display: table-cell;\">level&nbsp;=&nbsp;'glyph',</div></div><div class=\"09da4d11-eed1-4318-a6c1-12144d33c8ce\" style=\"display: none;\"><div style=\"display: table-cell;\"></div><div style=\"display: table-cell;\">muted&nbsp;=&nbsp;False,</div></div><div class=\"09da4d11-eed1-4318-a6c1-12144d33c8ce\" style=\"display: none;\"><div style=\"display: table-cell;\"></div><div style=\"display: table-cell;\">muted_glyph&nbsp;=&nbsp;None,</div></div><div class=\"09da4d11-eed1-4318-a6c1-12144d33c8ce\" style=\"display: none;\"><div style=\"display: table-cell;\"></div><div style=\"display: table-cell;\">name&nbsp;=&nbsp;None,</div></div><div class=\"09da4d11-eed1-4318-a6c1-12144d33c8ce\" style=\"display: none;\"><div style=\"display: table-cell;\"></div><div style=\"display: table-cell;\">nonselection_glyph&nbsp;=&nbsp;VBar(id='e31cfe1c-637d-4066-9587-92339c500483', ...),</div></div><div class=\"09da4d11-eed1-4318-a6c1-12144d33c8ce\" style=\"display: none;\"><div style=\"display: table-cell;\"></div><div style=\"display: table-cell;\">selection_glyph&nbsp;=&nbsp;None,</div></div><div class=\"09da4d11-eed1-4318-a6c1-12144d33c8ce\" style=\"display: none;\"><div style=\"display: table-cell;\"></div><div style=\"display: table-cell;\">subscribed_events&nbsp;=&nbsp;[],</div></div><div class=\"09da4d11-eed1-4318-a6c1-12144d33c8ce\" style=\"display: none;\"><div style=\"display: table-cell;\"></div><div style=\"display: table-cell;\">tags&nbsp;=&nbsp;[],</div></div><div class=\"09da4d11-eed1-4318-a6c1-12144d33c8ce\" style=\"display: none;\"><div style=\"display: table-cell;\"></div><div style=\"display: table-cell;\">view&nbsp;=&nbsp;CDSView(id='3b3cc501-c87a-4ef3-bc6d-d00edd0028da', ...),</div></div><div class=\"09da4d11-eed1-4318-a6c1-12144d33c8ce\" style=\"display: none;\"><div style=\"display: table-cell;\"></div><div style=\"display: table-cell;\">visible&nbsp;=&nbsp;True,</div></div><div class=\"09da4d11-eed1-4318-a6c1-12144d33c8ce\" style=\"display: none;\"><div style=\"display: table-cell;\"></div><div style=\"display: table-cell;\">x_range_name&nbsp;=&nbsp;'default',</div></div><div class=\"09da4d11-eed1-4318-a6c1-12144d33c8ce\" style=\"display: none;\"><div style=\"display: table-cell;\"></div><div style=\"display: table-cell;\">y_range_name&nbsp;=&nbsp;'default')</div></div></div>\n",
       "<script>\n",
       "(function() {\n",
       "  var expanded = false;\n",
       "  var ellipsis = document.getElementById(\"7a51e24d-5108-4a52-8615-9c8d5dbd0fd7\");\n",
       "  ellipsis.addEventListener(\"click\", function() {\n",
       "    var rows = document.getElementsByClassName(\"09da4d11-eed1-4318-a6c1-12144d33c8ce\");\n",
       "    for (var i = 0; i < rows.length; i++) {\n",
       "      var el = rows[i];\n",
       "      el.style.display = expanded ? \"none\" : \"table-row\";\n",
       "    }\n",
       "    ellipsis.innerHTML = expanded ? \"&hellip;)\" : \"&lsaquo;&lsaquo;&lsaquo;\";\n",
       "    expanded = !expanded;\n",
       "  });\n",
       "})();\n",
       "</script>\n"
      ],
      "text/plain": [
       "GlyphRenderer(id='15645c62-3a34-4862-b2c4-581da7ef96c0', ...)"
      ]
     },
     "execution_count": 74,
     "metadata": {},
     "output_type": "execute_result"
    }
   ],
   "source": [
    "graph_bar_1.vbar(\n",
    "    x=datos.Anios, \n",
    "    top=datos.Incidencia, \n",
    "    width=0.7, \n",
    "    line_color=\"red\", \n",
    "    color=\"#f4d341\" \n",
    ")\n",
    "grafico_2.vbar(x=datos.Anios, top=datos.Brecha, width=0.7, line_color=\"red\", color=\"#42f4bf\")\n",
    "grafico_3.vbar(x=datos.Anios, top=datos.Severidad, width=0.7, line_color=\"red\", color=\"#f44171\")"
   ]
  },
  {
   "cell_type": "code",
   "execution_count": 75,
   "metadata": {},
   "outputs": [
    {
     "data": {
      "text/html": [
       "\n",
       "<div class=\"bk-root\">\n",
       "    <div class=\"bk-plotdiv\" id=\"47dab9d6-f896-494c-bd34-6042db93288f\"></div>\n",
       "</div>"
      ]
     },
     "metadata": {},
     "output_type": "display_data"
    },
    {
     "data": {
      "application/javascript": [
       "(function(root) {\n",
       "  function embed_document(root) {\n",
       "    var docs_json = {\"509f6177-c077-47fa-ba21-cf7c6ca99ce3\":{\"roots\":{\"references\":[{\"attributes\":{\"plot\":{\"id\":\"bc1ef6e9-d7ad-4d33-9347-f5407a3da2da\",\"subtype\":\"Figure\",\"type\":\"Plot\"},\"ticker\":{\"id\":\"7a2e93bc-4bed-49f0-aac4-d03a9fc089b9\",\"type\":\"BasicTicker\"}},\"id\":\"79c024fe-bf06-4c2d-b65b-e81757294e56\",\"type\":\"Grid\"},{\"attributes\":{},\"id\":\"6cb272b3-adfa-4532-b03f-551f0c253d52\",\"type\":\"BasicTicker\"},{\"attributes\":{\"plot\":{\"id\":\"fe5d7629-3c61-407b-8d7c-432fce3704b5\",\"subtype\":\"Figure\",\"type\":\"Plot\"},\"ticker\":{\"id\":\"85c64607-30a4-4d7c-bf6f-3dca47f39358\",\"type\":\"BasicTicker\"}},\"id\":\"05548e49-9ba9-46ce-9f88-a8062cf657b6\",\"type\":\"Grid\"},{\"attributes\":{\"active_drag\":\"auto\",\"active_inspect\":\"auto\",\"active_scroll\":\"auto\",\"active_tap\":\"auto\"},\"id\":\"33e36b59-30d7-467c-b9af-14c819026ae6\",\"type\":\"Toolbar\"},{\"attributes\":{\"data_source\":{\"id\":\"171db96c-43e0-4421-be4d-2db6a1c84c75\",\"type\":\"ColumnDataSource\"},\"glyph\":{\"id\":\"ff246735-a54c-403f-9da7-f28a0a4dfa97\",\"type\":\"VBar\"},\"hover_glyph\":null,\"muted_glyph\":null,\"nonselection_glyph\":{\"id\":\"7273c7e2-b536-4405-8a5e-7eff46766736\",\"type\":\"VBar\"},\"selection_glyph\":null,\"view\":{\"id\":\"77468214-3315-40c0-8fca-ea36a58d3c1e\",\"type\":\"CDSView\"}},\"id\":\"df823189-2788-46d7-bbec-90bb24c81b5c\",\"type\":\"GlyphRenderer\"},{\"attributes\":{},\"id\":\"c39426e4-63b9-4866-b7a1-066190836ad4\",\"type\":\"BasicTicker\"},{\"attributes\":{\"children\":[{\"id\":\"d49b4b07-6ec3-404e-b767-595de644f69b\",\"type\":\"ToolbarBox\"},{\"id\":\"b0b45fb7-7dd4-480e-9080-bc76377f63e3\",\"type\":\"Column\"}]},\"id\":\"3b6343e1-21bb-4914-9e74-4259f219b0e0\",\"type\":\"Column\"},{\"attributes\":{\"callback\":null},\"id\":\"fad3dfb1-8e0a-490f-840a-168adf636b64\",\"type\":\"DataRange1d\"},{\"attributes\":{\"fill_alpha\":{\"value\":0.1},\"fill_color\":{\"value\":\"#1f77b4\"},\"line_alpha\":{\"value\":0.1},\"line_color\":{\"value\":\"#1f77b4\"},\"top\":{\"field\":\"top\"},\"width\":{\"value\":0.7},\"x\":{\"field\":\"x\"}},\"id\":\"7273c7e2-b536-4405-8a5e-7eff46766736\",\"type\":\"VBar\"},{\"attributes\":{\"source\":{\"id\":\"171db96c-43e0-4421-be4d-2db6a1c84c75\",\"type\":\"ColumnDataSource\"}},\"id\":\"77468214-3315-40c0-8fca-ea36a58d3c1e\",\"type\":\"CDSView\"},{\"attributes\":{\"dimension\":1,\"plot\":{\"id\":\"bc1ef6e9-d7ad-4d33-9347-f5407a3da2da\",\"subtype\":\"Figure\",\"type\":\"Plot\"},\"ticker\":{\"id\":\"c39426e4-63b9-4866-b7a1-066190836ad4\",\"type\":\"BasicTicker\"}},\"id\":\"9763cdcb-9829-43f3-b152-7a716c12fab6\",\"type\":\"Grid\"},{\"attributes\":{\"plot\":null,\"text\":\"Brecha\"},\"id\":\"70c378e1-204b-481f-8ec7-910aaae7f35c\",\"type\":\"Title\"},{\"attributes\":{\"data_source\":{\"id\":\"6d00ca21-6762-4bd2-acd1-f9b903e0b95f\",\"type\":\"ColumnDataSource\"},\"glyph\":{\"id\":\"b8b99d23-7567-4bac-accf-ca43b7c8570a\",\"type\":\"VBar\"},\"hover_glyph\":null,\"muted_glyph\":null,\"nonselection_glyph\":{\"id\":\"e31cfe1c-637d-4066-9587-92339c500483\",\"type\":\"VBar\"},\"selection_glyph\":null,\"view\":{\"id\":\"3b3cc501-c87a-4ef3-bc6d-d00edd0028da\",\"type\":\"CDSView\"}},\"id\":\"15645c62-3a34-4862-b2c4-581da7ef96c0\",\"type\":\"GlyphRenderer\"},{\"attributes\":{\"below\":[{\"id\":\"d08e7fcc-7ddf-42fb-9f82-2d33c4c7eeef\",\"type\":\"LinearAxis\"}],\"left\":[{\"id\":\"3ff3de31-b159-474e-af60-d84d3cc51a32\",\"type\":\"LinearAxis\"}],\"plot_height\":250,\"plot_width\":300,\"renderers\":[{\"id\":\"d08e7fcc-7ddf-42fb-9f82-2d33c4c7eeef\",\"type\":\"LinearAxis\"},{\"id\":\"05548e49-9ba9-46ce-9f88-a8062cf657b6\",\"type\":\"Grid\"},{\"id\":\"3ff3de31-b159-474e-af60-d84d3cc51a32\",\"type\":\"LinearAxis\"},{\"id\":\"c87a70e9-830f-4d53-b8d6-260fdd9280cf\",\"type\":\"Grid\"},{\"id\":\"28fb491e-64bd-4739-a6dc-42d620510e61\",\"type\":\"GlyphRenderer\"}],\"title\":{\"id\":\"70c378e1-204b-481f-8ec7-910aaae7f35c\",\"type\":\"Title\"},\"toolbar\":{\"id\":\"fc3b2ffa-70e0-4620-8e27-b9022863318e\",\"type\":\"Toolbar\"},\"toolbar_location\":null,\"x_range\":{\"id\":\"c1ae49be-be32-4c71-b439-270cff87594b\",\"type\":\"DataRange1d\"},\"x_scale\":{\"id\":\"620a9654-5526-4e7f-a751-af55b55c06a9\",\"type\":\"LinearScale\"},\"y_range\":{\"id\":\"57544af0-2dfa-47ce-97c3-9191788ba025\",\"type\":\"DataRange1d\"},\"y_scale\":{\"id\":\"739c3ca5-9852-49b7-a3c3-155cd46e343a\",\"type\":\"LinearScale\"}},\"id\":\"fe5d7629-3c61-407b-8d7c-432fce3704b5\",\"subtype\":\"Figure\",\"type\":\"Plot\"},{\"attributes\":{\"active_drag\":\"auto\",\"active_inspect\":\"auto\",\"active_scroll\":\"auto\",\"active_tap\":\"auto\"},\"id\":\"6d2e2788-9730-4270-af0a-3d631e423215\",\"type\":\"Toolbar\"},{\"attributes\":{\"active_drag\":\"auto\",\"active_inspect\":\"auto\",\"active_scroll\":\"auto\",\"active_tap\":\"auto\"},\"id\":\"fc3b2ffa-70e0-4620-8e27-b9022863318e\",\"type\":\"Toolbar\"},{\"attributes\":{\"plot\":{\"id\":\"5f339e2c-c719-4ffe-a9e5-7a3a64f5f2f8\",\"subtype\":\"Figure\",\"type\":\"Plot\"},\"ticker\":{\"id\":\"6cb272b3-adfa-4532-b03f-551f0c253d52\",\"type\":\"BasicTicker\"}},\"id\":\"88d0a13b-2350-4032-b344-ec145487c1a6\",\"type\":\"Grid\"},{\"attributes\":{\"data_source\":{\"id\":\"8cc4ba6e-aeff-4c28-8dac-ca88326b523b\",\"type\":\"ColumnDataSource\"},\"glyph\":{\"id\":\"0497b67a-4985-4ac3-95f7-a5a54c104d20\",\"type\":\"VBar\"},\"hover_glyph\":null,\"muted_glyph\":null,\"nonselection_glyph\":{\"id\":\"888053a1-2d41-48c7-99d0-d66f7db18669\",\"type\":\"VBar\"},\"selection_glyph\":null,\"view\":{\"id\":\"17335e98-7a28-4ef4-b6a9-1721125c7d02\",\"type\":\"CDSView\"}},\"id\":\"28fb491e-64bd-4739-a6dc-42d620510e61\",\"type\":\"GlyphRenderer\"},{\"attributes\":{\"callback\":null},\"id\":\"c1ae49be-be32-4c71-b439-270cff87594b\",\"type\":\"DataRange1d\"},{\"attributes\":{\"source\":{\"id\":\"8cc4ba6e-aeff-4c28-8dac-ca88326b523b\",\"type\":\"ColumnDataSource\"}},\"id\":\"17335e98-7a28-4ef4-b6a9-1721125c7d02\",\"type\":\"CDSView\"},{\"attributes\":{\"fill_alpha\":{\"value\":0.1},\"fill_color\":{\"value\":\"#1f77b4\"},\"line_alpha\":{\"value\":0.1},\"line_color\":{\"value\":\"#1f77b4\"},\"top\":{\"field\":\"top\"},\"width\":{\"value\":0.7},\"x\":{\"field\":\"x\"}},\"id\":\"888053a1-2d41-48c7-99d0-d66f7db18669\",\"type\":\"VBar\"},{\"attributes\":{\"callback\":null},\"id\":\"57544af0-2dfa-47ce-97c3-9191788ba025\",\"type\":\"DataRange1d\"},{\"attributes\":{\"fill_alpha\":{\"value\":0.1},\"fill_color\":{\"value\":\"#1f77b4\"},\"line_alpha\":{\"value\":0.1},\"line_color\":{\"value\":\"#1f77b4\"},\"top\":{\"field\":\"top\"},\"width\":{\"value\":0.7},\"x\":{\"field\":\"x\"}},\"id\":\"e31cfe1c-637d-4066-9587-92339c500483\",\"type\":\"VBar\"},{\"attributes\":{\"children\":[{\"id\":\"a0c97db2-469d-4868-b860-22d0a9926311\",\"type\":\"Row\"}]},\"id\":\"b0b45fb7-7dd4-480e-9080-bc76377f63e3\",\"type\":\"Column\"},{\"attributes\":{},\"id\":\"85c64607-30a4-4d7c-bf6f-3dca47f39358\",\"type\":\"BasicTicker\"},{\"attributes\":{},\"id\":\"480bd6fc-8f9c-4405-b5d3-7c9ac6a1866b\",\"type\":\"BasicTicker\"},{\"attributes\":{\"callback\":null},\"id\":\"83027ab8-6138-4a3e-9d71-6e5964a758ae\",\"type\":\"DataRange1d\"},{\"attributes\":{\"callback\":null,\"column_names\":[\"top\",\"x\"],\"data\":{\"top\":[\"24.1\",\"25.4\",\"24.4\",\"-\",\"35\",\"-\",\"33\",\"29.6\",\"25.3\",\"23.7\",\"24.5\",\"22\",\"23.7\",\"23.1\",\"24.8\",\"22.4\",\"22.6\",\"36.7\",\"35.1\",\"36\",\"32.8\",\"28.6\",\"27.3\",\"25.6\",\"22.5\",\"23.3\",\"22.9\"],\"x\":[\"2015\",\"2016\",\"2017\",\"    2007 (2)\",\"2008\",\"   2009 (2)\",\"2010\",\"2011\",\"2012\",\"2013\",\"2014\",\"2015\",\"2016\",\"2017\",\"2014\",\"2015\",\"2016\",\"2007\",\"2008\",\"2009\",\"2010\",\"2011\",\"2012\",\"2013\",\"2014\",\"2015\",\"2016\"]}},\"id\":\"171db96c-43e0-4421-be4d-2db6a1c84c75\",\"type\":\"ColumnDataSource\"},{\"attributes\":{},\"id\":\"181250fd-3806-4c90-9aff-d491e96dcad3\",\"type\":\"BasicTickFormatter\"},{\"attributes\":{\"plot\":null,\"text\":\"Incidencia\"},\"id\":\"de0843c1-5035-47f4-8b04-7f6218624895\",\"type\":\"Title\"},{\"attributes\":{},\"id\":\"72fc3ae3-75bd-40c2-8a30-96b2f1c7c449\",\"type\":\"LinearScale\"},{\"attributes\":{\"formatter\":{\"id\":\"181250fd-3806-4c90-9aff-d491e96dcad3\",\"type\":\"BasicTickFormatter\"},\"plot\":{\"id\":\"fe5d7629-3c61-407b-8d7c-432fce3704b5\",\"subtype\":\"Figure\",\"type\":\"Plot\"},\"ticker\":{\"id\":\"e56758f8-0948-42fd-87c6-adc93577a975\",\"type\":\"BasicTicker\"}},\"id\":\"3ff3de31-b159-474e-af60-d84d3cc51a32\",\"type\":\"LinearAxis\"},{\"attributes\":{\"formatter\":{\"id\":\"34d9b326-3f07-4428-849d-cc205a7fa7d9\",\"type\":\"BasicTickFormatter\"},\"plot\":{\"id\":\"5f339e2c-c719-4ffe-a9e5-7a3a64f5f2f8\",\"subtype\":\"Figure\",\"type\":\"Plot\"},\"ticker\":{\"id\":\"6cb272b3-adfa-4532-b03f-551f0c253d52\",\"type\":\"BasicTicker\"}},\"id\":\"85b7dd60-7004-4ca7-b5e7-f4dbaf15afe1\",\"type\":\"LinearAxis\"},{\"attributes\":{\"formatter\":{\"id\":\"3a4a024f-ed04-47a2-b953-4ac046ec5df2\",\"type\":\"BasicTickFormatter\"},\"plot\":{\"id\":\"5f339e2c-c719-4ffe-a9e5-7a3a64f5f2f8\",\"subtype\":\"Figure\",\"type\":\"Plot\"},\"ticker\":{\"id\":\"480bd6fc-8f9c-4405-b5d3-7c9ac6a1866b\",\"type\":\"BasicTicker\"}},\"id\":\"c0b5723e-20a3-4ad7-ba44-82a9161274d5\",\"type\":\"LinearAxis\"},{\"attributes\":{\"dimension\":1,\"plot\":{\"id\":\"5f339e2c-c719-4ffe-a9e5-7a3a64f5f2f8\",\"subtype\":\"Figure\",\"type\":\"Plot\"},\"ticker\":{\"id\":\"480bd6fc-8f9c-4405-b5d3-7c9ac6a1866b\",\"type\":\"BasicTicker\"}},\"id\":\"f36cdea5-501b-463e-bb94-83956d2f2100\",\"type\":\"Grid\"},{\"attributes\":{},\"id\":\"7a2e93bc-4bed-49f0-aac4-d03a9fc089b9\",\"type\":\"BasicTicker\"},{\"attributes\":{\"callback\":null,\"column_names\":[\"top\",\"x\"],\"data\":{\"top\":[\"4.7\",\"5.5\",\"4.8\",\"-\",\"8\",\"-\",\"7.8\",\"6.2\",\"4.9\",\"4.4\",\"4.2\",\"3.9\",\"4.6\",\"4.4\",\"4.4\",\"3.9\",\"4.2\",\"8.7\",\"8.1\",\"8\",\"6.8\",\"5.7\",\"5.8\",\"4.5\",\"4\",\"4.5\",\"4.7\"],\"x\":[\"2015\",\"2016\",\"2017\",\"    2007 (2)\",\"2008\",\"   2009 (2)\",\"2010\",\"2011\",\"2012\",\"2013\",\"2014\",\"2015\",\"2016\",\"2017\",\"2014\",\"2015\",\"2016\",\"2007\",\"2008\",\"2009\",\"2010\",\"2011\",\"2012\",\"2013\",\"2014\",\"2015\",\"2016\"]}},\"id\":\"6d00ca21-6762-4bd2-acd1-f9b903e0b95f\",\"type\":\"ColumnDataSource\"},{\"attributes\":{},\"id\":\"34d9b326-3f07-4428-849d-cc205a7fa7d9\",\"type\":\"BasicTickFormatter\"},{\"attributes\":{\"dimension\":1,\"plot\":{\"id\":\"fe5d7629-3c61-407b-8d7c-432fce3704b5\",\"subtype\":\"Figure\",\"type\":\"Plot\"},\"ticker\":{\"id\":\"e56758f8-0948-42fd-87c6-adc93577a975\",\"type\":\"BasicTicker\"}},\"id\":\"c87a70e9-830f-4d53-b8d6-260fdd9280cf\",\"type\":\"Grid\"},{\"attributes\":{},\"id\":\"316e6e09-860a-4c8b-9010-28189d6fea75\",\"type\":\"BasicTickFormatter\"},{\"attributes\":{\"below\":[{\"id\":\"85b7dd60-7004-4ca7-b5e7-f4dbaf15afe1\",\"type\":\"LinearAxis\"}],\"left\":[{\"id\":\"c0b5723e-20a3-4ad7-ba44-82a9161274d5\",\"type\":\"LinearAxis\"}],\"plot_height\":250,\"plot_width\":300,\"renderers\":[{\"id\":\"85b7dd60-7004-4ca7-b5e7-f4dbaf15afe1\",\"type\":\"LinearAxis\"},{\"id\":\"88d0a13b-2350-4032-b344-ec145487c1a6\",\"type\":\"Grid\"},{\"id\":\"c0b5723e-20a3-4ad7-ba44-82a9161274d5\",\"type\":\"LinearAxis\"},{\"id\":\"f36cdea5-501b-463e-bb94-83956d2f2100\",\"type\":\"Grid\"},{\"id\":\"15645c62-3a34-4862-b2c4-581da7ef96c0\",\"type\":\"GlyphRenderer\"}],\"title\":{\"id\":\"2368e250-906a-4ef8-8958-ecf483f5d905\",\"type\":\"Title\"},\"toolbar\":{\"id\":\"33e36b59-30d7-467c-b9af-14c819026ae6\",\"type\":\"Toolbar\"},\"toolbar_location\":null,\"x_range\":{\"id\":\"fad3dfb1-8e0a-490f-840a-168adf636b64\",\"type\":\"DataRange1d\"},\"x_scale\":{\"id\":\"8435f19e-e7c4-4502-aeda-e7082578aad1\",\"type\":\"LinearScale\"},\"y_range\":{\"id\":\"2fc905bb-089c-486e-a998-48b6d1ba652f\",\"type\":\"DataRange1d\"},\"y_scale\":{\"id\":\"11f86970-8bc8-47fc-b930-893b24e3d2f0\",\"type\":\"LinearScale\"}},\"id\":\"5f339e2c-c719-4ffe-a9e5-7a3a64f5f2f8\",\"subtype\":\"Figure\",\"type\":\"Plot\"},{\"attributes\":{\"formatter\":{\"id\":\"6711ef59-3a30-4e31-af02-f5b27bba19ee\",\"type\":\"BasicTickFormatter\"},\"plot\":{\"id\":\"bc1ef6e9-d7ad-4d33-9347-f5407a3da2da\",\"subtype\":\"Figure\",\"type\":\"Plot\"},\"ticker\":{\"id\":\"7a2e93bc-4bed-49f0-aac4-d03a9fc089b9\",\"type\":\"BasicTicker\"}},\"id\":\"278ce5b8-a622-43db-b920-45f8fa6efc6d\",\"type\":\"LinearAxis\"},{\"attributes\":{\"sizing_mode\":\"scale_width\",\"toolbar_location\":\"above\"},\"id\":\"d49b4b07-6ec3-404e-b767-595de644f69b\",\"type\":\"ToolbarBox\"},{\"attributes\":{\"callback\":null},\"id\":\"2fc905bb-089c-486e-a998-48b6d1ba652f\",\"type\":\"DataRange1d\"},{\"attributes\":{\"formatter\":{\"id\":\"316e6e09-860a-4c8b-9010-28189d6fea75\",\"type\":\"BasicTickFormatter\"},\"plot\":{\"id\":\"bc1ef6e9-d7ad-4d33-9347-f5407a3da2da\",\"subtype\":\"Figure\",\"type\":\"Plot\"},\"ticker\":{\"id\":\"c39426e4-63b9-4866-b7a1-066190836ad4\",\"type\":\"BasicTicker\"}},\"id\":\"aad54202-ead3-4c67-a316-10de477056f2\",\"type\":\"LinearAxis\"},{\"attributes\":{\"formatter\":{\"id\":\"3959f823-5d81-4aa7-98de-ab8254f35dc0\",\"type\":\"BasicTickFormatter\"},\"plot\":{\"id\":\"fe5d7629-3c61-407b-8d7c-432fce3704b5\",\"subtype\":\"Figure\",\"type\":\"Plot\"},\"ticker\":{\"id\":\"85c64607-30a4-4d7c-bf6f-3dca47f39358\",\"type\":\"BasicTicker\"}},\"id\":\"d08e7fcc-7ddf-42fb-9f82-2d33c4c7eeef\",\"type\":\"LinearAxis\"},{\"attributes\":{},\"id\":\"11f86970-8bc8-47fc-b930-893b24e3d2f0\",\"type\":\"LinearScale\"},{\"attributes\":{\"callback\":null,\"column_names\":[\"top\",\"x\"],\"data\":{\"top\":[\"8.9\",\"9.9\",\"9.1\",\"-\",\"14.2\",\"-\",\"13.7\",\"11.4\",\"9.4\",\"8.4\",\"8.5\",\"7.7\",\"8.6\",\"8.3\",\"8.7\",\"7.7\",\"8.1\",\"15.3\",\"14.5\",\"14.5\",\"12.7\",\"10.8\",\"10.5\",\"9\",\"7.9\",\"8.5\",\"8.6\"],\"x\":[\"2015\",\"2016\",\"2017\",\"    2007 (2)\",\"2008\",\"   2009 (2)\",\"2010\",\"2011\",\"2012\",\"2013\",\"2014\",\"2015\",\"2016\",\"2017\",\"2014\",\"2015\",\"2016\",\"2007\",\"2008\",\"2009\",\"2010\",\"2011\",\"2012\",\"2013\",\"2014\",\"2015\",\"2016\"]}},\"id\":\"8cc4ba6e-aeff-4c28-8dac-ca88326b523b\",\"type\":\"ColumnDataSource\"},{\"attributes\":{},\"id\":\"3a4a024f-ed04-47a2-b953-4ac046ec5df2\",\"type\":\"BasicTickFormatter\"},{\"attributes\":{},\"id\":\"620a9654-5526-4e7f-a751-af55b55c06a9\",\"type\":\"LinearScale\"},{\"attributes\":{\"callback\":null},\"id\":\"61bb84f7-4cee-4549-a585-a9f8719bff99\",\"type\":\"DataRange1d\"},{\"attributes\":{\"fill_color\":{\"value\":\"#42f4bf\"},\"line_color\":{\"value\":\"red\"},\"top\":{\"field\":\"top\"},\"width\":{\"value\":0.7},\"x\":{\"field\":\"x\"}},\"id\":\"0497b67a-4985-4ac3-95f7-a5a54c104d20\",\"type\":\"VBar\"},{\"attributes\":{},\"id\":\"b08f4f95-8706-48ed-81e0-e50f3b72e13c\",\"type\":\"LinearScale\"},{\"attributes\":{\"fill_color\":{\"value\":\"#f44171\"},\"line_color\":{\"value\":\"red\"},\"top\":{\"field\":\"top\"},\"width\":{\"value\":0.7},\"x\":{\"field\":\"x\"}},\"id\":\"b8b99d23-7567-4bac-accf-ca43b7c8570a\",\"type\":\"VBar\"},{\"attributes\":{},\"id\":\"e56758f8-0948-42fd-87c6-adc93577a975\",\"type\":\"BasicTicker\"},{\"attributes\":{\"children\":[{\"id\":\"bc1ef6e9-d7ad-4d33-9347-f5407a3da2da\",\"subtype\":\"Figure\",\"type\":\"Plot\"},{\"id\":\"fe5d7629-3c61-407b-8d7c-432fce3704b5\",\"subtype\":\"Figure\",\"type\":\"Plot\"},{\"id\":\"5f339e2c-c719-4ffe-a9e5-7a3a64f5f2f8\",\"subtype\":\"Figure\",\"type\":\"Plot\"}]},\"id\":\"a0c97db2-469d-4868-b860-22d0a9926311\",\"type\":\"Row\"},{\"attributes\":{\"below\":[{\"id\":\"278ce5b8-a622-43db-b920-45f8fa6efc6d\",\"type\":\"LinearAxis\"}],\"left\":[{\"id\":\"aad54202-ead3-4c67-a316-10de477056f2\",\"type\":\"LinearAxis\"}],\"plot_height\":250,\"plot_width\":300,\"renderers\":[{\"id\":\"278ce5b8-a622-43db-b920-45f8fa6efc6d\",\"type\":\"LinearAxis\"},{\"id\":\"79c024fe-bf06-4c2d-b65b-e81757294e56\",\"type\":\"Grid\"},{\"id\":\"aad54202-ead3-4c67-a316-10de477056f2\",\"type\":\"LinearAxis\"},{\"id\":\"9763cdcb-9829-43f3-b152-7a716c12fab6\",\"type\":\"Grid\"},{\"id\":\"df823189-2788-46d7-bbec-90bb24c81b5c\",\"type\":\"GlyphRenderer\"}],\"title\":{\"id\":\"de0843c1-5035-47f4-8b04-7f6218624895\",\"type\":\"Title\"},\"toolbar\":{\"id\":\"6d2e2788-9730-4270-af0a-3d631e423215\",\"type\":\"Toolbar\"},\"toolbar_location\":null,\"x_range\":{\"id\":\"83027ab8-6138-4a3e-9d71-6e5964a758ae\",\"type\":\"DataRange1d\"},\"x_scale\":{\"id\":\"b08f4f95-8706-48ed-81e0-e50f3b72e13c\",\"type\":\"LinearScale\"},\"y_range\":{\"id\":\"61bb84f7-4cee-4549-a585-a9f8719bff99\",\"type\":\"DataRange1d\"},\"y_scale\":{\"id\":\"72fc3ae3-75bd-40c2-8a30-96b2f1c7c449\",\"type\":\"LinearScale\"}},\"id\":\"bc1ef6e9-d7ad-4d33-9347-f5407a3da2da\",\"subtype\":\"Figure\",\"type\":\"Plot\"},{\"attributes\":{},\"id\":\"8435f19e-e7c4-4502-aeda-e7082578aad1\",\"type\":\"LinearScale\"},{\"attributes\":{},\"id\":\"3959f823-5d81-4aa7-98de-ab8254f35dc0\",\"type\":\"BasicTickFormatter\"},{\"attributes\":{\"source\":{\"id\":\"6d00ca21-6762-4bd2-acd1-f9b903e0b95f\",\"type\":\"ColumnDataSource\"}},\"id\":\"3b3cc501-c87a-4ef3-bc6d-d00edd0028da\",\"type\":\"CDSView\"},{\"attributes\":{\"fill_color\":{\"value\":\"#f4d341\"},\"line_color\":{\"value\":\"red\"},\"top\":{\"field\":\"top\"},\"width\":{\"value\":0.7},\"x\":{\"field\":\"x\"}},\"id\":\"ff246735-a54c-403f-9da7-f28a0a4dfa97\",\"type\":\"VBar\"},{\"attributes\":{\"plot\":null,\"text\":\"Severidad\"},\"id\":\"2368e250-906a-4ef8-8958-ecf483f5d905\",\"type\":\"Title\"},{\"attributes\":{},\"id\":\"6711ef59-3a30-4e31-af02-f5b27bba19ee\",\"type\":\"BasicTickFormatter\"},{\"attributes\":{},\"id\":\"739c3ca5-9852-49b7-a3c3-155cd46e343a\",\"type\":\"LinearScale\"}],\"root_ids\":[\"3b6343e1-21bb-4914-9e74-4259f219b0e0\"]},\"title\":\"Bokeh Application\",\"version\":\"0.12.10\"}};\n",
       "    var render_items = [{\"docid\":\"509f6177-c077-47fa-ba21-cf7c6ca99ce3\",\"elementid\":\"47dab9d6-f896-494c-bd34-6042db93288f\",\"modelid\":\"3b6343e1-21bb-4914-9e74-4259f219b0e0\"}];\n",
       "\n",
       "    root.Bokeh.embed.embed_items(docs_json, render_items);\n",
       "  }\n",
       "\n",
       "  if (root.Bokeh !== undefined) {\n",
       "    embed_document(root);\n",
       "  } else {\n",
       "    var attempts = 0;\n",
       "    var timer = setInterval(function(root) {\n",
       "      if (root.Bokeh !== undefined) {\n",
       "        embed_document(root);\n",
       "        clearInterval(timer);\n",
       "      }\n",
       "      attempts++;\n",
       "      if (attempts > 100) {\n",
       "        console.log(\"Bokeh: ERROR: Unable to embed document because BokehJS library is missing\")\n",
       "        clearInterval(timer);\n",
       "      }\n",
       "    }, 10, root)\n",
       "  }\n",
       "})(window);"
      ],
      "application/vnd.bokehjs_exec.v0+json": ""
     },
     "metadata": {
      "application/vnd.bokehjs_exec.v0+json": {
       "id": "3b6343e1-21bb-4914-9e74-4259f219b0e0"
      }
     },
     "output_type": "display_data"
    }
   ],
   "source": [
    "graph_bar = gridplot([[graph_bar_1, grafico_2, grafico_3]])\n",
    "show(graph_bar)"
   ]
  },
  {
   "cell_type": "code",
   "execution_count": null,
   "metadata": {},
   "outputs": [],
   "source": []
  },
  {
   "cell_type": "code",
   "execution_count": null,
   "metadata": {},
   "outputs": [],
   "source": []
  },
  {
   "cell_type": "code",
   "execution_count": null,
   "metadata": {},
   "outputs": [],
   "source": []
  },
  {
   "cell_type": "code",
   "execution_count": null,
   "metadata": {},
   "outputs": [],
   "source": []
  },
  {
   "cell_type": "code",
   "execution_count": null,
   "metadata": {},
   "outputs": [],
   "source": []
  },
  {
   "cell_type": "code",
   "execution_count": null,
   "metadata": {},
   "outputs": [],
   "source": []
  },
  {
   "cell_type": "code",
   "execution_count": null,
   "metadata": {},
   "outputs": [],
   "source": []
  },
  {
   "cell_type": "code",
   "execution_count": null,
   "metadata": {},
   "outputs": [],
   "source": []
  },
  {
   "cell_type": "code",
   "execution_count": null,
   "metadata": {},
   "outputs": [],
   "source": []
  },
  {
   "cell_type": "code",
   "execution_count": null,
   "metadata": {},
   "outputs": [],
   "source": []
  },
  {
   "cell_type": "code",
   "execution_count": null,
   "metadata": {},
   "outputs": [],
   "source": []
  },
  {
   "cell_type": "code",
   "execution_count": null,
   "metadata": {},
   "outputs": [],
   "source": []
  },
  {
   "cell_type": "code",
   "execution_count": null,
   "metadata": {},
   "outputs": [],
   "source": []
  },
  {
   "cell_type": "code",
   "execution_count": null,
   "metadata": {},
   "outputs": [],
   "source": []
  },
  {
   "cell_type": "code",
   "execution_count": null,
   "metadata": {},
   "outputs": [],
   "source": []
  },
  {
   "cell_type": "code",
   "execution_count": null,
   "metadata": {},
   "outputs": [],
   "source": []
  },
  {
   "cell_type": "code",
   "execution_count": null,
   "metadata": {},
   "outputs": [],
   "source": []
  },
  {
   "cell_type": "code",
   "execution_count": null,
   "metadata": {},
   "outputs": [],
   "source": []
  },
  {
   "cell_type": "code",
   "execution_count": null,
   "metadata": {},
   "outputs": [],
   "source": []
  },
  {
   "cell_type": "code",
   "execution_count": null,
   "metadata": {},
   "outputs": [],
   "source": []
  },
  {
   "cell_type": "code",
   "execution_count": null,
   "metadata": {},
   "outputs": [],
   "source": []
  },
  {
   "cell_type": "code",
   "execution_count": null,
   "metadata": {},
   "outputs": [],
   "source": []
  },
  {
   "cell_type": "code",
   "execution_count": null,
   "metadata": {},
   "outputs": [],
   "source": []
  },
  {
   "cell_type": "code",
   "execution_count": null,
   "metadata": {},
   "outputs": [],
   "source": []
  },
  {
   "cell_type": "code",
   "execution_count": null,
   "metadata": {},
   "outputs": [],
   "source": []
  },
  {
   "cell_type": "code",
   "execution_count": null,
   "metadata": {},
   "outputs": [],
   "source": []
  },
  {
   "cell_type": "code",
   "execution_count": null,
   "metadata": {},
   "outputs": [],
   "source": []
  },
  {
   "cell_type": "code",
   "execution_count": null,
   "metadata": {},
   "outputs": [],
   "source": []
  },
  {
   "cell_type": "code",
   "execution_count": null,
   "metadata": {},
   "outputs": [],
   "source": []
  },
  {
   "cell_type": "code",
   "execution_count": null,
   "metadata": {},
   "outputs": [],
   "source": []
  },
  {
   "cell_type": "code",
   "execution_count": null,
   "metadata": {},
   "outputs": [],
   "source": []
  },
  {
   "cell_type": "code",
   "execution_count": null,
   "metadata": {},
   "outputs": [],
   "source": []
  },
  {
   "cell_type": "code",
   "execution_count": null,
   "metadata": {},
   "outputs": [],
   "source": []
  },
  {
   "cell_type": "code",
   "execution_count": null,
   "metadata": {},
   "outputs": [],
   "source": []
  },
  {
   "cell_type": "code",
   "execution_count": null,
   "metadata": {},
   "outputs": [],
   "source": []
  },
  {
   "cell_type": "code",
   "execution_count": null,
   "metadata": {},
   "outputs": [],
   "source": []
  },
  {
   "cell_type": "code",
   "execution_count": null,
   "metadata": {},
   "outputs": [],
   "source": []
  },
  {
   "cell_type": "code",
   "execution_count": null,
   "metadata": {},
   "outputs": [],
   "source": []
  },
  {
   "cell_type": "code",
   "execution_count": null,
   "metadata": {},
   "outputs": [],
   "source": []
  },
  {
   "cell_type": "code",
   "execution_count": null,
   "metadata": {},
   "outputs": [],
   "source": []
  },
  {
   "cell_type": "code",
   "execution_count": null,
   "metadata": {},
   "outputs": [],
   "source": []
  },
  {
   "cell_type": "code",
   "execution_count": null,
   "metadata": {},
   "outputs": [],
   "source": []
  },
  {
   "cell_type": "code",
   "execution_count": null,
   "metadata": {},
   "outputs": [],
   "source": []
  },
  {
   "cell_type": "code",
   "execution_count": null,
   "metadata": {},
   "outputs": [],
   "source": []
  },
  {
   "cell_type": "code",
   "execution_count": null,
   "metadata": {},
   "outputs": [],
   "source": []
  },
  {
   "cell_type": "code",
   "execution_count": null,
   "metadata": {},
   "outputs": [],
   "source": []
  },
  {
   "cell_type": "code",
   "execution_count": null,
   "metadata": {},
   "outputs": [],
   "source": []
  },
  {
   "cell_type": "code",
   "execution_count": null,
   "metadata": {},
   "outputs": [],
   "source": []
  },
  {
   "cell_type": "code",
   "execution_count": null,
   "metadata": {},
   "outputs": [],
   "source": []
  },
  {
   "cell_type": "code",
   "execution_count": null,
   "metadata": {},
   "outputs": [],
   "source": []
  },
  {
   "cell_type": "code",
   "execution_count": null,
   "metadata": {},
   "outputs": [],
   "source": []
  },
  {
   "cell_type": "code",
   "execution_count": null,
   "metadata": {},
   "outputs": [],
   "source": []
  },
  {
   "cell_type": "code",
   "execution_count": null,
   "metadata": {},
   "outputs": [],
   "source": []
  },
  {
   "cell_type": "code",
   "execution_count": null,
   "metadata": {},
   "outputs": [],
   "source": []
  },
  {
   "cell_type": "code",
   "execution_count": null,
   "metadata": {},
   "outputs": [],
   "source": []
  },
  {
   "cell_type": "code",
   "execution_count": null,
   "metadata": {},
   "outputs": [],
   "source": []
  },
  {
   "cell_type": "code",
   "execution_count": null,
   "metadata": {},
   "outputs": [],
   "source": []
  },
  {
   "cell_type": "code",
   "execution_count": null,
   "metadata": {},
   "outputs": [],
   "source": []
  },
  {
   "cell_type": "code",
   "execution_count": null,
   "metadata": {},
   "outputs": [],
   "source": []
  },
  {
   "cell_type": "code",
   "execution_count": null,
   "metadata": {},
   "outputs": [],
   "source": []
  },
  {
   "cell_type": "code",
   "execution_count": null,
   "metadata": {},
   "outputs": [],
   "source": []
  },
  {
   "cell_type": "code",
   "execution_count": null,
   "metadata": {},
   "outputs": [],
   "source": []
  },
  {
   "cell_type": "code",
   "execution_count": null,
   "metadata": {},
   "outputs": [],
   "source": []
  }
 ],
 "metadata": {
  "kernelspec": {
   "display_name": "Python 2",
   "language": "python",
   "name": "python2"
  },
  "language_info": {
   "codemirror_mode": {
    "name": "ipython",
    "version": 2
   },
   "file_extension": ".py",
   "mimetype": "text/x-python",
   "name": "python",
   "nbconvert_exporter": "python",
   "pygments_lexer": "ipython2",
   "version": "2.7.12"
  }
 },
 "nbformat": 4,
 "nbformat_minor": 2
}
